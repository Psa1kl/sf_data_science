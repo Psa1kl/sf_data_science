import game_v2
game_v2.score_game(game_v2.random_predict)
# Игра угадай число
from game_v2 import score_game
from game_v2 import random_predict
score_game(random_predict) #вызов функции
## Угадываем рандомно

n = 10
z = n
n = 5
x = 65

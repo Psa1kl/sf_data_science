{
 "cells": [
  {
   "cell_type": "markdown",
   "metadata": {},
   "source": [
    "# Бустинг. Практика"
   ]
  },
  {
   "cell_type": "markdown",
   "metadata": {},
   "source": [
    " В предыдущем юните мы разобрали ансамблевый метод под названием бустинг, а также рассмотрели различные его вариации. В этом юните мы решим практический кейс с использованием данного алгоритма, а также сравним изученные модификации бустинга.\n",
    "\n",
    "Мы будем работать c данными, которые содержат результаты опроса клиентов авиакомпании по поводу их удовлетворённости полётом.\n",
    "\n",
    "Нашей задачей будет предсказать удовлетворённость пассажиров."
   ]
  },
  {
   "cell_type": "markdown",
   "metadata": {},
   "source": [
    "# Признаки в данных\n",
    "- Gender — пол пассажира (женский, мужской)\n",
    "- Customer Type — тип клиента (постоянный/непостоянный клиент)\n",
    "- Age — возраст клиента\n",
    "- Type of Travel — цель перелета (личная/деловая поездка)\n",
    "- Class — туристический класс пассажира (Business, Eco, Eco Plus)\n",
    "- Flight distance — расстояние полета\n",
    "- Inflight wifi service — уровень удовлетворённости Wi-Fi (0 — не применимо, 1–5)\n",
    "- Departure/Arrival time convenient — уровень удовлетворённости временем отправления и прибытия\n",
    "- Ease of Online booking — уровень удовлетворённости онлайн-бронированием\n",
    "- Gate location — уровень удовлетворённости расположением выхода на посадку\n",
    "- Food and drink — уровень удовлетворённости едой и напитками\n",
    "- Online boarding — уровень удовлетворённости онлайн-регистрацией\n",
    "- Seat comfort — уровень удовлетворённости комфортом сидений\n",
    "- Inflight entertainment — уровень удовлетворённости развлечениями на борту\n",
    "- On-board service — уровень удовлетворённости сервисом на борту\n",
    "- Leg room service — уровень удовлетворённости местом для ног\n",
    "- Baggage handling — уровень удовлетворённости обработкой багажа\n",
    "- Check-in service — уровень удовлетворённости услугами регистрации\n",
    "- Inflight service — уровень удовлетворённости обслуживанием во время полёта\n",
    "- Cleanliness — уровень удовлетворённости чистотой\n",
    "- Departure Delay in Minutes — задержка при отправлении (в минутах)\n",
    "- Arrival Delay in Minutes — задержка при прибытии (в минутах)\n",
    "- Satisfaction — удовлетворённость авиакомпанией — целевая переменная (satisfaction/neutral/dissatisfaction)."
   ]
  },
  {
   "cell_type": "code",
   "execution_count": 57,
   "metadata": {},
   "outputs": [],
   "source": [
    "import numpy as np\n",
    "import pandas as pd\n",
    "from sklearn import linear_model #линейные моделиё\n",
    "from sklearn.linear_model import LogisticRegression\n",
    "from sklearn.linear_model import LinearRegression\n",
    "from sklearn import tree #деревья решений\n",
    "from sklearn import ensemble #ансамбли\n",
    "from sklearn import metrics #метрики\n",
    "from sklearn import preprocessing #предобработка\n",
    "from sklearn.model_selection import train_test_split #сплитование выборки\n",
    "from sklearn.model_selection import GridSearchCV\n",
    "from sklearn.metrics import f1_score\n",
    "from sklearn.metrics import mean_absolute_error\n",
    "from sklearn.metrics import roc_auc_score\n",
    "from sklearn.tree import DecisionTreeClassifier\n",
    "from sklearn.tree import DecisionTreeRegressor\n",
    "from sklearn.ensemble import RandomForestRegressor\n",
    "from sklearn.ensemble import BaggingClassifier\n",
    "from sklearn.ensemble import RandomForestClassifier\n",
    "from sklearn.ensemble import AdaBoostClassifier\n",
    "from sklearn.ensemble import GradientBoostingClassifier\n",
    "from catboost import CatBoostClassifier\n",
    "from catboost import Pool, CatBoostClassifier\n",
    "from catboost.utils import get_confusion_matrix\n",
    "import xgboost as xgb\n",
    "from xgboost import XGBClassifier\n",
    "from sklearn.preprocessing import StandardScaler"
   ]
  },
  {
   "cell_type": "code",
   "execution_count": 36,
   "metadata": {},
   "outputs": [
    {
     "data": {
      "text/html": [
       "<div>\n",
       "<style scoped>\n",
       "    .dataframe tbody tr th:only-of-type {\n",
       "        vertical-align: middle;\n",
       "    }\n",
       "\n",
       "    .dataframe tbody tr th {\n",
       "        vertical-align: top;\n",
       "    }\n",
       "\n",
       "    .dataframe thead th {\n",
       "        text-align: right;\n",
       "    }\n",
       "</style>\n",
       "<table border=\"1\" class=\"dataframe\">\n",
       "  <thead>\n",
       "    <tr style=\"text-align: right;\">\n",
       "      <th></th>\n",
       "      <th>Unnamed: 0</th>\n",
       "      <th>id</th>\n",
       "      <th>Gender</th>\n",
       "      <th>Customer Type</th>\n",
       "      <th>Age</th>\n",
       "      <th>Type of Travel</th>\n",
       "      <th>Class</th>\n",
       "      <th>Flight Distance</th>\n",
       "      <th>Inflight wifi service</th>\n",
       "      <th>Departure/Arrival time convenient</th>\n",
       "      <th>...</th>\n",
       "      <th>Inflight entertainment</th>\n",
       "      <th>On-board service</th>\n",
       "      <th>Leg room service</th>\n",
       "      <th>Baggage handling</th>\n",
       "      <th>Checkin service</th>\n",
       "      <th>Inflight service</th>\n",
       "      <th>Cleanliness</th>\n",
       "      <th>Departure Delay in Minutes</th>\n",
       "      <th>Arrival Delay in Minutes</th>\n",
       "      <th>satisfaction</th>\n",
       "    </tr>\n",
       "  </thead>\n",
       "  <tbody>\n",
       "    <tr>\n",
       "      <th>0</th>\n",
       "      <td>0</td>\n",
       "      <td>70172</td>\n",
       "      <td>Male</td>\n",
       "      <td>Loyal Customer</td>\n",
       "      <td>13</td>\n",
       "      <td>Personal Travel</td>\n",
       "      <td>Eco Plus</td>\n",
       "      <td>460</td>\n",
       "      <td>3</td>\n",
       "      <td>4</td>\n",
       "      <td>...</td>\n",
       "      <td>5</td>\n",
       "      <td>4</td>\n",
       "      <td>3</td>\n",
       "      <td>4</td>\n",
       "      <td>4</td>\n",
       "      <td>5</td>\n",
       "      <td>5</td>\n",
       "      <td>25</td>\n",
       "      <td>18.0</td>\n",
       "      <td>neutral or dissatisfied</td>\n",
       "    </tr>\n",
       "    <tr>\n",
       "      <th>1</th>\n",
       "      <td>1</td>\n",
       "      <td>5047</td>\n",
       "      <td>Male</td>\n",
       "      <td>disloyal Customer</td>\n",
       "      <td>25</td>\n",
       "      <td>Business travel</td>\n",
       "      <td>Business</td>\n",
       "      <td>235</td>\n",
       "      <td>3</td>\n",
       "      <td>2</td>\n",
       "      <td>...</td>\n",
       "      <td>1</td>\n",
       "      <td>1</td>\n",
       "      <td>5</td>\n",
       "      <td>3</td>\n",
       "      <td>1</td>\n",
       "      <td>4</td>\n",
       "      <td>1</td>\n",
       "      <td>1</td>\n",
       "      <td>6.0</td>\n",
       "      <td>neutral or dissatisfied</td>\n",
       "    </tr>\n",
       "    <tr>\n",
       "      <th>2</th>\n",
       "      <td>2</td>\n",
       "      <td>110028</td>\n",
       "      <td>Female</td>\n",
       "      <td>Loyal Customer</td>\n",
       "      <td>26</td>\n",
       "      <td>Business travel</td>\n",
       "      <td>Business</td>\n",
       "      <td>1142</td>\n",
       "      <td>2</td>\n",
       "      <td>2</td>\n",
       "      <td>...</td>\n",
       "      <td>5</td>\n",
       "      <td>4</td>\n",
       "      <td>3</td>\n",
       "      <td>4</td>\n",
       "      <td>4</td>\n",
       "      <td>4</td>\n",
       "      <td>5</td>\n",
       "      <td>0</td>\n",
       "      <td>0.0</td>\n",
       "      <td>satisfied</td>\n",
       "    </tr>\n",
       "    <tr>\n",
       "      <th>3</th>\n",
       "      <td>3</td>\n",
       "      <td>24026</td>\n",
       "      <td>Female</td>\n",
       "      <td>Loyal Customer</td>\n",
       "      <td>25</td>\n",
       "      <td>Business travel</td>\n",
       "      <td>Business</td>\n",
       "      <td>562</td>\n",
       "      <td>2</td>\n",
       "      <td>5</td>\n",
       "      <td>...</td>\n",
       "      <td>2</td>\n",
       "      <td>2</td>\n",
       "      <td>5</td>\n",
       "      <td>3</td>\n",
       "      <td>1</td>\n",
       "      <td>4</td>\n",
       "      <td>2</td>\n",
       "      <td>11</td>\n",
       "      <td>9.0</td>\n",
       "      <td>neutral or dissatisfied</td>\n",
       "    </tr>\n",
       "    <tr>\n",
       "      <th>4</th>\n",
       "      <td>4</td>\n",
       "      <td>119299</td>\n",
       "      <td>Male</td>\n",
       "      <td>Loyal Customer</td>\n",
       "      <td>61</td>\n",
       "      <td>Business travel</td>\n",
       "      <td>Business</td>\n",
       "      <td>214</td>\n",
       "      <td>3</td>\n",
       "      <td>3</td>\n",
       "      <td>...</td>\n",
       "      <td>3</td>\n",
       "      <td>3</td>\n",
       "      <td>4</td>\n",
       "      <td>4</td>\n",
       "      <td>3</td>\n",
       "      <td>3</td>\n",
       "      <td>3</td>\n",
       "      <td>0</td>\n",
       "      <td>0.0</td>\n",
       "      <td>satisfied</td>\n",
       "    </tr>\n",
       "  </tbody>\n",
       "</table>\n",
       "<p>5 rows × 25 columns</p>\n",
       "</div>"
      ],
      "text/plain": [
       "   Unnamed: 0      id  Gender      Customer Type  Age   Type of Travel  \\\n",
       "0           0   70172    Male     Loyal Customer   13  Personal Travel   \n",
       "1           1    5047    Male  disloyal Customer   25  Business travel   \n",
       "2           2  110028  Female     Loyal Customer   26  Business travel   \n",
       "3           3   24026  Female     Loyal Customer   25  Business travel   \n",
       "4           4  119299    Male     Loyal Customer   61  Business travel   \n",
       "\n",
       "      Class  Flight Distance  Inflight wifi service  \\\n",
       "0  Eco Plus              460                      3   \n",
       "1  Business              235                      3   \n",
       "2  Business             1142                      2   \n",
       "3  Business              562                      2   \n",
       "4  Business              214                      3   \n",
       "\n",
       "   Departure/Arrival time convenient  ...  Inflight entertainment  \\\n",
       "0                                  4  ...                       5   \n",
       "1                                  2  ...                       1   \n",
       "2                                  2  ...                       5   \n",
       "3                                  5  ...                       2   \n",
       "4                                  3  ...                       3   \n",
       "\n",
       "   On-board service  Leg room service  Baggage handling  Checkin service  \\\n",
       "0                 4                 3                 4                4   \n",
       "1                 1                 5                 3                1   \n",
       "2                 4                 3                 4                4   \n",
       "3                 2                 5                 3                1   \n",
       "4                 3                 4                 4                3   \n",
       "\n",
       "   Inflight service  Cleanliness  Departure Delay in Minutes  \\\n",
       "0                 5            5                          25   \n",
       "1                 4            1                           1   \n",
       "2                 4            5                           0   \n",
       "3                 4            2                          11   \n",
       "4                 3            3                           0   \n",
       "\n",
       "   Arrival Delay in Minutes             satisfaction  \n",
       "0                      18.0  neutral or dissatisfied  \n",
       "1                       6.0  neutral or dissatisfied  \n",
       "2                       0.0                satisfied  \n",
       "3                       9.0  neutral or dissatisfied  \n",
       "4                       0.0                satisfied  \n",
       "\n",
       "[5 rows x 25 columns]"
      ]
     },
     "execution_count": 36,
     "metadata": {},
     "output_type": "execute_result"
    }
   ],
   "source": [
    "df=pd.read_csv('AirPass.csv')\n",
    "df.head()"
   ]
  },
  {
   "cell_type": "markdown",
   "metadata": {},
   "source": [
    "ЗАДАНИЕ 6.1"
   ]
  },
  {
   "cell_type": "code",
   "execution_count": 37,
   "metadata": {},
   "outputs": [
    {
     "data": {
      "text/plain": [
       "310"
      ]
     },
     "execution_count": 37,
     "metadata": {},
     "output_type": "execute_result"
    }
   ],
   "source": [
    "df.isnull().sum().sum()"
   ]
  },
  {
   "cell_type": "markdown",
   "metadata": {},
   "source": [
    "ЗАДАНИЕ 6.2"
   ]
  },
  {
   "cell_type": "code",
   "execution_count": 38,
   "metadata": {},
   "outputs": [
    {
     "data": {
      "text/plain": [
       "15.133392362180475"
      ]
     },
     "execution_count": 38,
     "metadata": {},
     "output_type": "execute_result"
    }
   ],
   "source": [
    "df['Arrival Delay in Minutes'] = df['Arrival Delay in Minutes'].fillna(df['Arrival Delay in Minutes'].median())\n",
    "df['Arrival Delay in Minutes'].mean()"
   ]
  },
  {
   "cell_type": "markdown",
   "metadata": {},
   "source": [
    "ЗАДАНИЕ 6.3"
   ]
  },
  {
   "cell_type": "code",
   "execution_count": 39,
   "metadata": {},
   "outputs": [
    {
     "data": {
      "text/plain": [
       "Class     satisfaction           \n",
       "Business  satisfied                  33.184478\n",
       "          neutral or dissatisfied    14.614452\n",
       "Eco       neutral or dissatisfied    36.614567\n",
       "          satisfied                   8.374076\n",
       "Eco Plus  neutral or dissatisfied     5.437712\n",
       "          satisfied                   1.774715\n",
       "Name: satisfaction, dtype: float64"
      ]
     },
     "execution_count": 39,
     "metadata": {},
     "output_type": "execute_result"
    }
   ],
   "source": [
    "print(df.groupby('Gender')['satisfaction'].value_counts()*100/df.shape[0])\n",
    "print(df.groupby('Type of Travel')['satisfaction'].value_counts()*100/df.shape[0])\n",
    "print(df.groupby('Class')['satisfaction'].value_counts()*100/df.shape[0])"
   ]
  },
  {
   "cell_type": "code",
   "execution_count": 40,
   "metadata": {},
   "outputs": [],
   "source": [
    "df.satisfaction = df.satisfaction.map({'neutral or dissatisfied': 0, 'satisfied':1})\n",
    "df['Customer Type'] = df['Customer Type'].map({'Loyal Customer':1 , 'disloyal Customer':0})\n",
    "df['Type of Travel'] = df['Type of Travel'].map({'Personal Travel':0 , 'Business travel':1})\n",
    "df['Gender'] = df['Gender'].map({'Male': 0 , 'Female': 1})"
   ]
  },
  {
   "cell_type": "markdown",
   "metadata": {},
   "source": [
    "ЗАДАНИЕ 6.4"
   ]
  },
  {
   "cell_type": "code",
   "execution_count": 41,
   "metadata": {},
   "outputs": [
    {
     "data": {
      "text/plain": [
       "(103904, 27)"
      ]
     },
     "execution_count": 41,
     "metadata": {},
     "output_type": "execute_result"
    }
   ],
   "source": [
    "df=pd.get_dummies(df)\n",
    "df.shape"
   ]
  },
  {
   "cell_type": "markdown",
   "metadata": {},
   "source": [
    "ЗАДАНИЕ 6.5"
   ]
  },
  {
   "cell_type": "code",
   "execution_count": 42,
   "metadata": {},
   "outputs": [],
   "source": [
    "X=df.drop('satisfaction', axis=1)\n",
    "y =df['satisfaction']"
   ]
  },
  {
   "cell_type": "code",
   "execution_count": 43,
   "metadata": {},
   "outputs": [
    {
     "data": {
      "text/plain": [
       "(20781,)"
      ]
     },
     "execution_count": 43,
     "metadata": {},
     "output_type": "execute_result"
    }
   ],
   "source": [
    "X_train, X_test, y_train, y_test = train_test_split(X, y, test_size = 0.2, random_state=26)\n",
    "y_test.shape"
   ]
  },
  {
   "cell_type": "markdown",
   "metadata": {},
   "source": [
    "ЗАДАНИЕ 6.6"
   ]
  },
  {
   "cell_type": "code",
   "execution_count": 44,
   "metadata": {},
   "outputs": [
    {
     "data": {
      "text/plain": [
       "1.193295224074621"
      ]
     },
     "execution_count": 44,
     "metadata": {},
     "output_type": "execute_result"
    }
   ],
   "source": [
    "scaler = StandardScaler()\n",
    "scaler.fit(X_train) \n",
    "X_train = scaler.transform(X_train) \n",
    "X_test = scaler.transform(X_test) \n",
    "X_test[0][0]\n"
   ]
  },
  {
   "cell_type": "markdown",
   "metadata": {},
   "source": [
    "ЗАДАНИЕ 6.7"
   ]
  },
  {
   "cell_type": "code",
   "execution_count": 45,
   "metadata": {},
   "outputs": [
    {
     "data": {
      "text/plain": [
       "0.8550407188991856"
      ]
     },
     "execution_count": 45,
     "metadata": {},
     "output_type": "execute_result"
    }
   ],
   "source": [
    "model_lr = LogisticRegression()\n",
    "model_lr.fit(X_train, y_train)\n",
    "preds_test = model_lr.predict(X_test)\n",
    "f1_score(preds_test, y_test)"
   ]
  },
  {
   "cell_type": "markdown",
   "metadata": {},
   "source": [
    "ЗАДАНИЕ 6.8"
   ]
  },
  {
   "cell_type": "code",
   "execution_count": 46,
   "metadata": {},
   "outputs": [
    {
     "data": {
      "text/plain": [
       "0.9376063216813916"
      ]
     },
     "execution_count": 46,
     "metadata": {},
     "output_type": "execute_result"
    }
   ],
   "source": [
    "model_ada = AdaBoostClassifier(DecisionTreeClassifier(random_state=26),random_state=26,learning_rate=0.01)\n",
    "\n",
    "model_ada.fit(X_train, y_train)\n",
    "preds_test = model_ada.predict(X_test)\n",
    "f1_score(preds_test, y_test)"
   ]
  },
  {
   "cell_type": "markdown",
   "metadata": {},
   "source": [
    "ЗАДАНИЕ 6.9"
   ]
  },
  {
   "cell_type": "code",
   "execution_count": 48,
   "metadata": {},
   "outputs": [
    {
     "name": "stdout",
     "output_type": "stream",
     "text": [
      "Fitting 3 folds for each of 24 candidates, totalling 72 fits\n"
     ]
    },
    {
     "name": "stderr",
     "output_type": "stream",
     "text": [
      "c:\\Users\\Psa1kl\\AppData\\Local\\Programs\\Python\\Python39\\lib\\site-packages\\sklearn\\model_selection\\_validation.py:778: UserWarning: Scoring failed. The score on this train-test partition for these parameters will be set to nan. Details: \n",
      "Traceback (most recent call last):\n",
      "  File \"c:\\Users\\Psa1kl\\AppData\\Local\\Programs\\Python\\Python39\\lib\\site-packages\\sklearn\\model_selection\\_validation.py\", line 767, in _score\n",
      "    scores = scorer(estimator, X_test, y_test)\n",
      "TypeError: f1_score() takes 2 positional arguments but 3 were given\n",
      "\n",
      "  warnings.warn(\n"
     ]
    },
    {
     "name": "stdout",
     "output_type": "stream",
     "text": [
      "[CV 1/3] END ...learning_rate=1.0, n_estimators=1;, score=nan total time=   0.3s\n"
     ]
    },
    {
     "name": "stderr",
     "output_type": "stream",
     "text": [
      "c:\\Users\\Psa1kl\\AppData\\Local\\Programs\\Python\\Python39\\lib\\site-packages\\sklearn\\model_selection\\_validation.py:778: UserWarning: Scoring failed. The score on this train-test partition for these parameters will be set to nan. Details: \n",
      "Traceback (most recent call last):\n",
      "  File \"c:\\Users\\Psa1kl\\AppData\\Local\\Programs\\Python\\Python39\\lib\\site-packages\\sklearn\\model_selection\\_validation.py\", line 767, in _score\n",
      "    scores = scorer(estimator, X_test, y_test)\n",
      "TypeError: f1_score() takes 2 positional arguments but 3 were given\n",
      "\n",
      "  warnings.warn(\n"
     ]
    },
    {
     "name": "stdout",
     "output_type": "stream",
     "text": [
      "[CV 2/3] END ...learning_rate=1.0, n_estimators=1;, score=nan total time=   0.2s\n"
     ]
    },
    {
     "name": "stderr",
     "output_type": "stream",
     "text": [
      "c:\\Users\\Psa1kl\\AppData\\Local\\Programs\\Python\\Python39\\lib\\site-packages\\sklearn\\model_selection\\_validation.py:778: UserWarning: Scoring failed. The score on this train-test partition for these parameters will be set to nan. Details: \n",
      "Traceback (most recent call last):\n",
      "  File \"c:\\Users\\Psa1kl\\AppData\\Local\\Programs\\Python\\Python39\\lib\\site-packages\\sklearn\\model_selection\\_validation.py\", line 767, in _score\n",
      "    scores = scorer(estimator, X_test, y_test)\n",
      "TypeError: f1_score() takes 2 positional arguments but 3 were given\n",
      "\n",
      "  warnings.warn(\n"
     ]
    },
    {
     "name": "stdout",
     "output_type": "stream",
     "text": [
      "[CV 3/3] END ...learning_rate=1.0, n_estimators=1;, score=nan total time=   0.2s\n"
     ]
    },
    {
     "name": "stderr",
     "output_type": "stream",
     "text": [
      "c:\\Users\\Psa1kl\\AppData\\Local\\Programs\\Python\\Python39\\lib\\site-packages\\sklearn\\model_selection\\_validation.py:778: UserWarning: Scoring failed. The score on this train-test partition for these parameters will be set to nan. Details: \n",
      "Traceback (most recent call last):\n",
      "  File \"c:\\Users\\Psa1kl\\AppData\\Local\\Programs\\Python\\Python39\\lib\\site-packages\\sklearn\\model_selection\\_validation.py\", line 767, in _score\n",
      "    scores = scorer(estimator, X_test, y_test)\n",
      "TypeError: f1_score() takes 2 positional arguments but 3 were given\n",
      "\n",
      "  warnings.warn(\n"
     ]
    },
    {
     "name": "stdout",
     "output_type": "stream",
     "text": [
      "[CV 1/3] END ...learning_rate=1.0, n_estimators=2;, score=nan total time=   0.4s\n"
     ]
    },
    {
     "name": "stderr",
     "output_type": "stream",
     "text": [
      "c:\\Users\\Psa1kl\\AppData\\Local\\Programs\\Python\\Python39\\lib\\site-packages\\sklearn\\model_selection\\_validation.py:778: UserWarning: Scoring failed. The score on this train-test partition for these parameters will be set to nan. Details: \n",
      "Traceback (most recent call last):\n",
      "  File \"c:\\Users\\Psa1kl\\AppData\\Local\\Programs\\Python\\Python39\\lib\\site-packages\\sklearn\\model_selection\\_validation.py\", line 767, in _score\n",
      "    scores = scorer(estimator, X_test, y_test)\n",
      "TypeError: f1_score() takes 2 positional arguments but 3 were given\n",
      "\n",
      "  warnings.warn(\n"
     ]
    },
    {
     "name": "stdout",
     "output_type": "stream",
     "text": [
      "[CV 2/3] END ...learning_rate=1.0, n_estimators=2;, score=nan total time=   0.4s\n"
     ]
    },
    {
     "name": "stderr",
     "output_type": "stream",
     "text": [
      "c:\\Users\\Psa1kl\\AppData\\Local\\Programs\\Python\\Python39\\lib\\site-packages\\sklearn\\model_selection\\_validation.py:778: UserWarning: Scoring failed. The score on this train-test partition for these parameters will be set to nan. Details: \n",
      "Traceback (most recent call last):\n",
      "  File \"c:\\Users\\Psa1kl\\AppData\\Local\\Programs\\Python\\Python39\\lib\\site-packages\\sklearn\\model_selection\\_validation.py\", line 767, in _score\n",
      "    scores = scorer(estimator, X_test, y_test)\n",
      "TypeError: f1_score() takes 2 positional arguments but 3 were given\n",
      "\n",
      "  warnings.warn(\n"
     ]
    },
    {
     "name": "stdout",
     "output_type": "stream",
     "text": [
      "[CV 3/3] END ...learning_rate=1.0, n_estimators=2;, score=nan total time=   0.4s\n"
     ]
    },
    {
     "name": "stderr",
     "output_type": "stream",
     "text": [
      "c:\\Users\\Psa1kl\\AppData\\Local\\Programs\\Python\\Python39\\lib\\site-packages\\sklearn\\model_selection\\_validation.py:778: UserWarning: Scoring failed. The score on this train-test partition for these parameters will be set to nan. Details: \n",
      "Traceback (most recent call last):\n",
      "  File \"c:\\Users\\Psa1kl\\AppData\\Local\\Programs\\Python\\Python39\\lib\\site-packages\\sklearn\\model_selection\\_validation.py\", line 767, in _score\n",
      "    scores = scorer(estimator, X_test, y_test)\n",
      "TypeError: f1_score() takes 2 positional arguments but 3 were given\n",
      "\n",
      "  warnings.warn(\n"
     ]
    },
    {
     "name": "stdout",
     "output_type": "stream",
     "text": [
      "[CV 1/3] END ...learning_rate=1.0, n_estimators=4;, score=nan total time=   1.0s\n"
     ]
    },
    {
     "name": "stderr",
     "output_type": "stream",
     "text": [
      "c:\\Users\\Psa1kl\\AppData\\Local\\Programs\\Python\\Python39\\lib\\site-packages\\sklearn\\model_selection\\_validation.py:778: UserWarning: Scoring failed. The score on this train-test partition for these parameters will be set to nan. Details: \n",
      "Traceback (most recent call last):\n",
      "  File \"c:\\Users\\Psa1kl\\AppData\\Local\\Programs\\Python\\Python39\\lib\\site-packages\\sklearn\\model_selection\\_validation.py\", line 767, in _score\n",
      "    scores = scorer(estimator, X_test, y_test)\n",
      "TypeError: f1_score() takes 2 positional arguments but 3 were given\n",
      "\n",
      "  warnings.warn(\n"
     ]
    },
    {
     "name": "stdout",
     "output_type": "stream",
     "text": [
      "[CV 2/3] END ...learning_rate=1.0, n_estimators=4;, score=nan total time=   0.8s\n"
     ]
    },
    {
     "name": "stderr",
     "output_type": "stream",
     "text": [
      "c:\\Users\\Psa1kl\\AppData\\Local\\Programs\\Python\\Python39\\lib\\site-packages\\sklearn\\model_selection\\_validation.py:778: UserWarning: Scoring failed. The score on this train-test partition for these parameters will be set to nan. Details: \n",
      "Traceback (most recent call last):\n",
      "  File \"c:\\Users\\Psa1kl\\AppData\\Local\\Programs\\Python\\Python39\\lib\\site-packages\\sklearn\\model_selection\\_validation.py\", line 767, in _score\n",
      "    scores = scorer(estimator, X_test, y_test)\n",
      "TypeError: f1_score() takes 2 positional arguments but 3 were given\n",
      "\n",
      "  warnings.warn(\n"
     ]
    },
    {
     "name": "stdout",
     "output_type": "stream",
     "text": [
      "[CV 3/3] END ...learning_rate=1.0, n_estimators=4;, score=nan total time=   0.8s\n"
     ]
    },
    {
     "name": "stderr",
     "output_type": "stream",
     "text": [
      "c:\\Users\\Psa1kl\\AppData\\Local\\Programs\\Python\\Python39\\lib\\site-packages\\sklearn\\model_selection\\_validation.py:778: UserWarning: Scoring failed. The score on this train-test partition for these parameters will be set to nan. Details: \n",
      "Traceback (most recent call last):\n",
      "  File \"c:\\Users\\Psa1kl\\AppData\\Local\\Programs\\Python\\Python39\\lib\\site-packages\\sklearn\\model_selection\\_validation.py\", line 767, in _score\n",
      "    scores = scorer(estimator, X_test, y_test)\n",
      "TypeError: f1_score() takes 2 positional arguments but 3 were given\n",
      "\n",
      "  warnings.warn(\n"
     ]
    },
    {
     "name": "stdout",
     "output_type": "stream",
     "text": [
      "[CV 1/3] END ...learning_rate=1.0, n_estimators=8;, score=nan total time=   2.0s\n"
     ]
    },
    {
     "name": "stderr",
     "output_type": "stream",
     "text": [
      "c:\\Users\\Psa1kl\\AppData\\Local\\Programs\\Python\\Python39\\lib\\site-packages\\sklearn\\model_selection\\_validation.py:778: UserWarning: Scoring failed. The score on this train-test partition for these parameters will be set to nan. Details: \n",
      "Traceback (most recent call last):\n",
      "  File \"c:\\Users\\Psa1kl\\AppData\\Local\\Programs\\Python\\Python39\\lib\\site-packages\\sklearn\\model_selection\\_validation.py\", line 767, in _score\n",
      "    scores = scorer(estimator, X_test, y_test)\n",
      "TypeError: f1_score() takes 2 positional arguments but 3 were given\n",
      "\n",
      "  warnings.warn(\n"
     ]
    },
    {
     "name": "stdout",
     "output_type": "stream",
     "text": [
      "[CV 2/3] END ...learning_rate=1.0, n_estimators=8;, score=nan total time=   2.1s\n"
     ]
    },
    {
     "name": "stderr",
     "output_type": "stream",
     "text": [
      "c:\\Users\\Psa1kl\\AppData\\Local\\Programs\\Python\\Python39\\lib\\site-packages\\sklearn\\model_selection\\_validation.py:778: UserWarning: Scoring failed. The score on this train-test partition for these parameters will be set to nan. Details: \n",
      "Traceback (most recent call last):\n",
      "  File \"c:\\Users\\Psa1kl\\AppData\\Local\\Programs\\Python\\Python39\\lib\\site-packages\\sklearn\\model_selection\\_validation.py\", line 767, in _score\n",
      "    scores = scorer(estimator, X_test, y_test)\n",
      "TypeError: f1_score() takes 2 positional arguments but 3 were given\n",
      "\n",
      "  warnings.warn(\n"
     ]
    },
    {
     "name": "stdout",
     "output_type": "stream",
     "text": [
      "[CV 3/3] END ...learning_rate=1.0, n_estimators=8;, score=nan total time=   2.0s\n"
     ]
    },
    {
     "name": "stderr",
     "output_type": "stream",
     "text": [
      "c:\\Users\\Psa1kl\\AppData\\Local\\Programs\\Python\\Python39\\lib\\site-packages\\sklearn\\model_selection\\_validation.py:778: UserWarning: Scoring failed. The score on this train-test partition for these parameters will be set to nan. Details: \n",
      "Traceback (most recent call last):\n",
      "  File \"c:\\Users\\Psa1kl\\AppData\\Local\\Programs\\Python\\Python39\\lib\\site-packages\\sklearn\\model_selection\\_validation.py\", line 767, in _score\n",
      "    scores = scorer(estimator, X_test, y_test)\n",
      "TypeError: f1_score() takes 2 positional arguments but 3 were given\n",
      "\n",
      "  warnings.warn(\n"
     ]
    },
    {
     "name": "stdout",
     "output_type": "stream",
     "text": [
      "[CV 1/3] END ..learning_rate=1.0, n_estimators=16;, score=nan total time=   4.0s\n"
     ]
    },
    {
     "name": "stderr",
     "output_type": "stream",
     "text": [
      "c:\\Users\\Psa1kl\\AppData\\Local\\Programs\\Python\\Python39\\lib\\site-packages\\sklearn\\model_selection\\_validation.py:778: UserWarning: Scoring failed. The score on this train-test partition for these parameters will be set to nan. Details: \n",
      "Traceback (most recent call last):\n",
      "  File \"c:\\Users\\Psa1kl\\AppData\\Local\\Programs\\Python\\Python39\\lib\\site-packages\\sklearn\\model_selection\\_validation.py\", line 767, in _score\n",
      "    scores = scorer(estimator, X_test, y_test)\n",
      "TypeError: f1_score() takes 2 positional arguments but 3 were given\n",
      "\n",
      "  warnings.warn(\n"
     ]
    },
    {
     "name": "stdout",
     "output_type": "stream",
     "text": [
      "[CV 2/3] END ..learning_rate=1.0, n_estimators=16;, score=nan total time=   3.8s\n"
     ]
    },
    {
     "name": "stderr",
     "output_type": "stream",
     "text": [
      "c:\\Users\\Psa1kl\\AppData\\Local\\Programs\\Python\\Python39\\lib\\site-packages\\sklearn\\model_selection\\_validation.py:778: UserWarning: Scoring failed. The score on this train-test partition for these parameters will be set to nan. Details: \n",
      "Traceback (most recent call last):\n",
      "  File \"c:\\Users\\Psa1kl\\AppData\\Local\\Programs\\Python\\Python39\\lib\\site-packages\\sklearn\\model_selection\\_validation.py\", line 767, in _score\n",
      "    scores = scorer(estimator, X_test, y_test)\n",
      "TypeError: f1_score() takes 2 positional arguments but 3 were given\n",
      "\n",
      "  warnings.warn(\n"
     ]
    },
    {
     "name": "stdout",
     "output_type": "stream",
     "text": [
      "[CV 3/3] END ..learning_rate=1.0, n_estimators=16;, score=nan total time=   4.6s\n"
     ]
    },
    {
     "name": "stderr",
     "output_type": "stream",
     "text": [
      "c:\\Users\\Psa1kl\\AppData\\Local\\Programs\\Python\\Python39\\lib\\site-packages\\sklearn\\model_selection\\_validation.py:778: UserWarning: Scoring failed. The score on this train-test partition for these parameters will be set to nan. Details: \n",
      "Traceback (most recent call last):\n",
      "  File \"c:\\Users\\Psa1kl\\AppData\\Local\\Programs\\Python\\Python39\\lib\\site-packages\\sklearn\\model_selection\\_validation.py\", line 767, in _score\n",
      "    scores = scorer(estimator, X_test, y_test)\n",
      "TypeError: f1_score() takes 2 positional arguments but 3 were given\n",
      "\n",
      "  warnings.warn(\n"
     ]
    },
    {
     "name": "stdout",
     "output_type": "stream",
     "text": [
      "[CV 1/3] END ..learning_rate=1.0, n_estimators=32;, score=nan total time=   8.7s\n"
     ]
    },
    {
     "name": "stderr",
     "output_type": "stream",
     "text": [
      "c:\\Users\\Psa1kl\\AppData\\Local\\Programs\\Python\\Python39\\lib\\site-packages\\sklearn\\model_selection\\_validation.py:778: UserWarning: Scoring failed. The score on this train-test partition for these parameters will be set to nan. Details: \n",
      "Traceback (most recent call last):\n",
      "  File \"c:\\Users\\Psa1kl\\AppData\\Local\\Programs\\Python\\Python39\\lib\\site-packages\\sklearn\\model_selection\\_validation.py\", line 767, in _score\n",
      "    scores = scorer(estimator, X_test, y_test)\n",
      "TypeError: f1_score() takes 2 positional arguments but 3 were given\n",
      "\n",
      "  warnings.warn(\n"
     ]
    },
    {
     "name": "stdout",
     "output_type": "stream",
     "text": [
      "[CV 2/3] END ..learning_rate=1.0, n_estimators=32;, score=nan total time=   8.3s\n"
     ]
    },
    {
     "name": "stderr",
     "output_type": "stream",
     "text": [
      "c:\\Users\\Psa1kl\\AppData\\Local\\Programs\\Python\\Python39\\lib\\site-packages\\sklearn\\model_selection\\_validation.py:778: UserWarning: Scoring failed. The score on this train-test partition for these parameters will be set to nan. Details: \n",
      "Traceback (most recent call last):\n",
      "  File \"c:\\Users\\Psa1kl\\AppData\\Local\\Programs\\Python\\Python39\\lib\\site-packages\\sklearn\\model_selection\\_validation.py\", line 767, in _score\n",
      "    scores = scorer(estimator, X_test, y_test)\n",
      "TypeError: f1_score() takes 2 positional arguments but 3 were given\n",
      "\n",
      "  warnings.warn(\n"
     ]
    },
    {
     "name": "stdout",
     "output_type": "stream",
     "text": [
      "[CV 3/3] END ..learning_rate=1.0, n_estimators=32;, score=nan total time=   8.5s\n"
     ]
    },
    {
     "name": "stderr",
     "output_type": "stream",
     "text": [
      "c:\\Users\\Psa1kl\\AppData\\Local\\Programs\\Python\\Python39\\lib\\site-packages\\sklearn\\model_selection\\_validation.py:778: UserWarning: Scoring failed. The score on this train-test partition for these parameters will be set to nan. Details: \n",
      "Traceback (most recent call last):\n",
      "  File \"c:\\Users\\Psa1kl\\AppData\\Local\\Programs\\Python\\Python39\\lib\\site-packages\\sklearn\\model_selection\\_validation.py\", line 767, in _score\n",
      "    scores = scorer(estimator, X_test, y_test)\n",
      "TypeError: f1_score() takes 2 positional arguments but 3 were given\n",
      "\n",
      "  warnings.warn(\n"
     ]
    },
    {
     "name": "stdout",
     "output_type": "stream",
     "text": [
      "[CV 1/3] END ..learning_rate=1.0, n_estimators=64;, score=nan total time=  17.9s\n"
     ]
    },
    {
     "name": "stderr",
     "output_type": "stream",
     "text": [
      "c:\\Users\\Psa1kl\\AppData\\Local\\Programs\\Python\\Python39\\lib\\site-packages\\sklearn\\model_selection\\_validation.py:778: UserWarning: Scoring failed. The score on this train-test partition for these parameters will be set to nan. Details: \n",
      "Traceback (most recent call last):\n",
      "  File \"c:\\Users\\Psa1kl\\AppData\\Local\\Programs\\Python\\Python39\\lib\\site-packages\\sklearn\\model_selection\\_validation.py\", line 767, in _score\n",
      "    scores = scorer(estimator, X_test, y_test)\n",
      "TypeError: f1_score() takes 2 positional arguments but 3 were given\n",
      "\n",
      "  warnings.warn(\n"
     ]
    },
    {
     "name": "stdout",
     "output_type": "stream",
     "text": [
      "[CV 2/3] END ..learning_rate=1.0, n_estimators=64;, score=nan total time=  16.3s\n"
     ]
    },
    {
     "name": "stderr",
     "output_type": "stream",
     "text": [
      "c:\\Users\\Psa1kl\\AppData\\Local\\Programs\\Python\\Python39\\lib\\site-packages\\sklearn\\model_selection\\_validation.py:778: UserWarning: Scoring failed. The score on this train-test partition for these parameters will be set to nan. Details: \n",
      "Traceback (most recent call last):\n",
      "  File \"c:\\Users\\Psa1kl\\AppData\\Local\\Programs\\Python\\Python39\\lib\\site-packages\\sklearn\\model_selection\\_validation.py\", line 767, in _score\n",
      "    scores = scorer(estimator, X_test, y_test)\n",
      "TypeError: f1_score() takes 2 positional arguments but 3 were given\n",
      "\n",
      "  warnings.warn(\n"
     ]
    },
    {
     "name": "stdout",
     "output_type": "stream",
     "text": [
      "[CV 3/3] END ..learning_rate=1.0, n_estimators=64;, score=nan total time=  16.6s\n"
     ]
    },
    {
     "name": "stderr",
     "output_type": "stream",
     "text": [
      "c:\\Users\\Psa1kl\\AppData\\Local\\Programs\\Python\\Python39\\lib\\site-packages\\sklearn\\model_selection\\_validation.py:778: UserWarning: Scoring failed. The score on this train-test partition for these parameters will be set to nan. Details: \n",
      "Traceback (most recent call last):\n",
      "  File \"c:\\Users\\Psa1kl\\AppData\\Local\\Programs\\Python\\Python39\\lib\\site-packages\\sklearn\\model_selection\\_validation.py\", line 767, in _score\n",
      "    scores = scorer(estimator, X_test, y_test)\n",
      "TypeError: f1_score() takes 2 positional arguments but 3 were given\n",
      "\n",
      "  warnings.warn(\n"
     ]
    },
    {
     "name": "stdout",
     "output_type": "stream",
     "text": [
      "[CV 1/3] END .learning_rate=1.0, n_estimators=128;, score=nan total time=  33.6s\n"
     ]
    },
    {
     "name": "stderr",
     "output_type": "stream",
     "text": [
      "c:\\Users\\Psa1kl\\AppData\\Local\\Programs\\Python\\Python39\\lib\\site-packages\\sklearn\\model_selection\\_validation.py:778: UserWarning: Scoring failed. The score on this train-test partition for these parameters will be set to nan. Details: \n",
      "Traceback (most recent call last):\n",
      "  File \"c:\\Users\\Psa1kl\\AppData\\Local\\Programs\\Python\\Python39\\lib\\site-packages\\sklearn\\model_selection\\_validation.py\", line 767, in _score\n",
      "    scores = scorer(estimator, X_test, y_test)\n",
      "TypeError: f1_score() takes 2 positional arguments but 3 were given\n",
      "\n",
      "  warnings.warn(\n"
     ]
    },
    {
     "name": "stdout",
     "output_type": "stream",
     "text": [
      "[CV 2/3] END .learning_rate=1.0, n_estimators=128;, score=nan total time=  34.1s\n"
     ]
    },
    {
     "name": "stderr",
     "output_type": "stream",
     "text": [
      "c:\\Users\\Psa1kl\\AppData\\Local\\Programs\\Python\\Python39\\lib\\site-packages\\sklearn\\model_selection\\_validation.py:778: UserWarning: Scoring failed. The score on this train-test partition for these parameters will be set to nan. Details: \n",
      "Traceback (most recent call last):\n",
      "  File \"c:\\Users\\Psa1kl\\AppData\\Local\\Programs\\Python\\Python39\\lib\\site-packages\\sklearn\\model_selection\\_validation.py\", line 767, in _score\n",
      "    scores = scorer(estimator, X_test, y_test)\n",
      "TypeError: f1_score() takes 2 positional arguments but 3 were given\n",
      "\n",
      "  warnings.warn(\n"
     ]
    },
    {
     "name": "stdout",
     "output_type": "stream",
     "text": [
      "[CV 3/3] END .learning_rate=1.0, n_estimators=128;, score=nan total time=  55.5s\n"
     ]
    },
    {
     "name": "stderr",
     "output_type": "stream",
     "text": [
      "c:\\Users\\Psa1kl\\AppData\\Local\\Programs\\Python\\Python39\\lib\\site-packages\\sklearn\\model_selection\\_validation.py:778: UserWarning: Scoring failed. The score on this train-test partition for these parameters will be set to nan. Details: \n",
      "Traceback (most recent call last):\n",
      "  File \"c:\\Users\\Psa1kl\\AppData\\Local\\Programs\\Python\\Python39\\lib\\site-packages\\sklearn\\model_selection\\_validation.py\", line 767, in _score\n",
      "    scores = scorer(estimator, X_test, y_test)\n",
      "TypeError: f1_score() takes 2 positional arguments but 3 were given\n",
      "\n",
      "  warnings.warn(\n"
     ]
    },
    {
     "name": "stdout",
     "output_type": "stream",
     "text": [
      "[CV 1/3] END ...learning_rate=0.1, n_estimators=1;, score=nan total time=   0.2s\n"
     ]
    },
    {
     "name": "stderr",
     "output_type": "stream",
     "text": [
      "c:\\Users\\Psa1kl\\AppData\\Local\\Programs\\Python\\Python39\\lib\\site-packages\\sklearn\\model_selection\\_validation.py:778: UserWarning: Scoring failed. The score on this train-test partition for these parameters will be set to nan. Details: \n",
      "Traceback (most recent call last):\n",
      "  File \"c:\\Users\\Psa1kl\\AppData\\Local\\Programs\\Python\\Python39\\lib\\site-packages\\sklearn\\model_selection\\_validation.py\", line 767, in _score\n",
      "    scores = scorer(estimator, X_test, y_test)\n",
      "TypeError: f1_score() takes 2 positional arguments but 3 were given\n",
      "\n",
      "  warnings.warn(\n"
     ]
    },
    {
     "name": "stdout",
     "output_type": "stream",
     "text": [
      "[CV 2/3] END ...learning_rate=0.1, n_estimators=1;, score=nan total time=   0.1s\n"
     ]
    },
    {
     "name": "stderr",
     "output_type": "stream",
     "text": [
      "c:\\Users\\Psa1kl\\AppData\\Local\\Programs\\Python\\Python39\\lib\\site-packages\\sklearn\\model_selection\\_validation.py:778: UserWarning: Scoring failed. The score on this train-test partition for these parameters will be set to nan. Details: \n",
      "Traceback (most recent call last):\n",
      "  File \"c:\\Users\\Psa1kl\\AppData\\Local\\Programs\\Python\\Python39\\lib\\site-packages\\sklearn\\model_selection\\_validation.py\", line 767, in _score\n",
      "    scores = scorer(estimator, X_test, y_test)\n",
      "TypeError: f1_score() takes 2 positional arguments but 3 were given\n",
      "\n",
      "  warnings.warn(\n"
     ]
    },
    {
     "name": "stdout",
     "output_type": "stream",
     "text": [
      "[CV 3/3] END ...learning_rate=0.1, n_estimators=1;, score=nan total time=   0.1s\n"
     ]
    },
    {
     "name": "stderr",
     "output_type": "stream",
     "text": [
      "c:\\Users\\Psa1kl\\AppData\\Local\\Programs\\Python\\Python39\\lib\\site-packages\\sklearn\\model_selection\\_validation.py:778: UserWarning: Scoring failed. The score on this train-test partition for these parameters will be set to nan. Details: \n",
      "Traceback (most recent call last):\n",
      "  File \"c:\\Users\\Psa1kl\\AppData\\Local\\Programs\\Python\\Python39\\lib\\site-packages\\sklearn\\model_selection\\_validation.py\", line 767, in _score\n",
      "    scores = scorer(estimator, X_test, y_test)\n",
      "TypeError: f1_score() takes 2 positional arguments but 3 were given\n",
      "\n",
      "  warnings.warn(\n"
     ]
    },
    {
     "name": "stdout",
     "output_type": "stream",
     "text": [
      "[CV 1/3] END ...learning_rate=0.1, n_estimators=2;, score=nan total time=   0.4s\n"
     ]
    },
    {
     "name": "stderr",
     "output_type": "stream",
     "text": [
      "c:\\Users\\Psa1kl\\AppData\\Local\\Programs\\Python\\Python39\\lib\\site-packages\\sklearn\\model_selection\\_validation.py:778: UserWarning: Scoring failed. The score on this train-test partition for these parameters will be set to nan. Details: \n",
      "Traceback (most recent call last):\n",
      "  File \"c:\\Users\\Psa1kl\\AppData\\Local\\Programs\\Python\\Python39\\lib\\site-packages\\sklearn\\model_selection\\_validation.py\", line 767, in _score\n",
      "    scores = scorer(estimator, X_test, y_test)\n",
      "TypeError: f1_score() takes 2 positional arguments but 3 were given\n",
      "\n",
      "  warnings.warn(\n"
     ]
    },
    {
     "name": "stdout",
     "output_type": "stream",
     "text": [
      "[CV 2/3] END ...learning_rate=0.1, n_estimators=2;, score=nan total time=   0.4s\n"
     ]
    },
    {
     "name": "stderr",
     "output_type": "stream",
     "text": [
      "c:\\Users\\Psa1kl\\AppData\\Local\\Programs\\Python\\Python39\\lib\\site-packages\\sklearn\\model_selection\\_validation.py:778: UserWarning: Scoring failed. The score on this train-test partition for these parameters will be set to nan. Details: \n",
      "Traceback (most recent call last):\n",
      "  File \"c:\\Users\\Psa1kl\\AppData\\Local\\Programs\\Python\\Python39\\lib\\site-packages\\sklearn\\model_selection\\_validation.py\", line 767, in _score\n",
      "    scores = scorer(estimator, X_test, y_test)\n",
      "TypeError: f1_score() takes 2 positional arguments but 3 were given\n",
      "\n",
      "  warnings.warn(\n"
     ]
    },
    {
     "name": "stdout",
     "output_type": "stream",
     "text": [
      "[CV 3/3] END ...learning_rate=0.1, n_estimators=2;, score=nan total time=   0.4s\n"
     ]
    },
    {
     "name": "stderr",
     "output_type": "stream",
     "text": [
      "c:\\Users\\Psa1kl\\AppData\\Local\\Programs\\Python\\Python39\\lib\\site-packages\\sklearn\\model_selection\\_validation.py:778: UserWarning: Scoring failed. The score on this train-test partition for these parameters will be set to nan. Details: \n",
      "Traceback (most recent call last):\n",
      "  File \"c:\\Users\\Psa1kl\\AppData\\Local\\Programs\\Python\\Python39\\lib\\site-packages\\sklearn\\model_selection\\_validation.py\", line 767, in _score\n",
      "    scores = scorer(estimator, X_test, y_test)\n",
      "TypeError: f1_score() takes 2 positional arguments but 3 were given\n",
      "\n",
      "  warnings.warn(\n"
     ]
    },
    {
     "name": "stdout",
     "output_type": "stream",
     "text": [
      "[CV 1/3] END ...learning_rate=0.1, n_estimators=4;, score=nan total time=   0.9s\n"
     ]
    },
    {
     "name": "stderr",
     "output_type": "stream",
     "text": [
      "c:\\Users\\Psa1kl\\AppData\\Local\\Programs\\Python\\Python39\\lib\\site-packages\\sklearn\\model_selection\\_validation.py:778: UserWarning: Scoring failed. The score on this train-test partition for these parameters will be set to nan. Details: \n",
      "Traceback (most recent call last):\n",
      "  File \"c:\\Users\\Psa1kl\\AppData\\Local\\Programs\\Python\\Python39\\lib\\site-packages\\sklearn\\model_selection\\_validation.py\", line 767, in _score\n",
      "    scores = scorer(estimator, X_test, y_test)\n",
      "TypeError: f1_score() takes 2 positional arguments but 3 were given\n",
      "\n",
      "  warnings.warn(\n"
     ]
    },
    {
     "name": "stdout",
     "output_type": "stream",
     "text": [
      "[CV 2/3] END ...learning_rate=0.1, n_estimators=4;, score=nan total time=   0.8s\n"
     ]
    },
    {
     "name": "stderr",
     "output_type": "stream",
     "text": [
      "c:\\Users\\Psa1kl\\AppData\\Local\\Programs\\Python\\Python39\\lib\\site-packages\\sklearn\\model_selection\\_validation.py:778: UserWarning: Scoring failed. The score on this train-test partition for these parameters will be set to nan. Details: \n",
      "Traceback (most recent call last):\n",
      "  File \"c:\\Users\\Psa1kl\\AppData\\Local\\Programs\\Python\\Python39\\lib\\site-packages\\sklearn\\model_selection\\_validation.py\", line 767, in _score\n",
      "    scores = scorer(estimator, X_test, y_test)\n",
      "TypeError: f1_score() takes 2 positional arguments but 3 were given\n",
      "\n",
      "  warnings.warn(\n"
     ]
    },
    {
     "name": "stdout",
     "output_type": "stream",
     "text": [
      "[CV 3/3] END ...learning_rate=0.1, n_estimators=4;, score=nan total time=   0.8s\n"
     ]
    },
    {
     "name": "stderr",
     "output_type": "stream",
     "text": [
      "c:\\Users\\Psa1kl\\AppData\\Local\\Programs\\Python\\Python39\\lib\\site-packages\\sklearn\\model_selection\\_validation.py:778: UserWarning: Scoring failed. The score on this train-test partition for these parameters will be set to nan. Details: \n",
      "Traceback (most recent call last):\n",
      "  File \"c:\\Users\\Psa1kl\\AppData\\Local\\Programs\\Python\\Python39\\lib\\site-packages\\sklearn\\model_selection\\_validation.py\", line 767, in _score\n",
      "    scores = scorer(estimator, X_test, y_test)\n",
      "TypeError: f1_score() takes 2 positional arguments but 3 were given\n",
      "\n",
      "  warnings.warn(\n"
     ]
    },
    {
     "name": "stdout",
     "output_type": "stream",
     "text": [
      "[CV 1/3] END ...learning_rate=0.1, n_estimators=8;, score=nan total time=   1.9s\n"
     ]
    },
    {
     "name": "stderr",
     "output_type": "stream",
     "text": [
      "c:\\Users\\Psa1kl\\AppData\\Local\\Programs\\Python\\Python39\\lib\\site-packages\\sklearn\\model_selection\\_validation.py:778: UserWarning: Scoring failed. The score on this train-test partition for these parameters will be set to nan. Details: \n",
      "Traceback (most recent call last):\n",
      "  File \"c:\\Users\\Psa1kl\\AppData\\Local\\Programs\\Python\\Python39\\lib\\site-packages\\sklearn\\model_selection\\_validation.py\", line 767, in _score\n",
      "    scores = scorer(estimator, X_test, y_test)\n",
      "TypeError: f1_score() takes 2 positional arguments but 3 were given\n",
      "\n",
      "  warnings.warn(\n"
     ]
    },
    {
     "name": "stdout",
     "output_type": "stream",
     "text": [
      "[CV 2/3] END ...learning_rate=0.1, n_estimators=8;, score=nan total time=   1.8s\n"
     ]
    },
    {
     "name": "stderr",
     "output_type": "stream",
     "text": [
      "c:\\Users\\Psa1kl\\AppData\\Local\\Programs\\Python\\Python39\\lib\\site-packages\\sklearn\\model_selection\\_validation.py:778: UserWarning: Scoring failed. The score on this train-test partition for these parameters will be set to nan. Details: \n",
      "Traceback (most recent call last):\n",
      "  File \"c:\\Users\\Psa1kl\\AppData\\Local\\Programs\\Python\\Python39\\lib\\site-packages\\sklearn\\model_selection\\_validation.py\", line 767, in _score\n",
      "    scores = scorer(estimator, X_test, y_test)\n",
      "TypeError: f1_score() takes 2 positional arguments but 3 were given\n",
      "\n",
      "  warnings.warn(\n"
     ]
    },
    {
     "name": "stdout",
     "output_type": "stream",
     "text": [
      "[CV 3/3] END ...learning_rate=0.1, n_estimators=8;, score=nan total time=   1.8s\n"
     ]
    },
    {
     "name": "stderr",
     "output_type": "stream",
     "text": [
      "c:\\Users\\Psa1kl\\AppData\\Local\\Programs\\Python\\Python39\\lib\\site-packages\\sklearn\\model_selection\\_validation.py:778: UserWarning: Scoring failed. The score on this train-test partition for these parameters will be set to nan. Details: \n",
      "Traceback (most recent call last):\n",
      "  File \"c:\\Users\\Psa1kl\\AppData\\Local\\Programs\\Python\\Python39\\lib\\site-packages\\sklearn\\model_selection\\_validation.py\", line 767, in _score\n",
      "    scores = scorer(estimator, X_test, y_test)\n",
      "TypeError: f1_score() takes 2 positional arguments but 3 were given\n",
      "\n",
      "  warnings.warn(\n"
     ]
    },
    {
     "name": "stdout",
     "output_type": "stream",
     "text": [
      "[CV 1/3] END ..learning_rate=0.1, n_estimators=16;, score=nan total time=   3.7s\n"
     ]
    },
    {
     "name": "stderr",
     "output_type": "stream",
     "text": [
      "c:\\Users\\Psa1kl\\AppData\\Local\\Programs\\Python\\Python39\\lib\\site-packages\\sklearn\\model_selection\\_validation.py:778: UserWarning: Scoring failed. The score on this train-test partition for these parameters will be set to nan. Details: \n",
      "Traceback (most recent call last):\n",
      "  File \"c:\\Users\\Psa1kl\\AppData\\Local\\Programs\\Python\\Python39\\lib\\site-packages\\sklearn\\model_selection\\_validation.py\", line 767, in _score\n",
      "    scores = scorer(estimator, X_test, y_test)\n",
      "TypeError: f1_score() takes 2 positional arguments but 3 were given\n",
      "\n",
      "  warnings.warn(\n"
     ]
    },
    {
     "name": "stdout",
     "output_type": "stream",
     "text": [
      "[CV 2/3] END ..learning_rate=0.1, n_estimators=16;, score=nan total time=   4.1s\n"
     ]
    },
    {
     "name": "stderr",
     "output_type": "stream",
     "text": [
      "c:\\Users\\Psa1kl\\AppData\\Local\\Programs\\Python\\Python39\\lib\\site-packages\\sklearn\\model_selection\\_validation.py:778: UserWarning: Scoring failed. The score on this train-test partition for these parameters will be set to nan. Details: \n",
      "Traceback (most recent call last):\n",
      "  File \"c:\\Users\\Psa1kl\\AppData\\Local\\Programs\\Python\\Python39\\lib\\site-packages\\sklearn\\model_selection\\_validation.py\", line 767, in _score\n",
      "    scores = scorer(estimator, X_test, y_test)\n",
      "TypeError: f1_score() takes 2 positional arguments but 3 were given\n",
      "\n",
      "  warnings.warn(\n"
     ]
    },
    {
     "name": "stdout",
     "output_type": "stream",
     "text": [
      "[CV 3/3] END ..learning_rate=0.1, n_estimators=16;, score=nan total time=   3.8s\n"
     ]
    },
    {
     "name": "stderr",
     "output_type": "stream",
     "text": [
      "c:\\Users\\Psa1kl\\AppData\\Local\\Programs\\Python\\Python39\\lib\\site-packages\\sklearn\\model_selection\\_validation.py:778: UserWarning: Scoring failed. The score on this train-test partition for these parameters will be set to nan. Details: \n",
      "Traceback (most recent call last):\n",
      "  File \"c:\\Users\\Psa1kl\\AppData\\Local\\Programs\\Python\\Python39\\lib\\site-packages\\sklearn\\model_selection\\_validation.py\", line 767, in _score\n",
      "    scores = scorer(estimator, X_test, y_test)\n",
      "TypeError: f1_score() takes 2 positional arguments but 3 were given\n",
      "\n",
      "  warnings.warn(\n"
     ]
    },
    {
     "name": "stdout",
     "output_type": "stream",
     "text": [
      "[CV 1/3] END ..learning_rate=0.1, n_estimators=32;, score=nan total time=   9.1s\n"
     ]
    },
    {
     "name": "stderr",
     "output_type": "stream",
     "text": [
      "c:\\Users\\Psa1kl\\AppData\\Local\\Programs\\Python\\Python39\\lib\\site-packages\\sklearn\\model_selection\\_validation.py:778: UserWarning: Scoring failed. The score on this train-test partition for these parameters will be set to nan. Details: \n",
      "Traceback (most recent call last):\n",
      "  File \"c:\\Users\\Psa1kl\\AppData\\Local\\Programs\\Python\\Python39\\lib\\site-packages\\sklearn\\model_selection\\_validation.py\", line 767, in _score\n",
      "    scores = scorer(estimator, X_test, y_test)\n",
      "TypeError: f1_score() takes 2 positional arguments but 3 were given\n",
      "\n",
      "  warnings.warn(\n"
     ]
    },
    {
     "name": "stdout",
     "output_type": "stream",
     "text": [
      "[CV 2/3] END ..learning_rate=0.1, n_estimators=32;, score=nan total time=   8.8s\n"
     ]
    },
    {
     "name": "stderr",
     "output_type": "stream",
     "text": [
      "c:\\Users\\Psa1kl\\AppData\\Local\\Programs\\Python\\Python39\\lib\\site-packages\\sklearn\\model_selection\\_validation.py:778: UserWarning: Scoring failed. The score on this train-test partition for these parameters will be set to nan. Details: \n",
      "Traceback (most recent call last):\n",
      "  File \"c:\\Users\\Psa1kl\\AppData\\Local\\Programs\\Python\\Python39\\lib\\site-packages\\sklearn\\model_selection\\_validation.py\", line 767, in _score\n",
      "    scores = scorer(estimator, X_test, y_test)\n",
      "TypeError: f1_score() takes 2 positional arguments but 3 were given\n",
      "\n",
      "  warnings.warn(\n"
     ]
    },
    {
     "name": "stdout",
     "output_type": "stream",
     "text": [
      "[CV 3/3] END ..learning_rate=0.1, n_estimators=32;, score=nan total time=   8.5s\n"
     ]
    },
    {
     "name": "stderr",
     "output_type": "stream",
     "text": [
      "c:\\Users\\Psa1kl\\AppData\\Local\\Programs\\Python\\Python39\\lib\\site-packages\\sklearn\\model_selection\\_validation.py:778: UserWarning: Scoring failed. The score on this train-test partition for these parameters will be set to nan. Details: \n",
      "Traceback (most recent call last):\n",
      "  File \"c:\\Users\\Psa1kl\\AppData\\Local\\Programs\\Python\\Python39\\lib\\site-packages\\sklearn\\model_selection\\_validation.py\", line 767, in _score\n",
      "    scores = scorer(estimator, X_test, y_test)\n",
      "TypeError: f1_score() takes 2 positional arguments but 3 were given\n",
      "\n",
      "  warnings.warn(\n"
     ]
    },
    {
     "name": "stdout",
     "output_type": "stream",
     "text": [
      "[CV 1/3] END ..learning_rate=0.1, n_estimators=64;, score=nan total time=  15.9s\n"
     ]
    },
    {
     "name": "stderr",
     "output_type": "stream",
     "text": [
      "c:\\Users\\Psa1kl\\AppData\\Local\\Programs\\Python\\Python39\\lib\\site-packages\\sklearn\\model_selection\\_validation.py:778: UserWarning: Scoring failed. The score on this train-test partition for these parameters will be set to nan. Details: \n",
      "Traceback (most recent call last):\n",
      "  File \"c:\\Users\\Psa1kl\\AppData\\Local\\Programs\\Python\\Python39\\lib\\site-packages\\sklearn\\model_selection\\_validation.py\", line 767, in _score\n",
      "    scores = scorer(estimator, X_test, y_test)\n",
      "TypeError: f1_score() takes 2 positional arguments but 3 were given\n",
      "\n",
      "  warnings.warn(\n"
     ]
    },
    {
     "name": "stdout",
     "output_type": "stream",
     "text": [
      "[CV 2/3] END ..learning_rate=0.1, n_estimators=64;, score=nan total time=  15.4s\n"
     ]
    },
    {
     "name": "stderr",
     "output_type": "stream",
     "text": [
      "c:\\Users\\Psa1kl\\AppData\\Local\\Programs\\Python\\Python39\\lib\\site-packages\\sklearn\\model_selection\\_validation.py:778: UserWarning: Scoring failed. The score on this train-test partition for these parameters will be set to nan. Details: \n",
      "Traceback (most recent call last):\n",
      "  File \"c:\\Users\\Psa1kl\\AppData\\Local\\Programs\\Python\\Python39\\lib\\site-packages\\sklearn\\model_selection\\_validation.py\", line 767, in _score\n",
      "    scores = scorer(estimator, X_test, y_test)\n",
      "TypeError: f1_score() takes 2 positional arguments but 3 were given\n",
      "\n",
      "  warnings.warn(\n"
     ]
    },
    {
     "name": "stdout",
     "output_type": "stream",
     "text": [
      "[CV 3/3] END ..learning_rate=0.1, n_estimators=64;, score=nan total time=  15.8s\n"
     ]
    },
    {
     "name": "stderr",
     "output_type": "stream",
     "text": [
      "c:\\Users\\Psa1kl\\AppData\\Local\\Programs\\Python\\Python39\\lib\\site-packages\\sklearn\\model_selection\\_validation.py:778: UserWarning: Scoring failed. The score on this train-test partition for these parameters will be set to nan. Details: \n",
      "Traceback (most recent call last):\n",
      "  File \"c:\\Users\\Psa1kl\\AppData\\Local\\Programs\\Python\\Python39\\lib\\site-packages\\sklearn\\model_selection\\_validation.py\", line 767, in _score\n",
      "    scores = scorer(estimator, X_test, y_test)\n",
      "TypeError: f1_score() takes 2 positional arguments but 3 were given\n",
      "\n",
      "  warnings.warn(\n"
     ]
    },
    {
     "name": "stdout",
     "output_type": "stream",
     "text": [
      "[CV 1/3] END .learning_rate=0.1, n_estimators=128;, score=nan total time=  30.6s\n"
     ]
    },
    {
     "name": "stderr",
     "output_type": "stream",
     "text": [
      "c:\\Users\\Psa1kl\\AppData\\Local\\Programs\\Python\\Python39\\lib\\site-packages\\sklearn\\model_selection\\_validation.py:778: UserWarning: Scoring failed. The score on this train-test partition for these parameters will be set to nan. Details: \n",
      "Traceback (most recent call last):\n",
      "  File \"c:\\Users\\Psa1kl\\AppData\\Local\\Programs\\Python\\Python39\\lib\\site-packages\\sklearn\\model_selection\\_validation.py\", line 767, in _score\n",
      "    scores = scorer(estimator, X_test, y_test)\n",
      "TypeError: f1_score() takes 2 positional arguments but 3 were given\n",
      "\n",
      "  warnings.warn(\n"
     ]
    },
    {
     "name": "stdout",
     "output_type": "stream",
     "text": [
      "[CV 2/3] END .learning_rate=0.1, n_estimators=128;, score=nan total time=  43.6s\n"
     ]
    },
    {
     "name": "stderr",
     "output_type": "stream",
     "text": [
      "c:\\Users\\Psa1kl\\AppData\\Local\\Programs\\Python\\Python39\\lib\\site-packages\\sklearn\\model_selection\\_validation.py:778: UserWarning: Scoring failed. The score on this train-test partition for these parameters will be set to nan. Details: \n",
      "Traceback (most recent call last):\n",
      "  File \"c:\\Users\\Psa1kl\\AppData\\Local\\Programs\\Python\\Python39\\lib\\site-packages\\sklearn\\model_selection\\_validation.py\", line 767, in _score\n",
      "    scores = scorer(estimator, X_test, y_test)\n",
      "TypeError: f1_score() takes 2 positional arguments but 3 were given\n",
      "\n",
      "  warnings.warn(\n"
     ]
    },
    {
     "name": "stdout",
     "output_type": "stream",
     "text": [
      "[CV 3/3] END .learning_rate=0.1, n_estimators=128;, score=nan total time=  31.8s\n"
     ]
    },
    {
     "name": "stderr",
     "output_type": "stream",
     "text": [
      "c:\\Users\\Psa1kl\\AppData\\Local\\Programs\\Python\\Python39\\lib\\site-packages\\sklearn\\model_selection\\_validation.py:778: UserWarning: Scoring failed. The score on this train-test partition for these parameters will be set to nan. Details: \n",
      "Traceback (most recent call last):\n",
      "  File \"c:\\Users\\Psa1kl\\AppData\\Local\\Programs\\Python\\Python39\\lib\\site-packages\\sklearn\\model_selection\\_validation.py\", line 767, in _score\n",
      "    scores = scorer(estimator, X_test, y_test)\n",
      "TypeError: f1_score() takes 2 positional arguments but 3 were given\n",
      "\n",
      "  warnings.warn(\n"
     ]
    },
    {
     "name": "stdout",
     "output_type": "stream",
     "text": [
      "[CV 1/3] END learning_rate=0.010000000000000002, n_estimators=1;, score=nan total time=   0.1s\n"
     ]
    },
    {
     "name": "stderr",
     "output_type": "stream",
     "text": [
      "c:\\Users\\Psa1kl\\AppData\\Local\\Programs\\Python\\Python39\\lib\\site-packages\\sklearn\\model_selection\\_validation.py:778: UserWarning: Scoring failed. The score on this train-test partition for these parameters will be set to nan. Details: \n",
      "Traceback (most recent call last):\n",
      "  File \"c:\\Users\\Psa1kl\\AppData\\Local\\Programs\\Python\\Python39\\lib\\site-packages\\sklearn\\model_selection\\_validation.py\", line 767, in _score\n",
      "    scores = scorer(estimator, X_test, y_test)\n",
      "TypeError: f1_score() takes 2 positional arguments but 3 were given\n",
      "\n",
      "  warnings.warn(\n"
     ]
    },
    {
     "name": "stdout",
     "output_type": "stream",
     "text": [
      "[CV 2/3] END learning_rate=0.010000000000000002, n_estimators=1;, score=nan total time=   0.2s\n"
     ]
    },
    {
     "name": "stderr",
     "output_type": "stream",
     "text": [
      "c:\\Users\\Psa1kl\\AppData\\Local\\Programs\\Python\\Python39\\lib\\site-packages\\sklearn\\model_selection\\_validation.py:778: UserWarning: Scoring failed. The score on this train-test partition for these parameters will be set to nan. Details: \n",
      "Traceback (most recent call last):\n",
      "  File \"c:\\Users\\Psa1kl\\AppData\\Local\\Programs\\Python\\Python39\\lib\\site-packages\\sklearn\\model_selection\\_validation.py\", line 767, in _score\n",
      "    scores = scorer(estimator, X_test, y_test)\n",
      "TypeError: f1_score() takes 2 positional arguments but 3 were given\n",
      "\n",
      "  warnings.warn(\n"
     ]
    },
    {
     "name": "stdout",
     "output_type": "stream",
     "text": [
      "[CV 3/3] END learning_rate=0.010000000000000002, n_estimators=1;, score=nan total time=   0.2s\n"
     ]
    },
    {
     "name": "stderr",
     "output_type": "stream",
     "text": [
      "c:\\Users\\Psa1kl\\AppData\\Local\\Programs\\Python\\Python39\\lib\\site-packages\\sklearn\\model_selection\\_validation.py:778: UserWarning: Scoring failed. The score on this train-test partition for these parameters will be set to nan. Details: \n",
      "Traceback (most recent call last):\n",
      "  File \"c:\\Users\\Psa1kl\\AppData\\Local\\Programs\\Python\\Python39\\lib\\site-packages\\sklearn\\model_selection\\_validation.py\", line 767, in _score\n",
      "    scores = scorer(estimator, X_test, y_test)\n",
      "TypeError: f1_score() takes 2 positional arguments but 3 were given\n",
      "\n",
      "  warnings.warn(\n"
     ]
    },
    {
     "name": "stdout",
     "output_type": "stream",
     "text": [
      "[CV 1/3] END learning_rate=0.010000000000000002, n_estimators=2;, score=nan total time=   0.8s\n"
     ]
    },
    {
     "name": "stderr",
     "output_type": "stream",
     "text": [
      "c:\\Users\\Psa1kl\\AppData\\Local\\Programs\\Python\\Python39\\lib\\site-packages\\sklearn\\model_selection\\_validation.py:778: UserWarning: Scoring failed. The score on this train-test partition for these parameters will be set to nan. Details: \n",
      "Traceback (most recent call last):\n",
      "  File \"c:\\Users\\Psa1kl\\AppData\\Local\\Programs\\Python\\Python39\\lib\\site-packages\\sklearn\\model_selection\\_validation.py\", line 767, in _score\n",
      "    scores = scorer(estimator, X_test, y_test)\n",
      "TypeError: f1_score() takes 2 positional arguments but 3 were given\n",
      "\n",
      "  warnings.warn(\n"
     ]
    },
    {
     "name": "stdout",
     "output_type": "stream",
     "text": [
      "[CV 2/3] END learning_rate=0.010000000000000002, n_estimators=2;, score=nan total time=   0.5s\n"
     ]
    },
    {
     "name": "stderr",
     "output_type": "stream",
     "text": [
      "c:\\Users\\Psa1kl\\AppData\\Local\\Programs\\Python\\Python39\\lib\\site-packages\\sklearn\\model_selection\\_validation.py:778: UserWarning: Scoring failed. The score on this train-test partition for these parameters will be set to nan. Details: \n",
      "Traceback (most recent call last):\n",
      "  File \"c:\\Users\\Psa1kl\\AppData\\Local\\Programs\\Python\\Python39\\lib\\site-packages\\sklearn\\model_selection\\_validation.py\", line 767, in _score\n",
      "    scores = scorer(estimator, X_test, y_test)\n",
      "TypeError: f1_score() takes 2 positional arguments but 3 were given\n",
      "\n",
      "  warnings.warn(\n"
     ]
    },
    {
     "name": "stdout",
     "output_type": "stream",
     "text": [
      "[CV 3/3] END learning_rate=0.010000000000000002, n_estimators=2;, score=nan total time=   0.7s\n"
     ]
    },
    {
     "name": "stderr",
     "output_type": "stream",
     "text": [
      "c:\\Users\\Psa1kl\\AppData\\Local\\Programs\\Python\\Python39\\lib\\site-packages\\sklearn\\model_selection\\_validation.py:778: UserWarning: Scoring failed. The score on this train-test partition for these parameters will be set to nan. Details: \n",
      "Traceback (most recent call last):\n",
      "  File \"c:\\Users\\Psa1kl\\AppData\\Local\\Programs\\Python\\Python39\\lib\\site-packages\\sklearn\\model_selection\\_validation.py\", line 767, in _score\n",
      "    scores = scorer(estimator, X_test, y_test)\n",
      "TypeError: f1_score() takes 2 positional arguments but 3 were given\n",
      "\n",
      "  warnings.warn(\n"
     ]
    },
    {
     "name": "stdout",
     "output_type": "stream",
     "text": [
      "[CV 1/3] END learning_rate=0.010000000000000002, n_estimators=4;, score=nan total time=   0.9s\n"
     ]
    },
    {
     "name": "stderr",
     "output_type": "stream",
     "text": [
      "c:\\Users\\Psa1kl\\AppData\\Local\\Programs\\Python\\Python39\\lib\\site-packages\\sklearn\\model_selection\\_validation.py:778: UserWarning: Scoring failed. The score on this train-test partition for these parameters will be set to nan. Details: \n",
      "Traceback (most recent call last):\n",
      "  File \"c:\\Users\\Psa1kl\\AppData\\Local\\Programs\\Python\\Python39\\lib\\site-packages\\sklearn\\model_selection\\_validation.py\", line 767, in _score\n",
      "    scores = scorer(estimator, X_test, y_test)\n",
      "TypeError: f1_score() takes 2 positional arguments but 3 were given\n",
      "\n",
      "  warnings.warn(\n"
     ]
    },
    {
     "name": "stdout",
     "output_type": "stream",
     "text": [
      "[CV 2/3] END learning_rate=0.010000000000000002, n_estimators=4;, score=nan total time=   1.3s\n"
     ]
    },
    {
     "name": "stderr",
     "output_type": "stream",
     "text": [
      "c:\\Users\\Psa1kl\\AppData\\Local\\Programs\\Python\\Python39\\lib\\site-packages\\sklearn\\model_selection\\_validation.py:778: UserWarning: Scoring failed. The score on this train-test partition for these parameters will be set to nan. Details: \n",
      "Traceback (most recent call last):\n",
      "  File \"c:\\Users\\Psa1kl\\AppData\\Local\\Programs\\Python\\Python39\\lib\\site-packages\\sklearn\\model_selection\\_validation.py\", line 767, in _score\n",
      "    scores = scorer(estimator, X_test, y_test)\n",
      "TypeError: f1_score() takes 2 positional arguments but 3 were given\n",
      "\n",
      "  warnings.warn(\n"
     ]
    },
    {
     "name": "stdout",
     "output_type": "stream",
     "text": [
      "[CV 3/3] END learning_rate=0.010000000000000002, n_estimators=4;, score=nan total time=   1.0s\n"
     ]
    },
    {
     "name": "stderr",
     "output_type": "stream",
     "text": [
      "c:\\Users\\Psa1kl\\AppData\\Local\\Programs\\Python\\Python39\\lib\\site-packages\\sklearn\\model_selection\\_validation.py:778: UserWarning: Scoring failed. The score on this train-test partition for these parameters will be set to nan. Details: \n",
      "Traceback (most recent call last):\n",
      "  File \"c:\\Users\\Psa1kl\\AppData\\Local\\Programs\\Python\\Python39\\lib\\site-packages\\sklearn\\model_selection\\_validation.py\", line 767, in _score\n",
      "    scores = scorer(estimator, X_test, y_test)\n",
      "TypeError: f1_score() takes 2 positional arguments but 3 were given\n",
      "\n",
      "  warnings.warn(\n"
     ]
    },
    {
     "name": "stdout",
     "output_type": "stream",
     "text": [
      "[CV 1/3] END learning_rate=0.010000000000000002, n_estimators=8;, score=nan total time=   1.8s\n"
     ]
    },
    {
     "name": "stderr",
     "output_type": "stream",
     "text": [
      "c:\\Users\\Psa1kl\\AppData\\Local\\Programs\\Python\\Python39\\lib\\site-packages\\sklearn\\model_selection\\_validation.py:778: UserWarning: Scoring failed. The score on this train-test partition for these parameters will be set to nan. Details: \n",
      "Traceback (most recent call last):\n",
      "  File \"c:\\Users\\Psa1kl\\AppData\\Local\\Programs\\Python\\Python39\\lib\\site-packages\\sklearn\\model_selection\\_validation.py\", line 767, in _score\n",
      "    scores = scorer(estimator, X_test, y_test)\n",
      "TypeError: f1_score() takes 2 positional arguments but 3 were given\n",
      "\n",
      "  warnings.warn(\n"
     ]
    },
    {
     "name": "stdout",
     "output_type": "stream",
     "text": [
      "[CV 2/3] END learning_rate=0.010000000000000002, n_estimators=8;, score=nan total time=   1.9s\n"
     ]
    },
    {
     "name": "stderr",
     "output_type": "stream",
     "text": [
      "c:\\Users\\Psa1kl\\AppData\\Local\\Programs\\Python\\Python39\\lib\\site-packages\\sklearn\\model_selection\\_validation.py:778: UserWarning: Scoring failed. The score on this train-test partition for these parameters will be set to nan. Details: \n",
      "Traceback (most recent call last):\n",
      "  File \"c:\\Users\\Psa1kl\\AppData\\Local\\Programs\\Python\\Python39\\lib\\site-packages\\sklearn\\model_selection\\_validation.py\", line 767, in _score\n",
      "    scores = scorer(estimator, X_test, y_test)\n",
      "TypeError: f1_score() takes 2 positional arguments but 3 were given\n",
      "\n",
      "  warnings.warn(\n"
     ]
    },
    {
     "name": "stdout",
     "output_type": "stream",
     "text": [
      "[CV 3/3] END learning_rate=0.010000000000000002, n_estimators=8;, score=nan total time=   1.7s\n"
     ]
    },
    {
     "name": "stderr",
     "output_type": "stream",
     "text": [
      "c:\\Users\\Psa1kl\\AppData\\Local\\Programs\\Python\\Python39\\lib\\site-packages\\sklearn\\model_selection\\_validation.py:778: UserWarning: Scoring failed. The score on this train-test partition for these parameters will be set to nan. Details: \n",
      "Traceback (most recent call last):\n",
      "  File \"c:\\Users\\Psa1kl\\AppData\\Local\\Programs\\Python\\Python39\\lib\\site-packages\\sklearn\\model_selection\\_validation.py\", line 767, in _score\n",
      "    scores = scorer(estimator, X_test, y_test)\n",
      "TypeError: f1_score() takes 2 positional arguments but 3 were given\n",
      "\n",
      "  warnings.warn(\n"
     ]
    },
    {
     "name": "stdout",
     "output_type": "stream",
     "text": [
      "[CV 1/3] END learning_rate=0.010000000000000002, n_estimators=16;, score=nan total time=   4.1s\n"
     ]
    },
    {
     "name": "stderr",
     "output_type": "stream",
     "text": [
      "c:\\Users\\Psa1kl\\AppData\\Local\\Programs\\Python\\Python39\\lib\\site-packages\\sklearn\\model_selection\\_validation.py:778: UserWarning: Scoring failed. The score on this train-test partition for these parameters will be set to nan. Details: \n",
      "Traceback (most recent call last):\n",
      "  File \"c:\\Users\\Psa1kl\\AppData\\Local\\Programs\\Python\\Python39\\lib\\site-packages\\sklearn\\model_selection\\_validation.py\", line 767, in _score\n",
      "    scores = scorer(estimator, X_test, y_test)\n",
      "TypeError: f1_score() takes 2 positional arguments but 3 were given\n",
      "\n",
      "  warnings.warn(\n"
     ]
    },
    {
     "name": "stdout",
     "output_type": "stream",
     "text": [
      "[CV 2/3] END learning_rate=0.010000000000000002, n_estimators=16;, score=nan total time=   4.4s\n"
     ]
    },
    {
     "name": "stderr",
     "output_type": "stream",
     "text": [
      "c:\\Users\\Psa1kl\\AppData\\Local\\Programs\\Python\\Python39\\lib\\site-packages\\sklearn\\model_selection\\_validation.py:778: UserWarning: Scoring failed. The score on this train-test partition for these parameters will be set to nan. Details: \n",
      "Traceback (most recent call last):\n",
      "  File \"c:\\Users\\Psa1kl\\AppData\\Local\\Programs\\Python\\Python39\\lib\\site-packages\\sklearn\\model_selection\\_validation.py\", line 767, in _score\n",
      "    scores = scorer(estimator, X_test, y_test)\n",
      "TypeError: f1_score() takes 2 positional arguments but 3 were given\n",
      "\n",
      "  warnings.warn(\n"
     ]
    },
    {
     "name": "stdout",
     "output_type": "stream",
     "text": [
      "[CV 3/3] END learning_rate=0.010000000000000002, n_estimators=16;, score=nan total time=   4.6s\n"
     ]
    },
    {
     "name": "stderr",
     "output_type": "stream",
     "text": [
      "c:\\Users\\Psa1kl\\AppData\\Local\\Programs\\Python\\Python39\\lib\\site-packages\\sklearn\\model_selection\\_validation.py:778: UserWarning: Scoring failed. The score on this train-test partition for these parameters will be set to nan. Details: \n",
      "Traceback (most recent call last):\n",
      "  File \"c:\\Users\\Psa1kl\\AppData\\Local\\Programs\\Python\\Python39\\lib\\site-packages\\sklearn\\model_selection\\_validation.py\", line 767, in _score\n",
      "    scores = scorer(estimator, X_test, y_test)\n",
      "TypeError: f1_score() takes 2 positional arguments but 3 were given\n",
      "\n",
      "  warnings.warn(\n"
     ]
    },
    {
     "name": "stdout",
     "output_type": "stream",
     "text": [
      "[CV 1/3] END learning_rate=0.010000000000000002, n_estimators=32;, score=nan total time=   7.7s\n"
     ]
    },
    {
     "name": "stderr",
     "output_type": "stream",
     "text": [
      "c:\\Users\\Psa1kl\\AppData\\Local\\Programs\\Python\\Python39\\lib\\site-packages\\sklearn\\model_selection\\_validation.py:778: UserWarning: Scoring failed. The score on this train-test partition for these parameters will be set to nan. Details: \n",
      "Traceback (most recent call last):\n",
      "  File \"c:\\Users\\Psa1kl\\AppData\\Local\\Programs\\Python\\Python39\\lib\\site-packages\\sklearn\\model_selection\\_validation.py\", line 767, in _score\n",
      "    scores = scorer(estimator, X_test, y_test)\n",
      "TypeError: f1_score() takes 2 positional arguments but 3 were given\n",
      "\n",
      "  warnings.warn(\n"
     ]
    },
    {
     "name": "stdout",
     "output_type": "stream",
     "text": [
      "[CV 2/3] END learning_rate=0.010000000000000002, n_estimators=32;, score=nan total time=   7.7s\n"
     ]
    },
    {
     "name": "stderr",
     "output_type": "stream",
     "text": [
      "c:\\Users\\Psa1kl\\AppData\\Local\\Programs\\Python\\Python39\\lib\\site-packages\\sklearn\\model_selection\\_validation.py:778: UserWarning: Scoring failed. The score on this train-test partition for these parameters will be set to nan. Details: \n",
      "Traceback (most recent call last):\n",
      "  File \"c:\\Users\\Psa1kl\\AppData\\Local\\Programs\\Python\\Python39\\lib\\site-packages\\sklearn\\model_selection\\_validation.py\", line 767, in _score\n",
      "    scores = scorer(estimator, X_test, y_test)\n",
      "TypeError: f1_score() takes 2 positional arguments but 3 were given\n",
      "\n",
      "  warnings.warn(\n"
     ]
    },
    {
     "name": "stdout",
     "output_type": "stream",
     "text": [
      "[CV 3/3] END learning_rate=0.010000000000000002, n_estimators=32;, score=nan total time=   6.9s\n"
     ]
    },
    {
     "name": "stderr",
     "output_type": "stream",
     "text": [
      "c:\\Users\\Psa1kl\\AppData\\Local\\Programs\\Python\\Python39\\lib\\site-packages\\sklearn\\model_selection\\_validation.py:778: UserWarning: Scoring failed. The score on this train-test partition for these parameters will be set to nan. Details: \n",
      "Traceback (most recent call last):\n",
      "  File \"c:\\Users\\Psa1kl\\AppData\\Local\\Programs\\Python\\Python39\\lib\\site-packages\\sklearn\\model_selection\\_validation.py\", line 767, in _score\n",
      "    scores = scorer(estimator, X_test, y_test)\n",
      "TypeError: f1_score() takes 2 positional arguments but 3 were given\n",
      "\n",
      "  warnings.warn(\n"
     ]
    },
    {
     "name": "stdout",
     "output_type": "stream",
     "text": [
      "[CV 1/3] END learning_rate=0.010000000000000002, n_estimators=64;, score=nan total time=  23.2s\n"
     ]
    },
    {
     "name": "stderr",
     "output_type": "stream",
     "text": [
      "c:\\Users\\Psa1kl\\AppData\\Local\\Programs\\Python\\Python39\\lib\\site-packages\\sklearn\\model_selection\\_validation.py:778: UserWarning: Scoring failed. The score on this train-test partition for these parameters will be set to nan. Details: \n",
      "Traceback (most recent call last):\n",
      "  File \"c:\\Users\\Psa1kl\\AppData\\Local\\Programs\\Python\\Python39\\lib\\site-packages\\sklearn\\model_selection\\_validation.py\", line 767, in _score\n",
      "    scores = scorer(estimator, X_test, y_test)\n",
      "TypeError: f1_score() takes 2 positional arguments but 3 were given\n",
      "\n",
      "  warnings.warn(\n"
     ]
    },
    {
     "name": "stdout",
     "output_type": "stream",
     "text": [
      "[CV 2/3] END learning_rate=0.010000000000000002, n_estimators=64;, score=nan total time=  14.2s\n"
     ]
    },
    {
     "name": "stderr",
     "output_type": "stream",
     "text": [
      "c:\\Users\\Psa1kl\\AppData\\Local\\Programs\\Python\\Python39\\lib\\site-packages\\sklearn\\model_selection\\_validation.py:778: UserWarning: Scoring failed. The score on this train-test partition for these parameters will be set to nan. Details: \n",
      "Traceback (most recent call last):\n",
      "  File \"c:\\Users\\Psa1kl\\AppData\\Local\\Programs\\Python\\Python39\\lib\\site-packages\\sklearn\\model_selection\\_validation.py\", line 767, in _score\n",
      "    scores = scorer(estimator, X_test, y_test)\n",
      "TypeError: f1_score() takes 2 positional arguments but 3 were given\n",
      "\n",
      "  warnings.warn(\n"
     ]
    },
    {
     "name": "stdout",
     "output_type": "stream",
     "text": [
      "[CV 3/3] END learning_rate=0.010000000000000002, n_estimators=64;, score=nan total time=  16.3s\n"
     ]
    },
    {
     "name": "stderr",
     "output_type": "stream",
     "text": [
      "c:\\Users\\Psa1kl\\AppData\\Local\\Programs\\Python\\Python39\\lib\\site-packages\\sklearn\\model_selection\\_validation.py:778: UserWarning: Scoring failed. The score on this train-test partition for these parameters will be set to nan. Details: \n",
      "Traceback (most recent call last):\n",
      "  File \"c:\\Users\\Psa1kl\\AppData\\Local\\Programs\\Python\\Python39\\lib\\site-packages\\sklearn\\model_selection\\_validation.py\", line 767, in _score\n",
      "    scores = scorer(estimator, X_test, y_test)\n",
      "TypeError: f1_score() takes 2 positional arguments but 3 were given\n",
      "\n",
      "  warnings.warn(\n"
     ]
    },
    {
     "name": "stdout",
     "output_type": "stream",
     "text": [
      "[CV 1/3] END learning_rate=0.010000000000000002, n_estimators=128;, score=nan total time=  52.9s\n"
     ]
    },
    {
     "name": "stderr",
     "output_type": "stream",
     "text": [
      "c:\\Users\\Psa1kl\\AppData\\Local\\Programs\\Python\\Python39\\lib\\site-packages\\sklearn\\model_selection\\_validation.py:778: UserWarning: Scoring failed. The score on this train-test partition for these parameters will be set to nan. Details: \n",
      "Traceback (most recent call last):\n",
      "  File \"c:\\Users\\Psa1kl\\AppData\\Local\\Programs\\Python\\Python39\\lib\\site-packages\\sklearn\\model_selection\\_validation.py\", line 767, in _score\n",
      "    scores = scorer(estimator, X_test, y_test)\n",
      "TypeError: f1_score() takes 2 positional arguments but 3 were given\n",
      "\n",
      "  warnings.warn(\n"
     ]
    },
    {
     "name": "stdout",
     "output_type": "stream",
     "text": [
      "[CV 2/3] END learning_rate=0.010000000000000002, n_estimators=128;, score=nan total time=  36.3s\n"
     ]
    },
    {
     "name": "stderr",
     "output_type": "stream",
     "text": [
      "c:\\Users\\Psa1kl\\AppData\\Local\\Programs\\Python\\Python39\\lib\\site-packages\\sklearn\\model_selection\\_validation.py:778: UserWarning: Scoring failed. The score on this train-test partition for these parameters will be set to nan. Details: \n",
      "Traceback (most recent call last):\n",
      "  File \"c:\\Users\\Psa1kl\\AppData\\Local\\Programs\\Python\\Python39\\lib\\site-packages\\sklearn\\model_selection\\_validation.py\", line 767, in _score\n",
      "    scores = scorer(estimator, X_test, y_test)\n",
      "TypeError: f1_score() takes 2 positional arguments but 3 were given\n",
      "\n",
      "  warnings.warn(\n",
      "c:\\Users\\Psa1kl\\AppData\\Local\\Programs\\Python\\Python39\\lib\\site-packages\\sklearn\\model_selection\\_search.py:952: UserWarning: One or more of the test scores are non-finite: [nan nan nan nan nan nan nan nan nan nan nan nan nan nan nan nan nan nan\n",
      " nan nan nan nan nan nan]\n",
      "  warnings.warn(\n"
     ]
    },
    {
     "name": "stdout",
     "output_type": "stream",
     "text": [
      "[CV 3/3] END learning_rate=0.010000000000000002, n_estimators=128;, score=nan total time=  48.0s\n",
      "Лучшие гиперпараметры: {'learning_rate': 1.0, 'n_estimators': 1}\n",
      "Лучшее значение метрики: nan\n"
     ]
    }
   ],
   "source": [
    "model_for_gs = GradientBoostingClassifier()\n",
    "params = {\"n_estimators\":2**np.arange(8), \"learning_rate\":0.1**np.arange(3)}\n",
    "gs = GridSearchCV(model_for_gs, \n",
    "                  params, \n",
    "                  cv=3, \n",
    "                  scoring= f1_score,\n",
    "                  verbose=5)\n",
    " \n",
    "gs.fit(X_train, y_train)\n",
    " \n",
    "print(\"Лучшие гиперпараметры:\", gs.best_params_)\n",
    "print(\"Лучшее значение метрики:\", gs.best_score_)"
   ]
  },
  {
   "cell_type": "markdown",
   "metadata": {},
   "source": [
    "ЗАДАНИЕ 6.10"
   ]
  },
  {
   "cell_type": "code",
   "execution_count": 50,
   "metadata": {},
   "outputs": [
    {
     "data": {
      "text/plain": [
       "0.9574894279991099"
      ]
     },
     "execution_count": 50,
     "metadata": {},
     "output_type": "execute_result"
    }
   ],
   "source": [
    "model_xgb = XGBClassifier(random_state=26)\n",
    "model_xgb.fit(X_train,y_train)\n",
    "preds_test = model_xgb.predict(X_test)\n",
    "f1_score(preds_test, y_test)"
   ]
  },
  {
   "cell_type": "markdown",
   "metadata": {},
   "source": [
    "ЗАДАНИЕ 6.11"
   ]
  },
  {
   "cell_type": "code",
   "execution_count": 56,
   "metadata": {},
   "outputs": [
    {
     "name": "stdout",
     "output_type": "stream",
     "text": [
      "Learning rate set to 0.068023\n",
      "0:\tlearn: 0.6018254\ttotal: 198ms\tremaining: 3m 18s\n",
      "1:\tlearn: 0.5117893\ttotal: 245ms\tremaining: 2m 2s\n",
      "2:\tlearn: 0.4550684\ttotal: 284ms\tremaining: 1m 34s\n",
      "3:\tlearn: 0.4109971\ttotal: 320ms\tremaining: 1m 19s\n",
      "4:\tlearn: 0.3586409\ttotal: 350ms\tremaining: 1m 9s\n",
      "5:\tlearn: 0.3283927\ttotal: 370ms\tremaining: 1m 1s\n",
      "6:\tlearn: 0.3068417\ttotal: 395ms\tremaining: 56.1s\n",
      "7:\tlearn: 0.2872791\ttotal: 426ms\tremaining: 52.9s\n",
      "8:\tlearn: 0.2702372\ttotal: 458ms\tremaining: 50.4s\n",
      "9:\tlearn: 0.2568044\ttotal: 494ms\tremaining: 48.9s\n",
      "10:\tlearn: 0.2460252\ttotal: 528ms\tremaining: 47.5s\n",
      "11:\tlearn: 0.2371697\ttotal: 580ms\tremaining: 47.7s\n",
      "12:\tlearn: 0.2227435\ttotal: 611ms\tremaining: 46.4s\n",
      "13:\tlearn: 0.2113300\ttotal: 644ms\tremaining: 45.4s\n",
      "14:\tlearn: 0.2019338\ttotal: 674ms\tremaining: 44.3s\n",
      "15:\tlearn: 0.1969024\ttotal: 712ms\tremaining: 43.8s\n",
      "16:\tlearn: 0.1919289\ttotal: 830ms\tremaining: 48s\n",
      "17:\tlearn: 0.1882538\ttotal: 975ms\tremaining: 53.2s\n",
      "18:\tlearn: 0.1816902\ttotal: 1.01s\tremaining: 52.2s\n",
      "19:\tlearn: 0.1781049\ttotal: 1.04s\tremaining: 50.9s\n",
      "20:\tlearn: 0.1737655\ttotal: 1.06s\tremaining: 49.4s\n",
      "21:\tlearn: 0.1703700\ttotal: 1.09s\tremaining: 48.5s\n",
      "22:\tlearn: 0.1682454\ttotal: 1.11s\tremaining: 47.3s\n",
      "23:\tlearn: 0.1654591\ttotal: 1.16s\tremaining: 47.1s\n",
      "24:\tlearn: 0.1627967\ttotal: 1.21s\tremaining: 47.2s\n",
      "25:\tlearn: 0.1609922\ttotal: 1.24s\tremaining: 46.5s\n",
      "26:\tlearn: 0.1566222\ttotal: 1.26s\tremaining: 45.5s\n",
      "27:\tlearn: 0.1543403\ttotal: 1.29s\tremaining: 44.9s\n",
      "28:\tlearn: 0.1530955\ttotal: 1.32s\tremaining: 44.1s\n",
      "29:\tlearn: 0.1511832\ttotal: 1.34s\tremaining: 43.3s\n",
      "30:\tlearn: 0.1499586\ttotal: 1.36s\tremaining: 42.6s\n",
      "31:\tlearn: 0.1476612\ttotal: 1.38s\tremaining: 41.9s\n",
      "32:\tlearn: 0.1463309\ttotal: 1.41s\tremaining: 41.2s\n",
      "33:\tlearn: 0.1445326\ttotal: 1.47s\tremaining: 41.7s\n",
      "34:\tlearn: 0.1433024\ttotal: 1.5s\tremaining: 41.2s\n",
      "35:\tlearn: 0.1420346\ttotal: 1.52s\tremaining: 40.6s\n",
      "36:\tlearn: 0.1411671\ttotal: 1.54s\tremaining: 40s\n",
      "37:\tlearn: 0.1401499\ttotal: 1.56s\tremaining: 39.5s\n",
      "38:\tlearn: 0.1387327\ttotal: 1.58s\tremaining: 39s\n",
      "39:\tlearn: 0.1379038\ttotal: 1.6s\tremaining: 38.5s\n",
      "40:\tlearn: 0.1355501\ttotal: 1.63s\tremaining: 38.1s\n",
      "41:\tlearn: 0.1347922\ttotal: 1.66s\tremaining: 37.8s\n",
      "42:\tlearn: 0.1339063\ttotal: 1.68s\tremaining: 37.4s\n",
      "43:\tlearn: 0.1331960\ttotal: 1.7s\tremaining: 37s\n",
      "44:\tlearn: 0.1325333\ttotal: 1.73s\tremaining: 36.7s\n",
      "45:\tlearn: 0.1320484\ttotal: 1.75s\tremaining: 36.4s\n",
      "46:\tlearn: 0.1312923\ttotal: 1.78s\tremaining: 36s\n",
      "47:\tlearn: 0.1308536\ttotal: 1.8s\tremaining: 35.6s\n",
      "48:\tlearn: 0.1304499\ttotal: 1.83s\tremaining: 35.5s\n",
      "49:\tlearn: 0.1290858\ttotal: 1.87s\tremaining: 35.6s\n",
      "50:\tlearn: 0.1285641\ttotal: 1.89s\tremaining: 35.2s\n",
      "51:\tlearn: 0.1279383\ttotal: 1.92s\tremaining: 35s\n",
      "52:\tlearn: 0.1266798\ttotal: 1.94s\tremaining: 34.7s\n",
      "53:\tlearn: 0.1261625\ttotal: 1.96s\tremaining: 34.3s\n",
      "54:\tlearn: 0.1254417\ttotal: 1.98s\tremaining: 34s\n",
      "55:\tlearn: 0.1247782\ttotal: 2s\tremaining: 33.8s\n",
      "56:\tlearn: 0.1244020\ttotal: 2.02s\tremaining: 33.5s\n",
      "57:\tlearn: 0.1235972\ttotal: 2.05s\tremaining: 33.3s\n",
      "58:\tlearn: 0.1232184\ttotal: 2.09s\tremaining: 33.4s\n",
      "59:\tlearn: 0.1226453\ttotal: 2.12s\tremaining: 33.2s\n",
      "60:\tlearn: 0.1222796\ttotal: 2.14s\tremaining: 32.9s\n",
      "61:\tlearn: 0.1214349\ttotal: 2.17s\tremaining: 32.8s\n",
      "62:\tlearn: 0.1209098\ttotal: 2.19s\tremaining: 32.5s\n",
      "63:\tlearn: 0.1203295\ttotal: 2.21s\tremaining: 32.3s\n",
      "64:\tlearn: 0.1198644\ttotal: 2.23s\tremaining: 32.1s\n",
      "65:\tlearn: 0.1187601\ttotal: 2.25s\tremaining: 31.9s\n",
      "66:\tlearn: 0.1178628\ttotal: 2.29s\tremaining: 31.9s\n",
      "67:\tlearn: 0.1172408\ttotal: 2.32s\tremaining: 31.8s\n",
      "68:\tlearn: 0.1169062\ttotal: 2.34s\tremaining: 31.6s\n",
      "69:\tlearn: 0.1163636\ttotal: 2.36s\tremaining: 31.4s\n",
      "70:\tlearn: 0.1159472\ttotal: 2.38s\tremaining: 31.2s\n",
      "71:\tlearn: 0.1155940\ttotal: 2.4s\tremaining: 30.9s\n",
      "72:\tlearn: 0.1153506\ttotal: 2.42s\tremaining: 30.7s\n",
      "73:\tlearn: 0.1150794\ttotal: 2.44s\tremaining: 30.5s\n",
      "74:\tlearn: 0.1138798\ttotal: 2.46s\tremaining: 30.3s\n",
      "75:\tlearn: 0.1128819\ttotal: 2.48s\tremaining: 30.2s\n",
      "76:\tlearn: 0.1123766\ttotal: 2.5s\tremaining: 30s\n",
      "77:\tlearn: 0.1121834\ttotal: 2.53s\tremaining: 29.9s\n",
      "78:\tlearn: 0.1118580\ttotal: 2.57s\tremaining: 29.9s\n",
      "79:\tlearn: 0.1116243\ttotal: 2.59s\tremaining: 29.8s\n",
      "80:\tlearn: 0.1111025\ttotal: 2.62s\tremaining: 29.7s\n",
      "81:\tlearn: 0.1102059\ttotal: 2.64s\tremaining: 29.6s\n",
      "82:\tlearn: 0.1096300\ttotal: 2.67s\tremaining: 29.5s\n",
      "83:\tlearn: 0.1091899\ttotal: 2.7s\tremaining: 29.4s\n",
      "84:\tlearn: 0.1089171\ttotal: 2.73s\tremaining: 29.4s\n",
      "85:\tlearn: 0.1086253\ttotal: 2.75s\tremaining: 29.3s\n",
      "86:\tlearn: 0.1083487\ttotal: 2.78s\tremaining: 29.2s\n",
      "87:\tlearn: 0.1080291\ttotal: 2.8s\tremaining: 29s\n",
      "88:\tlearn: 0.1076872\ttotal: 2.82s\tremaining: 28.9s\n",
      "89:\tlearn: 0.1071568\ttotal: 2.84s\tremaining: 28.7s\n",
      "90:\tlearn: 0.1069527\ttotal: 2.86s\tremaining: 28.6s\n",
      "91:\tlearn: 0.1067390\ttotal: 2.88s\tremaining: 28.5s\n",
      "92:\tlearn: 0.1063144\ttotal: 2.9s\tremaining: 28.3s\n",
      "93:\tlearn: 0.1062101\ttotal: 2.93s\tremaining: 28.2s\n",
      "94:\tlearn: 0.1060610\ttotal: 2.96s\tremaining: 28.2s\n",
      "95:\tlearn: 0.1053020\ttotal: 2.99s\tremaining: 28.1s\n",
      "96:\tlearn: 0.1051046\ttotal: 3.01s\tremaining: 28s\n",
      "97:\tlearn: 0.1048532\ttotal: 3.03s\tremaining: 27.9s\n",
      "98:\tlearn: 0.1045519\ttotal: 3.06s\tremaining: 27.8s\n",
      "99:\tlearn: 0.1042900\ttotal: 3.08s\tremaining: 27.7s\n",
      "100:\tlearn: 0.1040949\ttotal: 3.1s\tremaining: 27.6s\n",
      "101:\tlearn: 0.1039194\ttotal: 3.13s\tremaining: 27.6s\n",
      "102:\tlearn: 0.1036817\ttotal: 3.17s\tremaining: 27.6s\n",
      "103:\tlearn: 0.1035606\ttotal: 3.2s\tremaining: 27.6s\n",
      "104:\tlearn: 0.1034441\ttotal: 3.22s\tremaining: 27.5s\n",
      "105:\tlearn: 0.1027002\ttotal: 3.24s\tremaining: 27.3s\n",
      "106:\tlearn: 0.1025245\ttotal: 3.26s\tremaining: 27.2s\n",
      "107:\tlearn: 0.1021775\ttotal: 3.28s\tremaining: 27.1s\n",
      "108:\tlearn: 0.1016313\ttotal: 3.3s\tremaining: 27s\n",
      "109:\tlearn: 0.1014490\ttotal: 3.32s\tremaining: 26.9s\n",
      "110:\tlearn: 0.1012449\ttotal: 3.36s\tremaining: 26.9s\n",
      "111:\tlearn: 0.1010676\ttotal: 3.38s\tremaining: 26.8s\n",
      "112:\tlearn: 0.1010054\ttotal: 3.4s\tremaining: 26.7s\n",
      "113:\tlearn: 0.1009324\ttotal: 3.42s\tremaining: 26.6s\n",
      "114:\tlearn: 0.1006431\ttotal: 3.44s\tremaining: 26.4s\n",
      "115:\tlearn: 0.1002063\ttotal: 3.46s\tremaining: 26.3s\n",
      "116:\tlearn: 0.0993335\ttotal: 3.48s\tremaining: 26.2s\n",
      "117:\tlearn: 0.0992255\ttotal: 3.5s\tremaining: 26.2s\n",
      "118:\tlearn: 0.0990294\ttotal: 3.52s\tremaining: 26.1s\n",
      "119:\tlearn: 0.0988077\ttotal: 3.55s\tremaining: 26s\n",
      "120:\tlearn: 0.0986730\ttotal: 3.58s\tremaining: 26s\n",
      "121:\tlearn: 0.0984333\ttotal: 3.61s\tremaining: 26s\n",
      "122:\tlearn: 0.0981708\ttotal: 3.64s\tremaining: 25.9s\n",
      "123:\tlearn: 0.0980432\ttotal: 3.66s\tremaining: 25.9s\n",
      "124:\tlearn: 0.0979335\ttotal: 3.69s\tremaining: 25.8s\n",
      "125:\tlearn: 0.0973736\ttotal: 3.72s\tremaining: 25.8s\n",
      "126:\tlearn: 0.0971779\ttotal: 3.74s\tremaining: 25.7s\n",
      "127:\tlearn: 0.0971317\ttotal: 3.77s\tremaining: 25.7s\n",
      "128:\tlearn: 0.0969972\ttotal: 3.79s\tremaining: 25.6s\n",
      "129:\tlearn: 0.0969211\ttotal: 3.82s\tremaining: 25.6s\n",
      "130:\tlearn: 0.0968270\ttotal: 3.84s\tremaining: 25.5s\n",
      "131:\tlearn: 0.0966031\ttotal: 3.86s\tremaining: 25.4s\n",
      "132:\tlearn: 0.0964281\ttotal: 3.88s\tremaining: 25.3s\n",
      "133:\tlearn: 0.0963083\ttotal: 3.9s\tremaining: 25.2s\n",
      "134:\tlearn: 0.0962138\ttotal: 3.92s\tremaining: 25.1s\n",
      "135:\tlearn: 0.0960876\ttotal: 3.94s\tremaining: 25.1s\n",
      "136:\tlearn: 0.0954243\ttotal: 3.96s\tremaining: 25s\n",
      "137:\tlearn: 0.0950547\ttotal: 3.98s\tremaining: 24.9s\n",
      "138:\tlearn: 0.0950065\ttotal: 4.01s\tremaining: 24.9s\n",
      "139:\tlearn: 0.0948121\ttotal: 4.09s\tremaining: 25.1s\n",
      "140:\tlearn: 0.0947035\ttotal: 4.11s\tremaining: 25.1s\n",
      "141:\tlearn: 0.0945193\ttotal: 4.13s\tremaining: 25s\n",
      "142:\tlearn: 0.0944319\ttotal: 4.15s\tremaining: 24.9s\n",
      "143:\tlearn: 0.0943178\ttotal: 4.17s\tremaining: 24.8s\n",
      "144:\tlearn: 0.0942367\ttotal: 4.19s\tremaining: 24.7s\n",
      "145:\tlearn: 0.0941419\ttotal: 4.22s\tremaining: 24.7s\n",
      "146:\tlearn: 0.0940200\ttotal: 4.25s\tremaining: 24.7s\n",
      "147:\tlearn: 0.0937727\ttotal: 4.27s\tremaining: 24.6s\n",
      "148:\tlearn: 0.0935607\ttotal: 4.3s\tremaining: 24.5s\n",
      "149:\tlearn: 0.0929934\ttotal: 4.32s\tremaining: 24.5s\n",
      "150:\tlearn: 0.0929014\ttotal: 4.34s\tremaining: 24.4s\n",
      "151:\tlearn: 0.0925566\ttotal: 4.37s\tremaining: 24.4s\n",
      "152:\tlearn: 0.0924556\ttotal: 4.38s\tremaining: 24.3s\n",
      "153:\tlearn: 0.0923614\ttotal: 4.41s\tremaining: 24.2s\n",
      "154:\tlearn: 0.0923609\ttotal: 4.43s\tremaining: 24.2s\n",
      "155:\tlearn: 0.0922939\ttotal: 4.46s\tremaining: 24.1s\n",
      "156:\tlearn: 0.0921940\ttotal: 4.48s\tremaining: 24.1s\n",
      "157:\tlearn: 0.0920479\ttotal: 4.5s\tremaining: 24s\n",
      "158:\tlearn: 0.0918861\ttotal: 4.53s\tremaining: 23.9s\n",
      "159:\tlearn: 0.0916483\ttotal: 4.55s\tremaining: 23.9s\n",
      "160:\tlearn: 0.0914993\ttotal: 4.57s\tremaining: 23.8s\n",
      "161:\tlearn: 0.0913702\ttotal: 4.59s\tremaining: 23.7s\n",
      "162:\tlearn: 0.0913020\ttotal: 4.61s\tremaining: 23.7s\n",
      "163:\tlearn: 0.0911032\ttotal: 4.63s\tremaining: 23.6s\n",
      "164:\tlearn: 0.0909526\ttotal: 4.66s\tremaining: 23.6s\n",
      "165:\tlearn: 0.0908165\ttotal: 4.68s\tremaining: 23.5s\n",
      "166:\tlearn: 0.0907247\ttotal: 4.73s\tremaining: 23.6s\n",
      "167:\tlearn: 0.0906705\ttotal: 4.75s\tremaining: 23.5s\n",
      "168:\tlearn: 0.0905635\ttotal: 4.77s\tremaining: 23.5s\n",
      "169:\tlearn: 0.0905026\ttotal: 4.79s\tremaining: 23.4s\n",
      "170:\tlearn: 0.0904103\ttotal: 4.81s\tremaining: 23.3s\n",
      "171:\tlearn: 0.0902800\ttotal: 4.83s\tremaining: 23.3s\n",
      "172:\tlearn: 0.0900069\ttotal: 4.86s\tremaining: 23.2s\n",
      "173:\tlearn: 0.0899254\ttotal: 4.88s\tremaining: 23.2s\n",
      "174:\tlearn: 0.0898580\ttotal: 4.9s\tremaining: 23.1s\n",
      "175:\tlearn: 0.0896921\ttotal: 4.93s\tremaining: 23.1s\n",
      "176:\tlearn: 0.0896413\ttotal: 4.95s\tremaining: 23s\n",
      "177:\tlearn: 0.0895067\ttotal: 4.96s\tremaining: 22.9s\n",
      "178:\tlearn: 0.0893789\ttotal: 4.98s\tremaining: 22.9s\n",
      "179:\tlearn: 0.0893232\ttotal: 5s\tremaining: 22.8s\n",
      "180:\tlearn: 0.0892441\ttotal: 5.02s\tremaining: 22.7s\n",
      "181:\tlearn: 0.0891379\ttotal: 5.04s\tremaining: 22.7s\n",
      "182:\tlearn: 0.0890729\ttotal: 5.07s\tremaining: 22.6s\n",
      "183:\tlearn: 0.0890286\ttotal: 5.09s\tremaining: 22.6s\n",
      "184:\tlearn: 0.0889859\ttotal: 5.11s\tremaining: 22.5s\n",
      "185:\tlearn: 0.0888676\ttotal: 5.13s\tremaining: 22.4s\n",
      "186:\tlearn: 0.0887035\ttotal: 5.15s\tremaining: 22.4s\n",
      "187:\tlearn: 0.0886004\ttotal: 5.17s\tremaining: 22.3s\n",
      "188:\tlearn: 0.0884322\ttotal: 5.19s\tremaining: 22.3s\n",
      "189:\tlearn: 0.0883874\ttotal: 5.21s\tremaining: 22.2s\n",
      "190:\tlearn: 0.0882701\ttotal: 5.23s\tremaining: 22.1s\n",
      "191:\tlearn: 0.0881888\ttotal: 5.25s\tremaining: 22.1s\n",
      "192:\tlearn: 0.0880748\ttotal: 5.28s\tremaining: 22.1s\n",
      "193:\tlearn: 0.0877486\ttotal: 5.3s\tremaining: 22s\n",
      "194:\tlearn: 0.0876466\ttotal: 5.32s\tremaining: 22s\n",
      "195:\tlearn: 0.0874879\ttotal: 5.34s\tremaining: 21.9s\n",
      "196:\tlearn: 0.0873972\ttotal: 5.36s\tremaining: 21.8s\n",
      "197:\tlearn: 0.0873249\ttotal: 5.38s\tremaining: 21.8s\n",
      "198:\tlearn: 0.0872159\ttotal: 5.4s\tremaining: 21.7s\n",
      "199:\tlearn: 0.0871448\ttotal: 5.42s\tremaining: 21.7s\n",
      "200:\tlearn: 0.0870199\ttotal: 5.44s\tremaining: 21.6s\n",
      "201:\tlearn: 0.0869536\ttotal: 5.46s\tremaining: 21.6s\n",
      "202:\tlearn: 0.0869282\ttotal: 5.49s\tremaining: 21.5s\n",
      "203:\tlearn: 0.0867370\ttotal: 5.52s\tremaining: 21.5s\n",
      "204:\tlearn: 0.0866382\ttotal: 5.54s\tremaining: 21.5s\n",
      "205:\tlearn: 0.0865748\ttotal: 5.56s\tremaining: 21.4s\n",
      "206:\tlearn: 0.0865439\ttotal: 5.58s\tremaining: 21.4s\n",
      "207:\tlearn: 0.0864664\ttotal: 5.59s\tremaining: 21.3s\n",
      "208:\tlearn: 0.0863651\ttotal: 5.61s\tremaining: 21.2s\n",
      "209:\tlearn: 0.0863063\ttotal: 5.63s\tremaining: 21.2s\n",
      "210:\tlearn: 0.0861148\ttotal: 5.65s\tremaining: 21.1s\n",
      "211:\tlearn: 0.0860836\ttotal: 5.67s\tremaining: 21.1s\n",
      "212:\tlearn: 0.0859220\ttotal: 5.69s\tremaining: 21s\n",
      "213:\tlearn: 0.0858450\ttotal: 5.72s\tremaining: 21s\n",
      "214:\tlearn: 0.0857241\ttotal: 5.74s\tremaining: 20.9s\n",
      "215:\tlearn: 0.0856799\ttotal: 5.75s\tremaining: 20.9s\n",
      "216:\tlearn: 0.0856342\ttotal: 5.77s\tremaining: 20.8s\n",
      "217:\tlearn: 0.0855349\ttotal: 5.8s\tremaining: 20.8s\n",
      "218:\tlearn: 0.0854132\ttotal: 5.82s\tremaining: 20.7s\n",
      "219:\tlearn: 0.0853352\ttotal: 5.83s\tremaining: 20.7s\n",
      "220:\tlearn: 0.0852780\ttotal: 5.85s\tremaining: 20.6s\n",
      "221:\tlearn: 0.0851964\ttotal: 5.87s\tremaining: 20.6s\n",
      "222:\tlearn: 0.0851234\ttotal: 5.89s\tremaining: 20.5s\n",
      "223:\tlearn: 0.0850923\ttotal: 5.92s\tremaining: 20.5s\n",
      "224:\tlearn: 0.0850011\ttotal: 5.94s\tremaining: 20.5s\n",
      "225:\tlearn: 0.0849694\ttotal: 5.96s\tremaining: 20.4s\n",
      "226:\tlearn: 0.0847821\ttotal: 5.98s\tremaining: 20.4s\n",
      "227:\tlearn: 0.0847671\ttotal: 6s\tremaining: 20.3s\n",
      "228:\tlearn: 0.0846727\ttotal: 6.02s\tremaining: 20.3s\n",
      "229:\tlearn: 0.0846444\ttotal: 6.04s\tremaining: 20.2s\n",
      "230:\tlearn: 0.0845366\ttotal: 6.06s\tremaining: 20.2s\n",
      "231:\tlearn: 0.0844676\ttotal: 6.08s\tremaining: 20.1s\n",
      "232:\tlearn: 0.0844326\ttotal: 6.1s\tremaining: 20.1s\n",
      "233:\tlearn: 0.0843530\ttotal: 6.12s\tremaining: 20s\n",
      "234:\tlearn: 0.0843001\ttotal: 6.15s\tremaining: 20s\n",
      "235:\tlearn: 0.0842073\ttotal: 6.18s\tremaining: 20s\n",
      "236:\tlearn: 0.0841569\ttotal: 6.21s\tremaining: 20s\n",
      "237:\tlearn: 0.0838960\ttotal: 6.25s\tremaining: 20s\n",
      "238:\tlearn: 0.0838627\ttotal: 6.34s\tremaining: 20.2s\n",
      "239:\tlearn: 0.0838221\ttotal: 6.38s\tremaining: 20.2s\n",
      "240:\tlearn: 0.0837448\ttotal: 6.41s\tremaining: 20.2s\n",
      "241:\tlearn: 0.0836714\ttotal: 6.43s\tremaining: 20.1s\n",
      "242:\tlearn: 0.0836415\ttotal: 6.46s\tremaining: 20.1s\n",
      "243:\tlearn: 0.0835476\ttotal: 6.49s\tremaining: 20.1s\n",
      "244:\tlearn: 0.0834883\ttotal: 6.51s\tremaining: 20.1s\n",
      "245:\tlearn: 0.0833910\ttotal: 6.53s\tremaining: 20s\n",
      "246:\tlearn: 0.0833446\ttotal: 6.56s\tremaining: 20s\n",
      "247:\tlearn: 0.0832843\ttotal: 6.59s\tremaining: 20s\n",
      "248:\tlearn: 0.0832325\ttotal: 6.62s\tremaining: 20s\n",
      "249:\tlearn: 0.0831811\ttotal: 6.64s\tremaining: 19.9s\n",
      "250:\tlearn: 0.0831379\ttotal: 6.66s\tremaining: 19.9s\n",
      "251:\tlearn: 0.0831030\ttotal: 6.69s\tremaining: 19.9s\n",
      "252:\tlearn: 0.0830758\ttotal: 6.71s\tremaining: 19.8s\n",
      "253:\tlearn: 0.0830201\ttotal: 6.73s\tremaining: 19.8s\n",
      "254:\tlearn: 0.0829775\ttotal: 6.76s\tremaining: 19.7s\n",
      "255:\tlearn: 0.0829109\ttotal: 6.78s\tremaining: 19.7s\n",
      "256:\tlearn: 0.0828313\ttotal: 6.81s\tremaining: 19.7s\n",
      "257:\tlearn: 0.0828034\ttotal: 6.83s\tremaining: 19.6s\n",
      "258:\tlearn: 0.0826744\ttotal: 6.85s\tremaining: 19.6s\n",
      "259:\tlearn: 0.0826557\ttotal: 6.87s\tremaining: 19.6s\n",
      "260:\tlearn: 0.0826065\ttotal: 6.9s\tremaining: 19.5s\n",
      "261:\tlearn: 0.0825411\ttotal: 6.92s\tremaining: 19.5s\n",
      "262:\tlearn: 0.0824597\ttotal: 6.95s\tremaining: 19.5s\n",
      "263:\tlearn: 0.0823704\ttotal: 6.97s\tremaining: 19.4s\n",
      "264:\tlearn: 0.0822794\ttotal: 6.99s\tremaining: 19.4s\n",
      "265:\tlearn: 0.0821176\ttotal: 7.02s\tremaining: 19.4s\n",
      "266:\tlearn: 0.0820471\ttotal: 7.05s\tremaining: 19.4s\n",
      "267:\tlearn: 0.0820180\ttotal: 7.07s\tremaining: 19.3s\n",
      "268:\tlearn: 0.0819738\ttotal: 7.1s\tremaining: 19.3s\n",
      "269:\tlearn: 0.0818561\ttotal: 7.12s\tremaining: 19.3s\n",
      "270:\tlearn: 0.0818164\ttotal: 7.15s\tremaining: 19.2s\n",
      "271:\tlearn: 0.0817934\ttotal: 7.17s\tremaining: 19.2s\n",
      "272:\tlearn: 0.0817768\ttotal: 7.19s\tremaining: 19.1s\n",
      "273:\tlearn: 0.0817319\ttotal: 7.21s\tremaining: 19.1s\n",
      "274:\tlearn: 0.0816447\ttotal: 7.24s\tremaining: 19.1s\n",
      "275:\tlearn: 0.0815476\ttotal: 7.27s\tremaining: 19.1s\n",
      "276:\tlearn: 0.0815209\ttotal: 7.29s\tremaining: 19s\n",
      "277:\tlearn: 0.0815022\ttotal: 7.31s\tremaining: 19s\n",
      "278:\tlearn: 0.0814620\ttotal: 7.33s\tremaining: 18.9s\n",
      "279:\tlearn: 0.0814350\ttotal: 7.35s\tremaining: 18.9s\n",
      "280:\tlearn: 0.0813776\ttotal: 7.37s\tremaining: 18.9s\n",
      "281:\tlearn: 0.0813329\ttotal: 7.39s\tremaining: 18.8s\n",
      "282:\tlearn: 0.0812991\ttotal: 7.42s\tremaining: 18.8s\n",
      "283:\tlearn: 0.0812034\ttotal: 7.44s\tremaining: 18.8s\n",
      "284:\tlearn: 0.0809671\ttotal: 7.46s\tremaining: 18.7s\n",
      "285:\tlearn: 0.0809096\ttotal: 7.49s\tremaining: 18.7s\n",
      "286:\tlearn: 0.0808517\ttotal: 7.51s\tremaining: 18.7s\n",
      "287:\tlearn: 0.0808188\ttotal: 7.53s\tremaining: 18.6s\n",
      "288:\tlearn: 0.0807254\ttotal: 7.55s\tremaining: 18.6s\n",
      "289:\tlearn: 0.0806387\ttotal: 7.57s\tremaining: 18.5s\n",
      "290:\tlearn: 0.0805994\ttotal: 7.61s\tremaining: 18.5s\n",
      "291:\tlearn: 0.0805177\ttotal: 7.65s\tremaining: 18.5s\n",
      "292:\tlearn: 0.0804158\ttotal: 7.67s\tremaining: 18.5s\n",
      "293:\tlearn: 0.0803485\ttotal: 7.7s\tremaining: 18.5s\n",
      "294:\tlearn: 0.0802777\ttotal: 7.73s\tremaining: 18.5s\n",
      "295:\tlearn: 0.0802213\ttotal: 7.75s\tremaining: 18.4s\n",
      "296:\tlearn: 0.0801391\ttotal: 7.78s\tremaining: 18.4s\n",
      "297:\tlearn: 0.0800179\ttotal: 7.8s\tremaining: 18.4s\n",
      "298:\tlearn: 0.0799767\ttotal: 7.83s\tremaining: 18.4s\n",
      "299:\tlearn: 0.0799352\ttotal: 7.85s\tremaining: 18.3s\n",
      "300:\tlearn: 0.0798797\ttotal: 7.87s\tremaining: 18.3s\n",
      "301:\tlearn: 0.0798317\ttotal: 7.89s\tremaining: 18.2s\n",
      "302:\tlearn: 0.0797851\ttotal: 7.92s\tremaining: 18.2s\n",
      "303:\tlearn: 0.0797385\ttotal: 7.95s\tremaining: 18.2s\n",
      "304:\tlearn: 0.0796922\ttotal: 7.96s\tremaining: 18.2s\n",
      "305:\tlearn: 0.0796573\ttotal: 7.99s\tremaining: 18.1s\n",
      "306:\tlearn: 0.0796345\ttotal: 8.01s\tremaining: 18.1s\n",
      "307:\tlearn: 0.0796134\ttotal: 8.03s\tremaining: 18s\n",
      "308:\tlearn: 0.0795647\ttotal: 8.05s\tremaining: 18s\n",
      "309:\tlearn: 0.0795231\ttotal: 8.07s\tremaining: 18s\n",
      "310:\tlearn: 0.0794941\ttotal: 8.09s\tremaining: 17.9s\n",
      "311:\tlearn: 0.0794809\ttotal: 8.12s\tremaining: 17.9s\n",
      "312:\tlearn: 0.0793737\ttotal: 8.15s\tremaining: 17.9s\n",
      "313:\tlearn: 0.0793092\ttotal: 8.18s\tremaining: 17.9s\n",
      "314:\tlearn: 0.0792500\ttotal: 8.2s\tremaining: 17.8s\n",
      "315:\tlearn: 0.0792364\ttotal: 8.22s\tremaining: 17.8s\n",
      "316:\tlearn: 0.0791005\ttotal: 8.25s\tremaining: 17.8s\n",
      "317:\tlearn: 0.0790653\ttotal: 8.27s\tremaining: 17.7s\n",
      "318:\tlearn: 0.0789883\ttotal: 8.3s\tremaining: 17.7s\n",
      "319:\tlearn: 0.0789744\ttotal: 8.33s\tremaining: 17.7s\n",
      "320:\tlearn: 0.0789269\ttotal: 8.35s\tremaining: 17.7s\n",
      "321:\tlearn: 0.0788443\ttotal: 8.37s\tremaining: 17.6s\n",
      "322:\tlearn: 0.0787887\ttotal: 8.4s\tremaining: 17.6s\n",
      "323:\tlearn: 0.0787490\ttotal: 8.42s\tremaining: 17.6s\n",
      "324:\tlearn: 0.0786965\ttotal: 8.44s\tremaining: 17.5s\n",
      "325:\tlearn: 0.0786430\ttotal: 8.46s\tremaining: 17.5s\n",
      "326:\tlearn: 0.0785741\ttotal: 8.48s\tremaining: 17.5s\n",
      "327:\tlearn: 0.0785213\ttotal: 8.52s\tremaining: 17.4s\n",
      "328:\tlearn: 0.0784612\ttotal: 8.54s\tremaining: 17.4s\n",
      "329:\tlearn: 0.0784239\ttotal: 8.57s\tremaining: 17.4s\n",
      "330:\tlearn: 0.0783908\ttotal: 8.59s\tremaining: 17.4s\n",
      "331:\tlearn: 0.0783445\ttotal: 8.62s\tremaining: 17.3s\n",
      "332:\tlearn: 0.0783257\ttotal: 8.63s\tremaining: 17.3s\n",
      "333:\tlearn: 0.0782858\ttotal: 8.65s\tremaining: 17.3s\n",
      "334:\tlearn: 0.0782325\ttotal: 8.7s\tremaining: 17.3s\n",
      "335:\tlearn: 0.0781510\ttotal: 8.75s\tremaining: 17.3s\n",
      "336:\tlearn: 0.0781145\ttotal: 8.79s\tremaining: 17.3s\n",
      "337:\tlearn: 0.0779324\ttotal: 8.82s\tremaining: 17.3s\n",
      "338:\tlearn: 0.0778925\ttotal: 8.85s\tremaining: 17.3s\n",
      "339:\tlearn: 0.0778430\ttotal: 8.88s\tremaining: 17.2s\n",
      "340:\tlearn: 0.0778013\ttotal: 8.9s\tremaining: 17.2s\n",
      "341:\tlearn: 0.0777297\ttotal: 8.93s\tremaining: 17.2s\n",
      "342:\tlearn: 0.0776690\ttotal: 8.96s\tremaining: 17.2s\n",
      "343:\tlearn: 0.0776309\ttotal: 8.99s\tremaining: 17.1s\n",
      "344:\tlearn: 0.0775978\ttotal: 9.04s\tremaining: 17.2s\n",
      "345:\tlearn: 0.0775678\ttotal: 9.07s\tremaining: 17.1s\n",
      "346:\tlearn: 0.0775164\ttotal: 9.1s\tremaining: 17.1s\n",
      "347:\tlearn: 0.0774432\ttotal: 9.12s\tremaining: 17.1s\n",
      "348:\tlearn: 0.0773277\ttotal: 9.15s\tremaining: 17.1s\n",
      "349:\tlearn: 0.0772232\ttotal: 9.18s\tremaining: 17s\n",
      "350:\tlearn: 0.0771179\ttotal: 9.21s\tremaining: 17s\n",
      "351:\tlearn: 0.0770155\ttotal: 9.24s\tremaining: 17s\n",
      "352:\tlearn: 0.0769156\ttotal: 9.27s\tremaining: 17s\n",
      "353:\tlearn: 0.0767926\ttotal: 9.3s\tremaining: 17s\n",
      "354:\tlearn: 0.0767145\ttotal: 9.33s\tremaining: 17s\n",
      "355:\tlearn: 0.0766895\ttotal: 9.36s\tremaining: 16.9s\n",
      "356:\tlearn: 0.0766673\ttotal: 9.39s\tremaining: 16.9s\n",
      "357:\tlearn: 0.0766205\ttotal: 9.43s\tremaining: 16.9s\n",
      "358:\tlearn: 0.0765611\ttotal: 9.46s\tremaining: 16.9s\n",
      "359:\tlearn: 0.0765060\ttotal: 9.48s\tremaining: 16.9s\n",
      "360:\tlearn: 0.0764415\ttotal: 9.5s\tremaining: 16.8s\n",
      "361:\tlearn: 0.0764085\ttotal: 9.52s\tremaining: 16.8s\n",
      "362:\tlearn: 0.0763633\ttotal: 9.54s\tremaining: 16.7s\n",
      "363:\tlearn: 0.0763217\ttotal: 9.56s\tremaining: 16.7s\n",
      "364:\tlearn: 0.0761871\ttotal: 9.59s\tremaining: 16.7s\n",
      "365:\tlearn: 0.0761552\ttotal: 9.61s\tremaining: 16.6s\n",
      "366:\tlearn: 0.0761160\ttotal: 9.63s\tremaining: 16.6s\n",
      "367:\tlearn: 0.0760751\ttotal: 9.65s\tremaining: 16.6s\n",
      "368:\tlearn: 0.0760286\ttotal: 9.67s\tremaining: 16.5s\n",
      "369:\tlearn: 0.0759954\ttotal: 9.69s\tremaining: 16.5s\n",
      "370:\tlearn: 0.0758835\ttotal: 9.71s\tremaining: 16.5s\n",
      "371:\tlearn: 0.0758589\ttotal: 9.73s\tremaining: 16.4s\n",
      "372:\tlearn: 0.0758192\ttotal: 9.75s\tremaining: 16.4s\n",
      "373:\tlearn: 0.0757981\ttotal: 9.77s\tremaining: 16.4s\n",
      "374:\tlearn: 0.0757715\ttotal: 9.79s\tremaining: 16.3s\n",
      "375:\tlearn: 0.0757505\ttotal: 9.81s\tremaining: 16.3s\n",
      "376:\tlearn: 0.0757030\ttotal: 9.83s\tremaining: 16.2s\n",
      "377:\tlearn: 0.0756584\ttotal: 9.86s\tremaining: 16.2s\n",
      "378:\tlearn: 0.0756447\ttotal: 9.88s\tremaining: 16.2s\n",
      "379:\tlearn: 0.0756122\ttotal: 9.9s\tremaining: 16.2s\n",
      "380:\tlearn: 0.0755877\ttotal: 9.92s\tremaining: 16.1s\n",
      "381:\tlearn: 0.0755228\ttotal: 9.93s\tremaining: 16.1s\n",
      "382:\tlearn: 0.0755218\ttotal: 9.95s\tremaining: 16s\n",
      "383:\tlearn: 0.0754022\ttotal: 9.97s\tremaining: 16s\n",
      "384:\tlearn: 0.0752981\ttotal: 9.99s\tremaining: 16s\n",
      "385:\tlearn: 0.0752682\ttotal: 10s\tremaining: 15.9s\n",
      "386:\tlearn: 0.0752205\ttotal: 10s\tremaining: 15.9s\n",
      "387:\tlearn: 0.0751801\ttotal: 10.1s\tremaining: 15.9s\n",
      "388:\tlearn: 0.0751659\ttotal: 10.1s\tremaining: 15.9s\n",
      "389:\tlearn: 0.0751425\ttotal: 10.1s\tremaining: 15.9s\n",
      "390:\tlearn: 0.0750482\ttotal: 10.2s\tremaining: 15.8s\n",
      "391:\tlearn: 0.0750009\ttotal: 10.2s\tremaining: 15.8s\n",
      "392:\tlearn: 0.0749589\ttotal: 10.2s\tremaining: 15.8s\n",
      "393:\tlearn: 0.0748911\ttotal: 10.2s\tremaining: 15.7s\n",
      "394:\tlearn: 0.0748503\ttotal: 10.2s\tremaining: 15.7s\n",
      "395:\tlearn: 0.0747628\ttotal: 10.3s\tremaining: 15.6s\n",
      "396:\tlearn: 0.0747135\ttotal: 10.3s\tremaining: 15.6s\n",
      "397:\tlearn: 0.0746854\ttotal: 10.3s\tremaining: 15.6s\n",
      "398:\tlearn: 0.0746375\ttotal: 10.3s\tremaining: 15.6s\n",
      "399:\tlearn: 0.0745942\ttotal: 10.3s\tremaining: 15.5s\n",
      "400:\tlearn: 0.0745557\ttotal: 10.4s\tremaining: 15.5s\n",
      "401:\tlearn: 0.0745203\ttotal: 10.4s\tremaining: 15.4s\n",
      "402:\tlearn: 0.0744771\ttotal: 10.4s\tremaining: 15.4s\n",
      "403:\tlearn: 0.0744318\ttotal: 10.4s\tremaining: 15.4s\n",
      "404:\tlearn: 0.0743958\ttotal: 10.5s\tremaining: 15.4s\n",
      "405:\tlearn: 0.0743728\ttotal: 10.5s\tremaining: 15.3s\n",
      "406:\tlearn: 0.0743341\ttotal: 10.5s\tremaining: 15.3s\n",
      "407:\tlearn: 0.0742878\ttotal: 10.5s\tremaining: 15.3s\n",
      "408:\tlearn: 0.0742676\ttotal: 10.5s\tremaining: 15.2s\n",
      "409:\tlearn: 0.0742225\ttotal: 10.6s\tremaining: 15.2s\n",
      "410:\tlearn: 0.0741616\ttotal: 10.6s\tremaining: 15.2s\n",
      "411:\tlearn: 0.0741438\ttotal: 10.6s\tremaining: 15.1s\n",
      "412:\tlearn: 0.0741033\ttotal: 10.6s\tremaining: 15.1s\n",
      "413:\tlearn: 0.0740469\ttotal: 10.7s\tremaining: 15.1s\n",
      "414:\tlearn: 0.0740209\ttotal: 10.7s\tremaining: 15.1s\n",
      "415:\tlearn: 0.0739815\ttotal: 10.7s\tremaining: 15s\n",
      "416:\tlearn: 0.0739156\ttotal: 10.7s\tremaining: 15s\n",
      "417:\tlearn: 0.0738619\ttotal: 10.7s\tremaining: 15s\n",
      "418:\tlearn: 0.0738346\ttotal: 10.8s\tremaining: 14.9s\n",
      "419:\tlearn: 0.0738058\ttotal: 10.8s\tremaining: 14.9s\n",
      "420:\tlearn: 0.0737460\ttotal: 10.8s\tremaining: 14.8s\n",
      "421:\tlearn: 0.0736500\ttotal: 10.8s\tremaining: 14.8s\n",
      "422:\tlearn: 0.0735765\ttotal: 10.8s\tremaining: 14.8s\n",
      "423:\tlearn: 0.0735150\ttotal: 10.9s\tremaining: 14.8s\n",
      "424:\tlearn: 0.0734640\ttotal: 10.9s\tremaining: 14.7s\n",
      "425:\tlearn: 0.0734281\ttotal: 10.9s\tremaining: 14.7s\n",
      "426:\tlearn: 0.0734092\ttotal: 10.9s\tremaining: 14.7s\n",
      "427:\tlearn: 0.0733756\ttotal: 10.9s\tremaining: 14.6s\n",
      "428:\tlearn: 0.0733359\ttotal: 11s\tremaining: 14.6s\n",
      "429:\tlearn: 0.0733031\ttotal: 11s\tremaining: 14.6s\n",
      "430:\tlearn: 0.0732495\ttotal: 11s\tremaining: 14.5s\n",
      "431:\tlearn: 0.0732277\ttotal: 11s\tremaining: 14.5s\n",
      "432:\tlearn: 0.0731816\ttotal: 11s\tremaining: 14.5s\n",
      "433:\tlearn: 0.0730880\ttotal: 11.1s\tremaining: 14.4s\n",
      "434:\tlearn: 0.0730574\ttotal: 11.1s\tremaining: 14.4s\n",
      "435:\tlearn: 0.0730125\ttotal: 11.1s\tremaining: 14.4s\n",
      "436:\tlearn: 0.0729942\ttotal: 11.1s\tremaining: 14.3s\n",
      "437:\tlearn: 0.0729654\ttotal: 11.2s\tremaining: 14.3s\n",
      "438:\tlearn: 0.0729299\ttotal: 11.2s\tremaining: 14.3s\n",
      "439:\tlearn: 0.0728909\ttotal: 11.2s\tremaining: 14.3s\n",
      "440:\tlearn: 0.0728634\ttotal: 11.2s\tremaining: 14.2s\n",
      "441:\tlearn: 0.0728497\ttotal: 11.3s\tremaining: 14.3s\n",
      "442:\tlearn: 0.0728203\ttotal: 11.3s\tremaining: 14.3s\n",
      "443:\tlearn: 0.0727782\ttotal: 11.4s\tremaining: 14.3s\n",
      "444:\tlearn: 0.0727446\ttotal: 11.5s\tremaining: 14.4s\n",
      "445:\tlearn: 0.0727220\ttotal: 11.6s\tremaining: 14.4s\n",
      "446:\tlearn: 0.0726942\ttotal: 11.6s\tremaining: 14.4s\n",
      "447:\tlearn: 0.0726743\ttotal: 11.7s\tremaining: 14.4s\n",
      "448:\tlearn: 0.0726349\ttotal: 11.8s\tremaining: 14.4s\n",
      "449:\tlearn: 0.0725969\ttotal: 11.8s\tremaining: 14.4s\n",
      "450:\tlearn: 0.0725679\ttotal: 11.9s\tremaining: 14.4s\n",
      "451:\tlearn: 0.0725506\ttotal: 11.9s\tremaining: 14.5s\n",
      "452:\tlearn: 0.0724881\ttotal: 12s\tremaining: 14.5s\n",
      "453:\tlearn: 0.0724366\ttotal: 12.1s\tremaining: 14.5s\n",
      "454:\tlearn: 0.0723854\ttotal: 12.1s\tremaining: 14.5s\n",
      "455:\tlearn: 0.0723183\ttotal: 12.2s\tremaining: 14.5s\n",
      "456:\tlearn: 0.0722802\ttotal: 12.2s\tremaining: 14.5s\n",
      "457:\tlearn: 0.0722479\ttotal: 12.3s\tremaining: 14.6s\n",
      "458:\tlearn: 0.0722130\ttotal: 12.3s\tremaining: 14.6s\n",
      "459:\tlearn: 0.0721696\ttotal: 12.4s\tremaining: 14.6s\n",
      "460:\tlearn: 0.0721447\ttotal: 12.5s\tremaining: 14.6s\n",
      "461:\tlearn: 0.0721306\ttotal: 12.5s\tremaining: 14.6s\n",
      "462:\tlearn: 0.0720967\ttotal: 12.6s\tremaining: 14.6s\n",
      "463:\tlearn: 0.0720527\ttotal: 12.7s\tremaining: 14.6s\n",
      "464:\tlearn: 0.0720207\ttotal: 12.7s\tremaining: 14.6s\n",
      "465:\tlearn: 0.0719918\ttotal: 12.8s\tremaining: 14.6s\n",
      "466:\tlearn: 0.0719699\ttotal: 12.8s\tremaining: 14.6s\n",
      "467:\tlearn: 0.0719553\ttotal: 12.9s\tremaining: 14.6s\n",
      "468:\tlearn: 0.0719096\ttotal: 12.9s\tremaining: 14.7s\n",
      "469:\tlearn: 0.0718290\ttotal: 13s\tremaining: 14.7s\n",
      "470:\tlearn: 0.0717332\ttotal: 13.1s\tremaining: 14.7s\n",
      "471:\tlearn: 0.0716919\ttotal: 13.1s\tremaining: 14.7s\n",
      "472:\tlearn: 0.0716527\ttotal: 13.2s\tremaining: 14.7s\n",
      "473:\tlearn: 0.0716338\ttotal: 13.2s\tremaining: 14.7s\n",
      "474:\tlearn: 0.0716074\ttotal: 13.3s\tremaining: 14.7s\n",
      "475:\tlearn: 0.0715729\ttotal: 13.3s\tremaining: 14.7s\n",
      "476:\tlearn: 0.0715568\ttotal: 13.4s\tremaining: 14.7s\n",
      "477:\tlearn: 0.0715219\ttotal: 13.4s\tremaining: 14.7s\n",
      "478:\tlearn: 0.0714698\ttotal: 13.5s\tremaining: 14.7s\n",
      "479:\tlearn: 0.0714518\ttotal: 13.5s\tremaining: 14.7s\n",
      "480:\tlearn: 0.0714369\ttotal: 13.6s\tremaining: 14.7s\n",
      "481:\tlearn: 0.0714122\ttotal: 13.6s\tremaining: 14.7s\n",
      "482:\tlearn: 0.0713695\ttotal: 13.7s\tremaining: 14.7s\n",
      "483:\tlearn: 0.0713253\ttotal: 13.7s\tremaining: 14.6s\n",
      "484:\tlearn: 0.0713139\ttotal: 13.8s\tremaining: 14.6s\n",
      "485:\tlearn: 0.0712798\ttotal: 13.8s\tremaining: 14.6s\n",
      "486:\tlearn: 0.0712501\ttotal: 13.9s\tremaining: 14.6s\n",
      "487:\tlearn: 0.0711911\ttotal: 13.9s\tremaining: 14.6s\n",
      "488:\tlearn: 0.0711627\ttotal: 14s\tremaining: 14.6s\n",
      "489:\tlearn: 0.0711261\ttotal: 14s\tremaining: 14.6s\n",
      "490:\tlearn: 0.0710981\ttotal: 14.1s\tremaining: 14.6s\n",
      "491:\tlearn: 0.0710670\ttotal: 14.2s\tremaining: 14.6s\n",
      "492:\tlearn: 0.0710367\ttotal: 14.2s\tremaining: 14.6s\n",
      "493:\tlearn: 0.0710150\ttotal: 14.3s\tremaining: 14.6s\n",
      "494:\tlearn: 0.0709791\ttotal: 14.3s\tremaining: 14.6s\n",
      "495:\tlearn: 0.0709681\ttotal: 14.3s\tremaining: 14.6s\n",
      "496:\tlearn: 0.0709374\ttotal: 14.4s\tremaining: 14.6s\n",
      "497:\tlearn: 0.0708780\ttotal: 14.4s\tremaining: 14.6s\n",
      "498:\tlearn: 0.0708715\ttotal: 14.5s\tremaining: 14.6s\n",
      "499:\tlearn: 0.0707828\ttotal: 14.6s\tremaining: 14.6s\n",
      "500:\tlearn: 0.0707318\ttotal: 14.6s\tremaining: 14.6s\n",
      "501:\tlearn: 0.0706910\ttotal: 14.7s\tremaining: 14.5s\n",
      "502:\tlearn: 0.0706515\ttotal: 14.7s\tremaining: 14.5s\n",
      "503:\tlearn: 0.0705803\ttotal: 14.8s\tremaining: 14.5s\n",
      "504:\tlearn: 0.0705588\ttotal: 14.8s\tremaining: 14.5s\n",
      "505:\tlearn: 0.0705188\ttotal: 14.9s\tremaining: 14.5s\n",
      "506:\tlearn: 0.0704742\ttotal: 14.9s\tremaining: 14.5s\n",
      "507:\tlearn: 0.0704170\ttotal: 15s\tremaining: 14.6s\n",
      "508:\tlearn: 0.0703700\ttotal: 15.1s\tremaining: 14.5s\n",
      "509:\tlearn: 0.0703362\ttotal: 15.1s\tremaining: 14.5s\n",
      "510:\tlearn: 0.0703102\ttotal: 15.2s\tremaining: 14.5s\n",
      "511:\tlearn: 0.0702649\ttotal: 15.2s\tremaining: 14.5s\n",
      "512:\tlearn: 0.0702339\ttotal: 15.3s\tremaining: 14.5s\n",
      "513:\tlearn: 0.0701952\ttotal: 15.3s\tremaining: 14.5s\n",
      "514:\tlearn: 0.0701739\ttotal: 15.4s\tremaining: 14.5s\n",
      "515:\tlearn: 0.0700924\ttotal: 15.4s\tremaining: 14.5s\n",
      "516:\tlearn: 0.0700703\ttotal: 15.5s\tremaining: 14.5s\n",
      "517:\tlearn: 0.0700349\ttotal: 15.6s\tremaining: 14.5s\n",
      "518:\tlearn: 0.0699866\ttotal: 15.6s\tremaining: 14.5s\n",
      "519:\tlearn: 0.0699546\ttotal: 15.7s\tremaining: 14.5s\n",
      "520:\tlearn: 0.0699037\ttotal: 15.7s\tremaining: 14.4s\n",
      "521:\tlearn: 0.0698786\ttotal: 15.8s\tremaining: 14.4s\n",
      "522:\tlearn: 0.0698580\ttotal: 15.8s\tremaining: 14.4s\n",
      "523:\tlearn: 0.0698295\ttotal: 15.9s\tremaining: 14.4s\n",
      "524:\tlearn: 0.0697973\ttotal: 15.9s\tremaining: 14.4s\n",
      "525:\tlearn: 0.0697582\ttotal: 15.9s\tremaining: 14.4s\n",
      "526:\tlearn: 0.0697126\ttotal: 16s\tremaining: 14.4s\n",
      "527:\tlearn: 0.0695505\ttotal: 16.1s\tremaining: 14.4s\n",
      "528:\tlearn: 0.0694945\ttotal: 16.1s\tremaining: 14.3s\n",
      "529:\tlearn: 0.0694668\ttotal: 16.2s\tremaining: 14.3s\n",
      "530:\tlearn: 0.0694195\ttotal: 16.2s\tremaining: 14.3s\n",
      "531:\tlearn: 0.0694071\ttotal: 16.3s\tremaining: 14.3s\n",
      "532:\tlearn: 0.0693495\ttotal: 16.3s\tremaining: 14.3s\n",
      "533:\tlearn: 0.0693299\ttotal: 16.4s\tremaining: 14.3s\n",
      "534:\tlearn: 0.0693100\ttotal: 16.4s\tremaining: 14.3s\n",
      "535:\tlearn: 0.0692768\ttotal: 16.5s\tremaining: 14.3s\n",
      "536:\tlearn: 0.0692685\ttotal: 16.5s\tremaining: 14.2s\n",
      "537:\tlearn: 0.0692483\ttotal: 16.6s\tremaining: 14.2s\n",
      "538:\tlearn: 0.0692422\ttotal: 16.6s\tremaining: 14.2s\n",
      "539:\tlearn: 0.0690347\ttotal: 16.7s\tremaining: 14.2s\n",
      "540:\tlearn: 0.0689875\ttotal: 16.7s\tremaining: 14.2s\n",
      "541:\tlearn: 0.0689672\ttotal: 16.8s\tremaining: 14.2s\n",
      "542:\tlearn: 0.0689243\ttotal: 16.8s\tremaining: 14.2s\n",
      "543:\tlearn: 0.0688507\ttotal: 16.9s\tremaining: 14.2s\n",
      "544:\tlearn: 0.0688153\ttotal: 16.9s\tremaining: 14.1s\n",
      "545:\tlearn: 0.0687841\ttotal: 17s\tremaining: 14.1s\n",
      "546:\tlearn: 0.0687561\ttotal: 17.1s\tremaining: 14.1s\n",
      "547:\tlearn: 0.0687198\ttotal: 17.1s\tremaining: 14.1s\n",
      "548:\tlearn: 0.0686846\ttotal: 17.2s\tremaining: 14.1s\n",
      "549:\tlearn: 0.0686645\ttotal: 17.3s\tremaining: 14.1s\n",
      "550:\tlearn: 0.0686429\ttotal: 17.3s\tremaining: 14.1s\n",
      "551:\tlearn: 0.0686122\ttotal: 17.4s\tremaining: 14.1s\n",
      "552:\tlearn: 0.0685908\ttotal: 17.4s\tremaining: 14.1s\n",
      "553:\tlearn: 0.0685571\ttotal: 17.5s\tremaining: 14.1s\n",
      "554:\tlearn: 0.0685149\ttotal: 17.6s\tremaining: 14.1s\n",
      "555:\tlearn: 0.0684809\ttotal: 17.6s\tremaining: 14.1s\n",
      "556:\tlearn: 0.0684493\ttotal: 17.7s\tremaining: 14.1s\n",
      "557:\tlearn: 0.0683792\ttotal: 17.7s\tremaining: 14.1s\n",
      "558:\tlearn: 0.0683507\ttotal: 17.9s\tremaining: 14.1s\n",
      "559:\tlearn: 0.0683207\ttotal: 18s\tremaining: 14.1s\n",
      "560:\tlearn: 0.0683037\ttotal: 18s\tremaining: 14.1s\n",
      "561:\tlearn: 0.0682715\ttotal: 18.1s\tremaining: 14.1s\n",
      "562:\tlearn: 0.0682581\ttotal: 18.1s\tremaining: 14.1s\n",
      "563:\tlearn: 0.0682413\ttotal: 18.2s\tremaining: 14.1s\n",
      "564:\tlearn: 0.0682132\ttotal: 18.3s\tremaining: 14.1s\n",
      "565:\tlearn: 0.0681804\ttotal: 18.3s\tremaining: 14.1s\n",
      "566:\tlearn: 0.0681067\ttotal: 18.4s\tremaining: 14s\n",
      "567:\tlearn: 0.0680685\ttotal: 18.5s\tremaining: 14s\n",
      "568:\tlearn: 0.0680462\ttotal: 18.6s\tremaining: 14.1s\n",
      "569:\tlearn: 0.0680222\ttotal: 18.7s\tremaining: 14.1s\n",
      "570:\tlearn: 0.0679746\ttotal: 18.8s\tremaining: 14.1s\n",
      "571:\tlearn: 0.0679253\ttotal: 18.8s\tremaining: 14.1s\n",
      "572:\tlearn: 0.0678727\ttotal: 18.9s\tremaining: 14.1s\n",
      "573:\tlearn: 0.0678499\ttotal: 19s\tremaining: 14.1s\n",
      "574:\tlearn: 0.0678176\ttotal: 19s\tremaining: 14.1s\n",
      "575:\tlearn: 0.0677958\ttotal: 19.1s\tremaining: 14.1s\n",
      "576:\tlearn: 0.0676708\ttotal: 19.2s\tremaining: 14.1s\n",
      "577:\tlearn: 0.0676380\ttotal: 19.2s\tremaining: 14.1s\n",
      "578:\tlearn: 0.0675818\ttotal: 19.3s\tremaining: 14.1s\n",
      "579:\tlearn: 0.0675354\ttotal: 19.4s\tremaining: 14s\n",
      "580:\tlearn: 0.0675072\ttotal: 19.5s\tremaining: 14s\n",
      "581:\tlearn: 0.0674376\ttotal: 19.5s\tremaining: 14s\n",
      "582:\tlearn: 0.0674176\ttotal: 19.6s\tremaining: 14s\n",
      "583:\tlearn: 0.0674006\ttotal: 19.6s\tremaining: 14s\n",
      "584:\tlearn: 0.0673775\ttotal: 19.7s\tremaining: 14s\n",
      "585:\tlearn: 0.0673508\ttotal: 19.8s\tremaining: 14s\n",
      "586:\tlearn: 0.0673320\ttotal: 19.8s\tremaining: 14s\n",
      "587:\tlearn: 0.0673048\ttotal: 19.9s\tremaining: 13.9s\n",
      "588:\tlearn: 0.0672967\ttotal: 19.9s\tremaining: 13.9s\n",
      "589:\tlearn: 0.0672615\ttotal: 20s\tremaining: 13.9s\n",
      "590:\tlearn: 0.0672376\ttotal: 20s\tremaining: 13.9s\n",
      "591:\tlearn: 0.0672208\ttotal: 20.1s\tremaining: 13.8s\n",
      "592:\tlearn: 0.0672062\ttotal: 20.1s\tremaining: 13.8s\n",
      "593:\tlearn: 0.0671708\ttotal: 20.2s\tremaining: 13.8s\n",
      "594:\tlearn: 0.0671232\ttotal: 20.2s\tremaining: 13.8s\n",
      "595:\tlearn: 0.0670820\ttotal: 20.3s\tremaining: 13.7s\n",
      "596:\tlearn: 0.0670667\ttotal: 20.3s\tremaining: 13.7s\n",
      "597:\tlearn: 0.0670438\ttotal: 20.4s\tremaining: 13.7s\n",
      "598:\tlearn: 0.0670100\ttotal: 20.5s\tremaining: 13.7s\n",
      "599:\tlearn: 0.0670003\ttotal: 20.5s\tremaining: 13.7s\n",
      "600:\tlearn: 0.0669810\ttotal: 20.6s\tremaining: 13.7s\n",
      "601:\tlearn: 0.0669463\ttotal: 20.7s\tremaining: 13.7s\n",
      "602:\tlearn: 0.0669368\ttotal: 20.7s\tremaining: 13.6s\n",
      "603:\tlearn: 0.0669208\ttotal: 20.8s\tremaining: 13.6s\n",
      "604:\tlearn: 0.0668879\ttotal: 20.8s\tremaining: 13.6s\n",
      "605:\tlearn: 0.0668533\ttotal: 20.8s\tremaining: 13.5s\n",
      "606:\tlearn: 0.0668131\ttotal: 20.9s\tremaining: 13.5s\n",
      "607:\tlearn: 0.0667764\ttotal: 21s\tremaining: 13.5s\n",
      "608:\tlearn: 0.0667517\ttotal: 21s\tremaining: 13.5s\n",
      "609:\tlearn: 0.0667405\ttotal: 21.1s\tremaining: 13.5s\n",
      "610:\tlearn: 0.0667089\ttotal: 21.1s\tremaining: 13.5s\n",
      "611:\tlearn: 0.0667000\ttotal: 21.2s\tremaining: 13.4s\n",
      "612:\tlearn: 0.0666162\ttotal: 21.2s\tremaining: 13.4s\n",
      "613:\tlearn: 0.0666064\ttotal: 21.3s\tremaining: 13.4s\n",
      "614:\tlearn: 0.0665794\ttotal: 21.4s\tremaining: 13.4s\n",
      "615:\tlearn: 0.0665502\ttotal: 21.4s\tremaining: 13.4s\n",
      "616:\tlearn: 0.0665351\ttotal: 21.5s\tremaining: 13.3s\n",
      "617:\tlearn: 0.0665177\ttotal: 21.5s\tremaining: 13.3s\n",
      "618:\tlearn: 0.0665113\ttotal: 21.6s\tremaining: 13.3s\n",
      "619:\tlearn: 0.0664771\ttotal: 21.7s\tremaining: 13.3s\n",
      "620:\tlearn: 0.0664263\ttotal: 21.7s\tremaining: 13.3s\n",
      "621:\tlearn: 0.0663922\ttotal: 21.8s\tremaining: 13.2s\n",
      "622:\tlearn: 0.0663688\ttotal: 21.9s\tremaining: 13.2s\n",
      "623:\tlearn: 0.0663229\ttotal: 21.9s\tremaining: 13.2s\n",
      "624:\tlearn: 0.0663075\ttotal: 22s\tremaining: 13.2s\n",
      "625:\tlearn: 0.0662976\ttotal: 22.2s\tremaining: 13.2s\n",
      "626:\tlearn: 0.0662754\ttotal: 22.4s\tremaining: 13.3s\n",
      "627:\tlearn: 0.0662430\ttotal: 22.5s\tremaining: 13.3s\n",
      "628:\tlearn: 0.0662113\ttotal: 22.5s\tremaining: 13.3s\n",
      "629:\tlearn: 0.0661852\ttotal: 22.6s\tremaining: 13.3s\n",
      "630:\tlearn: 0.0661438\ttotal: 22.7s\tremaining: 13.3s\n",
      "631:\tlearn: 0.0661330\ttotal: 22.7s\tremaining: 13.2s\n",
      "632:\tlearn: 0.0660852\ttotal: 22.8s\tremaining: 13.2s\n",
      "633:\tlearn: 0.0660571\ttotal: 22.9s\tremaining: 13.2s\n",
      "634:\tlearn: 0.0660246\ttotal: 22.9s\tremaining: 13.2s\n",
      "635:\tlearn: 0.0660016\ttotal: 23s\tremaining: 13.2s\n",
      "636:\tlearn: 0.0659904\ttotal: 23.1s\tremaining: 13.2s\n",
      "637:\tlearn: 0.0659839\ttotal: 23.1s\tremaining: 13.1s\n",
      "638:\tlearn: 0.0659703\ttotal: 23.2s\tremaining: 13.1s\n",
      "639:\tlearn: 0.0659547\ttotal: 23.3s\tremaining: 13.1s\n",
      "640:\tlearn: 0.0659431\ttotal: 23.3s\tremaining: 13.1s\n",
      "641:\tlearn: 0.0658899\ttotal: 23.5s\tremaining: 13.1s\n",
      "642:\tlearn: 0.0658420\ttotal: 23.6s\tremaining: 13.1s\n",
      "643:\tlearn: 0.0658223\ttotal: 23.6s\tremaining: 13.1s\n",
      "644:\tlearn: 0.0658029\ttotal: 23.7s\tremaining: 13s\n",
      "645:\tlearn: 0.0657855\ttotal: 23.8s\tremaining: 13s\n",
      "646:\tlearn: 0.0657588\ttotal: 23.9s\tremaining: 13s\n",
      "647:\tlearn: 0.0657402\ttotal: 24s\tremaining: 13s\n",
      "648:\tlearn: 0.0657129\ttotal: 24.1s\tremaining: 13s\n",
      "649:\tlearn: 0.0656875\ttotal: 24.1s\tremaining: 13s\n",
      "650:\tlearn: 0.0656571\ttotal: 24.2s\tremaining: 13s\n",
      "651:\tlearn: 0.0656470\ttotal: 24.3s\tremaining: 13s\n",
      "652:\tlearn: 0.0656183\ttotal: 24.4s\tremaining: 13s\n",
      "653:\tlearn: 0.0655852\ttotal: 24.5s\tremaining: 12.9s\n",
      "654:\tlearn: 0.0655476\ttotal: 24.5s\tremaining: 12.9s\n",
      "655:\tlearn: 0.0655337\ttotal: 24.6s\tremaining: 12.9s\n",
      "656:\tlearn: 0.0654826\ttotal: 24.7s\tremaining: 12.9s\n",
      "657:\tlearn: 0.0654564\ttotal: 24.8s\tremaining: 12.9s\n",
      "658:\tlearn: 0.0654058\ttotal: 24.9s\tremaining: 12.9s\n",
      "659:\tlearn: 0.0653601\ttotal: 25s\tremaining: 12.9s\n",
      "660:\tlearn: 0.0653294\ttotal: 25.1s\tremaining: 12.9s\n",
      "661:\tlearn: 0.0652917\ttotal: 25.3s\tremaining: 12.9s\n",
      "662:\tlearn: 0.0652844\ttotal: 25.4s\tremaining: 12.9s\n",
      "663:\tlearn: 0.0652451\ttotal: 25.4s\tremaining: 12.9s\n",
      "664:\tlearn: 0.0652345\ttotal: 25.5s\tremaining: 12.9s\n",
      "665:\tlearn: 0.0652002\ttotal: 25.6s\tremaining: 12.8s\n",
      "666:\tlearn: 0.0651733\ttotal: 25.7s\tremaining: 12.8s\n",
      "667:\tlearn: 0.0651699\ttotal: 25.7s\tremaining: 12.8s\n",
      "668:\tlearn: 0.0651544\ttotal: 25.8s\tremaining: 12.8s\n",
      "669:\tlearn: 0.0651263\ttotal: 25.8s\tremaining: 12.7s\n",
      "670:\tlearn: 0.0650970\ttotal: 25.9s\tremaining: 12.7s\n",
      "671:\tlearn: 0.0650799\ttotal: 26s\tremaining: 12.7s\n",
      "672:\tlearn: 0.0650519\ttotal: 26s\tremaining: 12.6s\n",
      "673:\tlearn: 0.0650276\ttotal: 26.1s\tremaining: 12.6s\n",
      "674:\tlearn: 0.0649956\ttotal: 26.2s\tremaining: 12.6s\n",
      "675:\tlearn: 0.0649582\ttotal: 26.3s\tremaining: 12.6s\n",
      "676:\tlearn: 0.0649272\ttotal: 26.3s\tremaining: 12.6s\n",
      "677:\tlearn: 0.0648951\ttotal: 26.4s\tremaining: 12.5s\n",
      "678:\tlearn: 0.0648591\ttotal: 26.5s\tremaining: 12.5s\n",
      "679:\tlearn: 0.0647963\ttotal: 26.5s\tremaining: 12.5s\n",
      "680:\tlearn: 0.0647472\ttotal: 26.6s\tremaining: 12.5s\n",
      "681:\tlearn: 0.0647213\ttotal: 26.8s\tremaining: 12.5s\n",
      "682:\tlearn: 0.0646740\ttotal: 27.1s\tremaining: 12.6s\n",
      "683:\tlearn: 0.0646503\ttotal: 27.2s\tremaining: 12.6s\n",
      "684:\tlearn: 0.0646217\ttotal: 27.3s\tremaining: 12.6s\n",
      "685:\tlearn: 0.0645914\ttotal: 27.4s\tremaining: 12.5s\n",
      "686:\tlearn: 0.0645787\ttotal: 27.4s\tremaining: 12.5s\n",
      "687:\tlearn: 0.0645644\ttotal: 27.5s\tremaining: 12.5s\n",
      "688:\tlearn: 0.0645320\ttotal: 27.6s\tremaining: 12.4s\n",
      "689:\tlearn: 0.0645057\ttotal: 27.7s\tremaining: 12.4s\n",
      "690:\tlearn: 0.0644903\ttotal: 27.7s\tremaining: 12.4s\n",
      "691:\tlearn: 0.0644686\ttotal: 27.8s\tremaining: 12.4s\n",
      "692:\tlearn: 0.0644449\ttotal: 27.9s\tremaining: 12.3s\n",
      "693:\tlearn: 0.0644225\ttotal: 28s\tremaining: 12.3s\n",
      "694:\tlearn: 0.0643923\ttotal: 28s\tremaining: 12.3s\n",
      "695:\tlearn: 0.0643418\ttotal: 28.1s\tremaining: 12.3s\n",
      "696:\tlearn: 0.0642982\ttotal: 28.1s\tremaining: 12.2s\n",
      "697:\tlearn: 0.0642307\ttotal: 28.2s\tremaining: 12.2s\n",
      "698:\tlearn: 0.0642139\ttotal: 28.2s\tremaining: 12.2s\n",
      "699:\tlearn: 0.0642040\ttotal: 28.3s\tremaining: 12.1s\n",
      "700:\tlearn: 0.0641790\ttotal: 28.4s\tremaining: 12.1s\n",
      "701:\tlearn: 0.0641574\ttotal: 28.4s\tremaining: 12.1s\n",
      "702:\tlearn: 0.0641486\ttotal: 28.4s\tremaining: 12s\n",
      "703:\tlearn: 0.0641353\ttotal: 28.5s\tremaining: 12s\n",
      "704:\tlearn: 0.0641109\ttotal: 28.5s\tremaining: 11.9s\n",
      "705:\tlearn: 0.0640783\ttotal: 28.5s\tremaining: 11.9s\n",
      "706:\tlearn: 0.0640512\ttotal: 28.6s\tremaining: 11.8s\n",
      "707:\tlearn: 0.0640189\ttotal: 28.6s\tremaining: 11.8s\n",
      "708:\tlearn: 0.0639870\ttotal: 28.6s\tremaining: 11.7s\n",
      "709:\tlearn: 0.0639650\ttotal: 28.6s\tremaining: 11.7s\n",
      "710:\tlearn: 0.0639385\ttotal: 28.7s\tremaining: 11.7s\n",
      "711:\tlearn: 0.0639132\ttotal: 28.7s\tremaining: 11.6s\n",
      "712:\tlearn: 0.0638815\ttotal: 28.7s\tremaining: 11.6s\n",
      "713:\tlearn: 0.0638458\ttotal: 28.7s\tremaining: 11.5s\n",
      "714:\tlearn: 0.0638153\ttotal: 28.8s\tremaining: 11.5s\n",
      "715:\tlearn: 0.0637912\ttotal: 28.8s\tremaining: 11.4s\n",
      "716:\tlearn: 0.0637600\ttotal: 28.8s\tremaining: 11.4s\n",
      "717:\tlearn: 0.0637257\ttotal: 28.8s\tremaining: 11.3s\n",
      "718:\tlearn: 0.0636972\ttotal: 28.9s\tremaining: 11.3s\n",
      "719:\tlearn: 0.0636673\ttotal: 28.9s\tremaining: 11.2s\n",
      "720:\tlearn: 0.0636549\ttotal: 28.9s\tremaining: 11.2s\n",
      "721:\tlearn: 0.0636259\ttotal: 28.9s\tremaining: 11.1s\n",
      "722:\tlearn: 0.0635973\ttotal: 29s\tremaining: 11.1s\n",
      "723:\tlearn: 0.0635835\ttotal: 29s\tremaining: 11s\n",
      "724:\tlearn: 0.0635567\ttotal: 29s\tremaining: 11s\n",
      "725:\tlearn: 0.0635137\ttotal: 29s\tremaining: 11s\n",
      "726:\tlearn: 0.0634911\ttotal: 29s\tremaining: 10.9s\n",
      "727:\tlearn: 0.0634705\ttotal: 29.1s\tremaining: 10.9s\n",
      "728:\tlearn: 0.0634499\ttotal: 29.1s\tremaining: 10.8s\n",
      "729:\tlearn: 0.0634093\ttotal: 29.1s\tremaining: 10.8s\n",
      "730:\tlearn: 0.0633806\ttotal: 29.1s\tremaining: 10.7s\n",
      "731:\tlearn: 0.0633602\ttotal: 29.2s\tremaining: 10.7s\n",
      "732:\tlearn: 0.0633141\ttotal: 29.2s\tremaining: 10.6s\n",
      "733:\tlearn: 0.0632915\ttotal: 29.2s\tremaining: 10.6s\n",
      "734:\tlearn: 0.0632716\ttotal: 29.2s\tremaining: 10.5s\n",
      "735:\tlearn: 0.0632448\ttotal: 29.3s\tremaining: 10.5s\n",
      "736:\tlearn: 0.0632089\ttotal: 29.3s\tremaining: 10.5s\n",
      "737:\tlearn: 0.0631848\ttotal: 29.3s\tremaining: 10.4s\n",
      "738:\tlearn: 0.0631546\ttotal: 29.4s\tremaining: 10.4s\n",
      "739:\tlearn: 0.0631502\ttotal: 29.4s\tremaining: 10.3s\n",
      "740:\tlearn: 0.0631182\ttotal: 29.4s\tremaining: 10.3s\n",
      "741:\tlearn: 0.0630897\ttotal: 29.5s\tremaining: 10.2s\n",
      "742:\tlearn: 0.0630866\ttotal: 29.5s\tremaining: 10.2s\n",
      "743:\tlearn: 0.0630800\ttotal: 29.5s\tremaining: 10.2s\n",
      "744:\tlearn: 0.0630717\ttotal: 29.5s\tremaining: 10.1s\n",
      "745:\tlearn: 0.0630577\ttotal: 29.5s\tremaining: 10.1s\n",
      "746:\tlearn: 0.0630208\ttotal: 29.6s\tremaining: 10s\n",
      "747:\tlearn: 0.0630090\ttotal: 29.6s\tremaining: 9.97s\n",
      "748:\tlearn: 0.0629828\ttotal: 29.6s\tremaining: 9.93s\n",
      "749:\tlearn: 0.0629671\ttotal: 29.7s\tremaining: 9.89s\n",
      "750:\tlearn: 0.0629458\ttotal: 29.7s\tremaining: 9.84s\n",
      "751:\tlearn: 0.0628887\ttotal: 29.7s\tremaining: 9.8s\n",
      "752:\tlearn: 0.0628596\ttotal: 29.7s\tremaining: 9.76s\n",
      "753:\tlearn: 0.0628402\ttotal: 29.8s\tremaining: 9.71s\n",
      "754:\tlearn: 0.0628154\ttotal: 29.8s\tremaining: 9.67s\n",
      "755:\tlearn: 0.0627708\ttotal: 29.8s\tremaining: 9.62s\n",
      "756:\tlearn: 0.0626757\ttotal: 29.8s\tremaining: 9.58s\n",
      "757:\tlearn: 0.0626568\ttotal: 29.9s\tremaining: 9.53s\n",
      "758:\tlearn: 0.0626128\ttotal: 29.9s\tremaining: 9.49s\n",
      "759:\tlearn: 0.0625781\ttotal: 29.9s\tremaining: 9.44s\n",
      "760:\tlearn: 0.0624873\ttotal: 29.9s\tremaining: 9.4s\n",
      "761:\tlearn: 0.0624672\ttotal: 29.9s\tremaining: 9.35s\n",
      "762:\tlearn: 0.0624287\ttotal: 30s\tremaining: 9.31s\n",
      "763:\tlearn: 0.0623999\ttotal: 30s\tremaining: 9.26s\n",
      "764:\tlearn: 0.0623880\ttotal: 30s\tremaining: 9.22s\n",
      "765:\tlearn: 0.0623419\ttotal: 30s\tremaining: 9.17s\n",
      "766:\tlearn: 0.0623178\ttotal: 30.1s\tremaining: 9.13s\n",
      "767:\tlearn: 0.0622885\ttotal: 30.1s\tremaining: 9.09s\n",
      "768:\tlearn: 0.0622495\ttotal: 30.1s\tremaining: 9.04s\n",
      "769:\tlearn: 0.0622199\ttotal: 30.1s\tremaining: 9s\n",
      "770:\tlearn: 0.0621731\ttotal: 30.2s\tremaining: 8.96s\n",
      "771:\tlearn: 0.0621274\ttotal: 30.2s\tremaining: 8.91s\n",
      "772:\tlearn: 0.0621180\ttotal: 30.2s\tremaining: 8.87s\n",
      "773:\tlearn: 0.0620867\ttotal: 30.2s\tremaining: 8.82s\n",
      "774:\tlearn: 0.0620295\ttotal: 30.3s\tremaining: 8.78s\n",
      "775:\tlearn: 0.0619784\ttotal: 30.3s\tremaining: 8.74s\n",
      "776:\tlearn: 0.0619510\ttotal: 30.4s\tremaining: 8.72s\n",
      "777:\tlearn: 0.0619342\ttotal: 30.5s\tremaining: 8.69s\n",
      "778:\tlearn: 0.0619160\ttotal: 30.5s\tremaining: 8.66s\n",
      "779:\tlearn: 0.0619127\ttotal: 30.5s\tremaining: 8.61s\n",
      "780:\tlearn: 0.0618960\ttotal: 30.6s\tremaining: 8.57s\n",
      "781:\tlearn: 0.0618727\ttotal: 30.6s\tremaining: 8.53s\n",
      "782:\tlearn: 0.0618654\ttotal: 30.6s\tremaining: 8.49s\n",
      "783:\tlearn: 0.0618460\ttotal: 30.7s\tremaining: 8.45s\n",
      "784:\tlearn: 0.0618036\ttotal: 30.7s\tremaining: 8.4s\n",
      "785:\tlearn: 0.0617620\ttotal: 30.7s\tremaining: 8.36s\n",
      "786:\tlearn: 0.0617396\ttotal: 30.7s\tremaining: 8.32s\n",
      "787:\tlearn: 0.0617158\ttotal: 30.8s\tremaining: 8.28s\n",
      "788:\tlearn: 0.0616928\ttotal: 30.8s\tremaining: 8.23s\n",
      "789:\tlearn: 0.0616760\ttotal: 30.8s\tremaining: 8.19s\n",
      "790:\tlearn: 0.0616357\ttotal: 30.8s\tremaining: 8.14s\n",
      "791:\tlearn: 0.0615869\ttotal: 30.8s\tremaining: 8.1s\n",
      "792:\tlearn: 0.0615633\ttotal: 30.9s\tremaining: 8.06s\n",
      "793:\tlearn: 0.0615569\ttotal: 30.9s\tremaining: 8.01s\n",
      "794:\tlearn: 0.0615344\ttotal: 30.9s\tremaining: 7.97s\n",
      "795:\tlearn: 0.0615093\ttotal: 31s\tremaining: 7.93s\n",
      "796:\tlearn: 0.0614999\ttotal: 31s\tremaining: 7.89s\n",
      "797:\tlearn: 0.0614793\ttotal: 31s\tremaining: 7.85s\n",
      "798:\tlearn: 0.0614511\ttotal: 31s\tremaining: 7.8s\n",
      "799:\tlearn: 0.0614227\ttotal: 31s\tremaining: 7.76s\n",
      "800:\tlearn: 0.0614063\ttotal: 31.1s\tremaining: 7.72s\n",
      "801:\tlearn: 0.0613299\ttotal: 31.1s\tremaining: 7.68s\n",
      "802:\tlearn: 0.0613248\ttotal: 31.1s\tremaining: 7.63s\n",
      "803:\tlearn: 0.0613061\ttotal: 31.1s\tremaining: 7.59s\n",
      "804:\tlearn: 0.0612691\ttotal: 31.2s\tremaining: 7.55s\n",
      "805:\tlearn: 0.0612483\ttotal: 31.2s\tremaining: 7.51s\n",
      "806:\tlearn: 0.0611181\ttotal: 31.2s\tremaining: 7.46s\n",
      "807:\tlearn: 0.0610853\ttotal: 31.2s\tremaining: 7.42s\n",
      "808:\tlearn: 0.0610447\ttotal: 31.3s\tremaining: 7.38s\n",
      "809:\tlearn: 0.0610227\ttotal: 31.3s\tremaining: 7.34s\n",
      "810:\tlearn: 0.0610054\ttotal: 31.3s\tremaining: 7.3s\n",
      "811:\tlearn: 0.0609759\ttotal: 31.4s\tremaining: 7.28s\n",
      "812:\tlearn: 0.0609617\ttotal: 31.5s\tremaining: 7.24s\n",
      "813:\tlearn: 0.0609373\ttotal: 31.5s\tremaining: 7.2s\n",
      "814:\tlearn: 0.0609073\ttotal: 31.5s\tremaining: 7.15s\n",
      "815:\tlearn: 0.0608831\ttotal: 31.5s\tremaining: 7.11s\n",
      "816:\tlearn: 0.0608560\ttotal: 31.6s\tremaining: 7.07s\n",
      "817:\tlearn: 0.0608202\ttotal: 31.6s\tremaining: 7.03s\n",
      "818:\tlearn: 0.0607996\ttotal: 31.6s\tremaining: 6.99s\n",
      "819:\tlearn: 0.0607729\ttotal: 31.7s\tremaining: 6.95s\n",
      "820:\tlearn: 0.0607397\ttotal: 31.7s\tremaining: 6.91s\n",
      "821:\tlearn: 0.0606626\ttotal: 31.7s\tremaining: 6.86s\n",
      "822:\tlearn: 0.0606432\ttotal: 31.7s\tremaining: 6.82s\n",
      "823:\tlearn: 0.0606200\ttotal: 31.7s\tremaining: 6.78s\n",
      "824:\tlearn: 0.0605975\ttotal: 31.8s\tremaining: 6.74s\n",
      "825:\tlearn: 0.0605732\ttotal: 31.8s\tremaining: 6.7s\n",
      "826:\tlearn: 0.0605553\ttotal: 31.8s\tremaining: 6.66s\n",
      "827:\tlearn: 0.0605188\ttotal: 31.9s\tremaining: 6.62s\n",
      "828:\tlearn: 0.0604874\ttotal: 31.9s\tremaining: 6.57s\n",
      "829:\tlearn: 0.0604744\ttotal: 31.9s\tremaining: 6.53s\n",
      "830:\tlearn: 0.0604642\ttotal: 31.9s\tremaining: 6.49s\n",
      "831:\tlearn: 0.0604431\ttotal: 32s\tremaining: 6.45s\n",
      "832:\tlearn: 0.0604155\ttotal: 32s\tremaining: 6.41s\n",
      "833:\tlearn: 0.0603942\ttotal: 32s\tremaining: 6.37s\n",
      "834:\tlearn: 0.0603594\ttotal: 32s\tremaining: 6.33s\n",
      "835:\tlearn: 0.0603346\ttotal: 32.1s\tremaining: 6.29s\n",
      "836:\tlearn: 0.0603206\ttotal: 32.1s\tremaining: 6.25s\n",
      "837:\tlearn: 0.0602990\ttotal: 32.1s\tremaining: 6.21s\n",
      "838:\tlearn: 0.0602670\ttotal: 32.1s\tremaining: 6.17s\n",
      "839:\tlearn: 0.0602597\ttotal: 32.1s\tremaining: 6.12s\n",
      "840:\tlearn: 0.0602405\ttotal: 32.2s\tremaining: 6.08s\n",
      "841:\tlearn: 0.0602202\ttotal: 32.2s\tremaining: 6.04s\n",
      "842:\tlearn: 0.0601898\ttotal: 32.2s\tremaining: 6s\n",
      "843:\tlearn: 0.0601698\ttotal: 32.2s\tremaining: 5.96s\n",
      "844:\tlearn: 0.0601380\ttotal: 32.3s\tremaining: 5.92s\n",
      "845:\tlearn: 0.0601154\ttotal: 32.3s\tremaining: 5.88s\n",
      "846:\tlearn: 0.0600853\ttotal: 32.3s\tremaining: 5.83s\n",
      "847:\tlearn: 0.0600638\ttotal: 32.3s\tremaining: 5.79s\n",
      "848:\tlearn: 0.0600430\ttotal: 32.3s\tremaining: 5.75s\n",
      "849:\tlearn: 0.0600269\ttotal: 32.4s\tremaining: 5.71s\n",
      "850:\tlearn: 0.0600224\ttotal: 32.4s\tremaining: 5.67s\n",
      "851:\tlearn: 0.0600164\ttotal: 32.4s\tremaining: 5.63s\n",
      "852:\tlearn: 0.0599875\ttotal: 32.4s\tremaining: 5.59s\n",
      "853:\tlearn: 0.0599603\ttotal: 32.4s\tremaining: 5.55s\n",
      "854:\tlearn: 0.0599446\ttotal: 32.5s\tremaining: 5.51s\n",
      "855:\tlearn: 0.0599243\ttotal: 32.5s\tremaining: 5.47s\n",
      "856:\tlearn: 0.0598647\ttotal: 32.6s\tremaining: 5.43s\n",
      "857:\tlearn: 0.0598185\ttotal: 32.6s\tremaining: 5.39s\n",
      "858:\tlearn: 0.0597968\ttotal: 32.6s\tremaining: 5.35s\n",
      "859:\tlearn: 0.0597730\ttotal: 32.6s\tremaining: 5.31s\n",
      "860:\tlearn: 0.0597421\ttotal: 32.6s\tremaining: 5.27s\n",
      "861:\tlearn: 0.0597225\ttotal: 32.7s\tremaining: 5.23s\n",
      "862:\tlearn: 0.0596882\ttotal: 32.7s\tremaining: 5.19s\n",
      "863:\tlearn: 0.0596655\ttotal: 32.7s\tremaining: 5.15s\n",
      "864:\tlearn: 0.0596412\ttotal: 32.7s\tremaining: 5.11s\n",
      "865:\tlearn: 0.0596397\ttotal: 32.7s\tremaining: 5.07s\n",
      "866:\tlearn: 0.0596332\ttotal: 32.8s\tremaining: 5.03s\n",
      "867:\tlearn: 0.0596223\ttotal: 32.8s\tremaining: 4.99s\n",
      "868:\tlearn: 0.0595912\ttotal: 32.8s\tremaining: 4.95s\n",
      "869:\tlearn: 0.0595706\ttotal: 32.8s\tremaining: 4.9s\n",
      "870:\tlearn: 0.0595561\ttotal: 32.8s\tremaining: 4.87s\n",
      "871:\tlearn: 0.0595368\ttotal: 32.9s\tremaining: 4.83s\n",
      "872:\tlearn: 0.0595152\ttotal: 32.9s\tremaining: 4.79s\n",
      "873:\tlearn: 0.0595103\ttotal: 32.9s\tremaining: 4.75s\n",
      "874:\tlearn: 0.0594864\ttotal: 32.9s\tremaining: 4.71s\n",
      "875:\tlearn: 0.0594612\ttotal: 33s\tremaining: 4.66s\n",
      "876:\tlearn: 0.0594407\ttotal: 33s\tremaining: 4.62s\n",
      "877:\tlearn: 0.0594070\ttotal: 33s\tremaining: 4.58s\n",
      "878:\tlearn: 0.0593836\ttotal: 33s\tremaining: 4.54s\n",
      "879:\tlearn: 0.0593585\ttotal: 33s\tremaining: 4.5s\n",
      "880:\tlearn: 0.0593331\ttotal: 33.1s\tremaining: 4.46s\n",
      "881:\tlearn: 0.0592995\ttotal: 33.1s\tremaining: 4.42s\n",
      "882:\tlearn: 0.0592745\ttotal: 33.1s\tremaining: 4.39s\n",
      "883:\tlearn: 0.0592056\ttotal: 33.1s\tremaining: 4.35s\n",
      "884:\tlearn: 0.0591660\ttotal: 33.1s\tremaining: 4.31s\n",
      "885:\tlearn: 0.0591403\ttotal: 33.2s\tremaining: 4.27s\n",
      "886:\tlearn: 0.0591208\ttotal: 33.2s\tremaining: 4.23s\n",
      "887:\tlearn: 0.0591126\ttotal: 33.2s\tremaining: 4.19s\n",
      "888:\tlearn: 0.0590857\ttotal: 33.2s\tremaining: 4.15s\n",
      "889:\tlearn: 0.0590716\ttotal: 33.2s\tremaining: 4.11s\n",
      "890:\tlearn: 0.0590596\ttotal: 33.3s\tremaining: 4.07s\n",
      "891:\tlearn: 0.0590534\ttotal: 33.3s\tremaining: 4.03s\n",
      "892:\tlearn: 0.0590085\ttotal: 33.3s\tremaining: 3.99s\n",
      "893:\tlearn: 0.0589697\ttotal: 33.3s\tremaining: 3.95s\n",
      "894:\tlearn: 0.0589464\ttotal: 33.4s\tremaining: 3.91s\n",
      "895:\tlearn: 0.0589188\ttotal: 33.4s\tremaining: 3.88s\n",
      "896:\tlearn: 0.0588868\ttotal: 33.4s\tremaining: 3.84s\n",
      "897:\tlearn: 0.0588758\ttotal: 33.4s\tremaining: 3.8s\n",
      "898:\tlearn: 0.0588490\ttotal: 33.5s\tremaining: 3.76s\n",
      "899:\tlearn: 0.0588240\ttotal: 33.5s\tremaining: 3.72s\n",
      "900:\tlearn: 0.0588022\ttotal: 33.5s\tremaining: 3.68s\n",
      "901:\tlearn: 0.0587888\ttotal: 33.5s\tremaining: 3.64s\n",
      "902:\tlearn: 0.0587742\ttotal: 33.5s\tremaining: 3.6s\n",
      "903:\tlearn: 0.0587475\ttotal: 33.6s\tremaining: 3.56s\n",
      "904:\tlearn: 0.0587465\ttotal: 33.6s\tremaining: 3.53s\n",
      "905:\tlearn: 0.0587153\ttotal: 33.6s\tremaining: 3.49s\n",
      "906:\tlearn: 0.0587052\ttotal: 33.6s\tremaining: 3.45s\n",
      "907:\tlearn: 0.0586835\ttotal: 33.7s\tremaining: 3.41s\n",
      "908:\tlearn: 0.0586454\ttotal: 33.7s\tremaining: 3.37s\n",
      "909:\tlearn: 0.0586200\ttotal: 33.7s\tremaining: 3.33s\n",
      "910:\tlearn: 0.0585861\ttotal: 33.7s\tremaining: 3.29s\n",
      "911:\tlearn: 0.0585644\ttotal: 33.7s\tremaining: 3.26s\n",
      "912:\tlearn: 0.0585459\ttotal: 33.8s\tremaining: 3.22s\n",
      "913:\tlearn: 0.0585160\ttotal: 33.8s\tremaining: 3.18s\n",
      "914:\tlearn: 0.0585118\ttotal: 33.8s\tremaining: 3.14s\n",
      "915:\tlearn: 0.0584943\ttotal: 33.8s\tremaining: 3.1s\n",
      "916:\tlearn: 0.0584672\ttotal: 33.9s\tremaining: 3.06s\n",
      "917:\tlearn: 0.0584562\ttotal: 33.9s\tremaining: 3.02s\n",
      "918:\tlearn: 0.0584376\ttotal: 33.9s\tremaining: 2.99s\n",
      "919:\tlearn: 0.0584162\ttotal: 33.9s\tremaining: 2.95s\n",
      "920:\tlearn: 0.0583853\ttotal: 33.9s\tremaining: 2.91s\n",
      "921:\tlearn: 0.0583595\ttotal: 34s\tremaining: 2.87s\n",
      "922:\tlearn: 0.0583536\ttotal: 34s\tremaining: 2.83s\n",
      "923:\tlearn: 0.0583254\ttotal: 34s\tremaining: 2.8s\n",
      "924:\tlearn: 0.0582969\ttotal: 34s\tremaining: 2.76s\n",
      "925:\tlearn: 0.0582766\ttotal: 34s\tremaining: 2.72s\n",
      "926:\tlearn: 0.0582481\ttotal: 34.1s\tremaining: 2.68s\n",
      "927:\tlearn: 0.0582299\ttotal: 34.1s\tremaining: 2.64s\n",
      "928:\tlearn: 0.0582242\ttotal: 34.1s\tremaining: 2.61s\n",
      "929:\tlearn: 0.0582184\ttotal: 34.1s\tremaining: 2.57s\n",
      "930:\tlearn: 0.0581829\ttotal: 34.2s\tremaining: 2.53s\n",
      "931:\tlearn: 0.0581698\ttotal: 34.2s\tremaining: 2.49s\n",
      "932:\tlearn: 0.0581336\ttotal: 34.2s\tremaining: 2.46s\n",
      "933:\tlearn: 0.0581240\ttotal: 34.2s\tremaining: 2.42s\n",
      "934:\tlearn: 0.0580944\ttotal: 34.2s\tremaining: 2.38s\n",
      "935:\tlearn: 0.0580741\ttotal: 34.3s\tremaining: 2.34s\n",
      "936:\tlearn: 0.0580580\ttotal: 34.3s\tremaining: 2.3s\n",
      "937:\tlearn: 0.0580268\ttotal: 34.3s\tremaining: 2.27s\n",
      "938:\tlearn: 0.0580118\ttotal: 34.3s\tremaining: 2.23s\n",
      "939:\tlearn: 0.0579910\ttotal: 34.3s\tremaining: 2.19s\n",
      "940:\tlearn: 0.0579549\ttotal: 34.4s\tremaining: 2.15s\n",
      "941:\tlearn: 0.0579262\ttotal: 34.4s\tremaining: 2.12s\n",
      "942:\tlearn: 0.0578952\ttotal: 34.4s\tremaining: 2.08s\n",
      "943:\tlearn: 0.0578646\ttotal: 34.4s\tremaining: 2.04s\n",
      "944:\tlearn: 0.0578428\ttotal: 34.5s\tremaining: 2s\n",
      "945:\tlearn: 0.0578224\ttotal: 34.5s\tremaining: 1.97s\n",
      "946:\tlearn: 0.0578085\ttotal: 34.5s\tremaining: 1.93s\n",
      "947:\tlearn: 0.0577864\ttotal: 34.5s\tremaining: 1.89s\n",
      "948:\tlearn: 0.0577733\ttotal: 34.6s\tremaining: 1.86s\n",
      "949:\tlearn: 0.0577364\ttotal: 34.6s\tremaining: 1.82s\n",
      "950:\tlearn: 0.0576952\ttotal: 34.6s\tremaining: 1.78s\n",
      "951:\tlearn: 0.0576706\ttotal: 34.6s\tremaining: 1.75s\n",
      "952:\tlearn: 0.0576391\ttotal: 34.7s\tremaining: 1.71s\n",
      "953:\tlearn: 0.0576180\ttotal: 34.7s\tremaining: 1.67s\n",
      "954:\tlearn: 0.0575930\ttotal: 34.7s\tremaining: 1.64s\n",
      "955:\tlearn: 0.0575657\ttotal: 34.7s\tremaining: 1.6s\n",
      "956:\tlearn: 0.0575544\ttotal: 34.7s\tremaining: 1.56s\n",
      "957:\tlearn: 0.0575326\ttotal: 34.8s\tremaining: 1.52s\n",
      "958:\tlearn: 0.0575222\ttotal: 34.8s\tremaining: 1.49s\n",
      "959:\tlearn: 0.0574971\ttotal: 34.8s\tremaining: 1.45s\n",
      "960:\tlearn: 0.0574698\ttotal: 34.8s\tremaining: 1.41s\n",
      "961:\tlearn: 0.0574424\ttotal: 34.9s\tremaining: 1.38s\n",
      "962:\tlearn: 0.0574250\ttotal: 34.9s\tremaining: 1.34s\n",
      "963:\tlearn: 0.0574133\ttotal: 34.9s\tremaining: 1.3s\n",
      "964:\tlearn: 0.0573856\ttotal: 34.9s\tremaining: 1.27s\n",
      "965:\tlearn: 0.0573476\ttotal: 34.9s\tremaining: 1.23s\n",
      "966:\tlearn: 0.0573251\ttotal: 35s\tremaining: 1.19s\n",
      "967:\tlearn: 0.0573137\ttotal: 35s\tremaining: 1.16s\n",
      "968:\tlearn: 0.0572939\ttotal: 35s\tremaining: 1.12s\n",
      "969:\tlearn: 0.0572930\ttotal: 35s\tremaining: 1.08s\n",
      "970:\tlearn: 0.0572794\ttotal: 35s\tremaining: 1.05s\n",
      "971:\tlearn: 0.0572567\ttotal: 35.1s\tremaining: 1.01s\n",
      "972:\tlearn: 0.0572447\ttotal: 35.1s\tremaining: 973ms\n",
      "973:\tlearn: 0.0572186\ttotal: 35.1s\tremaining: 937ms\n",
      "974:\tlearn: 0.0571993\ttotal: 35.1s\tremaining: 900ms\n",
      "975:\tlearn: 0.0571625\ttotal: 35.1s\tremaining: 864ms\n",
      "976:\tlearn: 0.0571590\ttotal: 35.2s\tremaining: 828ms\n",
      "977:\tlearn: 0.0571467\ttotal: 35.2s\tremaining: 791ms\n",
      "978:\tlearn: 0.0571316\ttotal: 35.2s\tremaining: 755ms\n",
      "979:\tlearn: 0.0571045\ttotal: 35.2s\tremaining: 719ms\n",
      "980:\tlearn: 0.0570813\ttotal: 35.2s\tremaining: 683ms\n",
      "981:\tlearn: 0.0570576\ttotal: 35.3s\tremaining: 647ms\n",
      "982:\tlearn: 0.0570457\ttotal: 35.3s\tremaining: 610ms\n",
      "983:\tlearn: 0.0570190\ttotal: 35.3s\tremaining: 574ms\n",
      "984:\tlearn: 0.0570048\ttotal: 35.3s\tremaining: 538ms\n",
      "985:\tlearn: 0.0569787\ttotal: 35.4s\tremaining: 502ms\n",
      "986:\tlearn: 0.0569525\ttotal: 35.4s\tremaining: 466ms\n",
      "987:\tlearn: 0.0569401\ttotal: 35.4s\tremaining: 430ms\n",
      "988:\tlearn: 0.0569286\ttotal: 35.4s\tremaining: 394ms\n",
      "989:\tlearn: 0.0569111\ttotal: 35.4s\tremaining: 358ms\n",
      "990:\tlearn: 0.0569019\ttotal: 35.5s\tremaining: 322ms\n",
      "991:\tlearn: 0.0568956\ttotal: 35.5s\tremaining: 286ms\n",
      "992:\tlearn: 0.0568660\ttotal: 35.5s\tremaining: 250ms\n",
      "993:\tlearn: 0.0568428\ttotal: 35.5s\tremaining: 214ms\n",
      "994:\tlearn: 0.0568293\ttotal: 35.5s\tremaining: 179ms\n",
      "995:\tlearn: 0.0567923\ttotal: 35.6s\tremaining: 143ms\n",
      "996:\tlearn: 0.0567746\ttotal: 35.6s\tremaining: 107ms\n",
      "997:\tlearn: 0.0567630\ttotal: 35.6s\tremaining: 71.4ms\n",
      "998:\tlearn: 0.0567166\ttotal: 35.6s\tremaining: 35.7ms\n",
      "999:\tlearn: 0.0566861\ttotal: 35.6s\tremaining: 0us\n"
     ]
    },
    {
     "data": {
      "text/plain": [
       "0.9605072866837246"
      ]
     },
     "execution_count": 56,
     "metadata": {},
     "output_type": "execute_result"
    }
   ],
   "source": [
    "model = CatBoostClassifier(random_state=26)\n",
    "model.fit(X_train, y_train)\n",
    "preds_class = model.predict(X_test)\n",
    "f1_score(preds_class, y_test)"
   ]
  },
  {
   "cell_type": "markdown",
   "metadata": {},
   "source": [
    "ЗАДАНИЕ 6.12"
   ]
  },
  {
   "cell_type": "code",
   "execution_count": 59,
   "metadata": {},
   "outputs": [
    {
     "name": "stdout",
     "output_type": "stream",
     "text": [
      "[[46681.   525.]\n",
      " [ 1247. 34670.]]\n"
     ]
    }
   ],
   "source": [
    "cm = get_confusion_matrix(model, Pool(X_train, y_train))\n",
    "print(cm)"
   ]
  },
  {
   "cell_type": "markdown",
   "metadata": {},
   "source": [
    "ЗАДАНИЕ 6.13"
   ]
  },
  {
   "cell_type": "code",
   "execution_count": 61,
   "metadata": {},
   "outputs": [
    {
     "data": {
      "text/html": [
       "<style>#sk-container-id-1 {color: black;background-color: white;}#sk-container-id-1 pre{padding: 0;}#sk-container-id-1 div.sk-toggleable {background-color: white;}#sk-container-id-1 label.sk-toggleable__label {cursor: pointer;display: block;width: 100%;margin-bottom: 0;padding: 0.3em;box-sizing: border-box;text-align: center;}#sk-container-id-1 label.sk-toggleable__label-arrow:before {content: \"▸\";float: left;margin-right: 0.25em;color: #696969;}#sk-container-id-1 label.sk-toggleable__label-arrow:hover:before {color: black;}#sk-container-id-1 div.sk-estimator:hover label.sk-toggleable__label-arrow:before {color: black;}#sk-container-id-1 div.sk-toggleable__content {max-height: 0;max-width: 0;overflow: hidden;text-align: left;background-color: #f0f8ff;}#sk-container-id-1 div.sk-toggleable__content pre {margin: 0.2em;color: black;border-radius: 0.25em;background-color: #f0f8ff;}#sk-container-id-1 input.sk-toggleable__control:checked~div.sk-toggleable__content {max-height: 200px;max-width: 100%;overflow: auto;}#sk-container-id-1 input.sk-toggleable__control:checked~label.sk-toggleable__label-arrow:before {content: \"▾\";}#sk-container-id-1 div.sk-estimator input.sk-toggleable__control:checked~label.sk-toggleable__label {background-color: #d4ebff;}#sk-container-id-1 div.sk-label input.sk-toggleable__control:checked~label.sk-toggleable__label {background-color: #d4ebff;}#sk-container-id-1 input.sk-hidden--visually {border: 0;clip: rect(1px 1px 1px 1px);clip: rect(1px, 1px, 1px, 1px);height: 1px;margin: -1px;overflow: hidden;padding: 0;position: absolute;width: 1px;}#sk-container-id-1 div.sk-estimator {font-family: monospace;background-color: #f0f8ff;border: 1px dotted black;border-radius: 0.25em;box-sizing: border-box;margin-bottom: 0.5em;}#sk-container-id-1 div.sk-estimator:hover {background-color: #d4ebff;}#sk-container-id-1 div.sk-parallel-item::after {content: \"\";width: 100%;border-bottom: 1px solid gray;flex-grow: 1;}#sk-container-id-1 div.sk-label:hover label.sk-toggleable__label {background-color: #d4ebff;}#sk-container-id-1 div.sk-serial::before {content: \"\";position: absolute;border-left: 1px solid gray;box-sizing: border-box;top: 0;bottom: 0;left: 50%;z-index: 0;}#sk-container-id-1 div.sk-serial {display: flex;flex-direction: column;align-items: center;background-color: white;padding-right: 0.2em;padding-left: 0.2em;position: relative;}#sk-container-id-1 div.sk-item {position: relative;z-index: 1;}#sk-container-id-1 div.sk-parallel {display: flex;align-items: stretch;justify-content: center;background-color: white;position: relative;}#sk-container-id-1 div.sk-item::before, #sk-container-id-1 div.sk-parallel-item::before {content: \"\";position: absolute;border-left: 1px solid gray;box-sizing: border-box;top: 0;bottom: 0;left: 50%;z-index: -1;}#sk-container-id-1 div.sk-parallel-item {display: flex;flex-direction: column;z-index: 1;position: relative;background-color: white;}#sk-container-id-1 div.sk-parallel-item:first-child::after {align-self: flex-end;width: 50%;}#sk-container-id-1 div.sk-parallel-item:last-child::after {align-self: flex-start;width: 50%;}#sk-container-id-1 div.sk-parallel-item:only-child::after {width: 0;}#sk-container-id-1 div.sk-dashed-wrapped {border: 1px dashed gray;margin: 0 0.4em 0.5em 0.4em;box-sizing: border-box;padding-bottom: 0.4em;background-color: white;}#sk-container-id-1 div.sk-label label {font-family: monospace;font-weight: bold;display: inline-block;line-height: 1.2em;}#sk-container-id-1 div.sk-label-container {text-align: center;}#sk-container-id-1 div.sk-container {/* jupyter's `normalize.less` sets `[hidden] { display: none; }` but bootstrap.min.css set `[hidden] { display: none !important; }` so we also need the `!important` here to be able to override the default hidden behavior on the sphinx rendered scikit-learn.org. See: https://github.com/scikit-learn/scikit-learn/issues/21755 */display: inline-block !important;position: relative;}#sk-container-id-1 div.sk-text-repr-fallback {display: none;}</style><div id=\"sk-container-id-1\" class=\"sk-top-container\"><div class=\"sk-text-repr-fallback\"><pre>RandomForestClassifier(max_depth=15, max_features=7, min_samples_leaf=3,\n",
       "                       random_state=31)</pre><b>In a Jupyter environment, please rerun this cell to show the HTML representation or trust the notebook. <br />On GitHub, the HTML representation is unable to render, please try loading this page with nbviewer.org.</b></div><div class=\"sk-container\" hidden><div class=\"sk-item\"><div class=\"sk-estimator sk-toggleable\"><input class=\"sk-toggleable__control sk-hidden--visually\" id=\"sk-estimator-id-1\" type=\"checkbox\" checked><label for=\"sk-estimator-id-1\" class=\"sk-toggleable__label sk-toggleable__label-arrow\">RandomForestClassifier</label><div class=\"sk-toggleable__content\"><pre>RandomForestClassifier(max_depth=15, max_features=7, min_samples_leaf=3,\n",
       "                       random_state=31)</pre></div></div></div></div></div>"
      ],
      "text/plain": [
       "RandomForestClassifier(max_depth=15, max_features=7, min_samples_leaf=3,\n",
       "                       random_state=31)"
      ]
     },
     "execution_count": 61,
     "metadata": {},
     "output_type": "execute_result"
    }
   ],
   "source": [
    "clf = RandomForestClassifier(max_depth=15, max_features=7, min_samples_leaf=3, random_state=31)\n",
    "clf.fit(X_train, y_train)"
   ]
  },
  {
   "cell_type": "code",
   "execution_count": 65,
   "metadata": {},
   "outputs": [
    {
     "ename": "AttributeError",
     "evalue": "'RandomForestClassifier' object has no attribute 'feature_importance'",
     "output_type": "error",
     "traceback": [
      "\u001b[1;31m---------------------------------------------------------------------------\u001b[0m",
      "\u001b[1;31mAttributeError\u001b[0m                            Traceback (most recent call last)",
      "\u001b[1;32mc:\\Users\\Psa1kl\\Desktop\\KURS_DS\\data\\math\\MATH_9\\Boost_Practice.ipynb Ячейка 34\u001b[0m line \u001b[0;36m3\n\u001b[0;32m      <a href='vscode-notebook-cell:/c%3A/Users/Psa1kl/Desktop/KURS_DS/data/math/MATH_9/Boost_Practice.ipynb#X51sZmlsZQ%3D%3D?line=0'>1</a>\u001b[0m pd\u001b[39m.\u001b[39mDataFrame(\n\u001b[0;32m      <a href='vscode-notebook-cell:/c%3A/Users/Psa1kl/Desktop/KURS_DS/data/math/MATH_9/Boost_Practice.ipynb#X51sZmlsZQ%3D%3D?line=1'>2</a>\u001b[0m     {\n\u001b[1;32m----> <a href='vscode-notebook-cell:/c%3A/Users/Psa1kl/Desktop/KURS_DS/data/math/MATH_9/Boost_Practice.ipynb#X51sZmlsZQ%3D%3D?line=2'>3</a>\u001b[0m         \u001b[39m\"\u001b[39m\u001b[39mfeature_importance\u001b[39m\u001b[39m\"\u001b[39m: clf\u001b[39m.\u001b[39;49mfeature_importance(),\n\u001b[0;32m      <a href='vscode-notebook-cell:/c%3A/Users/Psa1kl/Desktop/KURS_DS/data/math/MATH_9/Boost_Practice.ipynb#X51sZmlsZQ%3D%3D?line=3'>4</a>\u001b[0m         \u001b[39m\"\u001b[39m\u001b[39mfeature_names\u001b[39m\u001b[39m\"\u001b[39m: df\u001b[39m.\u001b[39mdrop(columns\u001b[39m=\u001b[39m\u001b[39m\"\u001b[39m\u001b[39msatisfaction\u001b[39m\u001b[39m\"\u001b[39m)\u001b[39m.\u001b[39mcolumns,\n\u001b[0;32m      <a href='vscode-notebook-cell:/c%3A/Users/Psa1kl/Desktop/KURS_DS/data/math/MATH_9/Boost_Practice.ipynb#X51sZmlsZQ%3D%3D?line=4'>5</a>\u001b[0m     }\n\u001b[0;32m      <a href='vscode-notebook-cell:/c%3A/Users/Psa1kl/Desktop/KURS_DS/data/math/MATH_9/Boost_Practice.ipynb#X51sZmlsZQ%3D%3D?line=5'>6</a>\u001b[0m )\u001b[39m.\u001b[39msort_values(by\u001b[39m=\u001b[39m[\u001b[39m\"\u001b[39m\u001b[39mfeature_importance\u001b[39m\u001b[39m\"\u001b[39m], ascending\u001b[39m=\u001b[39m\u001b[39mFalse\u001b[39;00m)\n",
      "\u001b[1;31mAttributeError\u001b[0m: 'RandomForestClassifier' object has no attribute 'feature_importance'"
     ]
    }
   ],
   "source": [
    "pd.DataFrame(\n",
    "    {\n",
    "        \"feature_importance\": clf.feature_importance(),\n",
    "        \"feature_names\": df.drop(columns=\"satisfaction\").columns,\n",
    "    }\n",
    ").sort_values(by=[\"feature_importance\"], ascending=False)\n"
   ]
  }
 ],
 "metadata": {
  "kernelspec": {
   "display_name": "Python 3",
   "language": "python",
   "name": "python3"
  },
  "language_info": {
   "codemirror_mode": {
    "name": "ipython",
    "version": 3
   },
   "file_extension": ".py",
   "mimetype": "text/x-python",
   "name": "python",
   "nbconvert_exporter": "python",
   "pygments_lexer": "ipython3",
   "version": "3.9.10"
  },
  "orig_nbformat": 4
 },
 "nbformat": 4,
 "nbformat_minor": 2
}
